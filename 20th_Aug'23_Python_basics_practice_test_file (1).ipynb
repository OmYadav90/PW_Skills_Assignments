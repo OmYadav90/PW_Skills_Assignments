{
  "nbformat": 4,
  "nbformat_minor": 0,
  "metadata": {
    "colab": {
      "provenance": []
    },
    "kernelspec": {
      "name": "python3",
      "display_name": "Python 3"
    },
    "language_info": {
      "name": "python"
    }
  },
  "cells": [
    {
      "cell_type": "markdown",
      "source": [
        "1. Write a program to reverse a string."
      ],
      "metadata": {
        "id": "NOivPoFbZhC3"
      }
    },
    {
      "cell_type": "code",
      "source": [
        "# Define a function to reverse a string\n",
        "def reverse_string(string):\n",
        "    # Initialize an empty string to store the reversed string\n",
        "    reversed_string = \"\"\n",
        "    # Loop through the characters of the original string from the end to the beginning\n",
        "    for i in range(len(string) - 1, -1, -1):\n",
        "        # Append each character to the reversed string\n",
        "        reversed_string += string[i]\n",
        "    # Return the reversed string\n",
        "    return reversed_string\n",
        "\n",
        "# Test the function with some examples\n",
        "print(reverse_string(\"Hello\")) # Output: olleH\n",
        "print(reverse_string(\"Python\")) # Output: nohtyP\n",
        "print(reverse_string(\"Bing\")) # Output: gniB"
      ],
      "metadata": {
        "colab": {
          "base_uri": "https://localhost:8080/"
        },
        "id": "Vw4gryVDZiFS",
        "outputId": "6e5d7224-1682-493b-c85f-aa11f5561069"
      },
      "execution_count": null,
      "outputs": [
        {
          "output_type": "stream",
          "name": "stdout",
          "text": [
            "olleH\n",
            "nohtyP\n",
            "gniB\n"
          ]
        }
      ]
    },
    {
      "cell_type": "markdown",
      "source": [
        "2. Check if a string is a palindrome."
      ],
      "metadata": {
        "id": "MWv1SoS1aMo4"
      }
    },
    {
      "cell_type": "code",
      "source": [
        "def is_palindrome(s):\n",
        "    # Remove spaces and convert to lowercase for case-insensitive comparison\n",
        "    s = s.replace(\" \", \"\").lower()\n",
        "    return s == s[::-1]\n",
        "\n",
        "# Example usage:\n",
        "input_string = \"A man a plan a canal Panama\"\n",
        "if is_palindrome(input_string):\n",
        "    print(f\"{input_string} is a palindrome.\")\n",
        "else:\n",
        "    print(f\"{input_string} is not a palindrome.\")"
      ],
      "metadata": {
        "id": "g_EAc4cIZo0r",
        "colab": {
          "base_uri": "https://localhost:8080/"
        },
        "outputId": "fbcd5fe6-25df-4f58-842a-affd5fb6601e"
      },
      "execution_count": null,
      "outputs": [
        {
          "output_type": "stream",
          "name": "stdout",
          "text": [
            "A man a plan a canal Panama is a palindrome.\n"
          ]
        }
      ]
    },
    {
      "cell_type": "markdown",
      "source": [
        "3 Convert a string to uppercase."
      ],
      "metadata": {
        "id": "3z-mVwNvKh6B"
      }
    },
    {
      "cell_type": "code",
      "source": [
        "original_string = \"Hello, World!\"\n",
        "uppercase_string = original_string.upper()\n",
        "\n",
        "print(f\"Original String: {original_string}\")\n",
        "print(f\"Uppercase String: {uppercase_string}\")"
      ],
      "metadata": {
        "colab": {
          "base_uri": "https://localhost:8080/"
        },
        "id": "1MbQy1_bKdzm",
        "outputId": "f0183084-5f41-4c8b-b4f8-333b8194dd71"
      },
      "execution_count": null,
      "outputs": [
        {
          "output_type": "stream",
          "name": "stdout",
          "text": [
            "Original String: Hello, World!\n",
            "Uppercase String: HELLO, WORLD!\n"
          ]
        }
      ]
    },
    {
      "cell_type": "markdown",
      "source": [
        "4 Convert a string to lowercase."
      ],
      "metadata": {
        "id": "worx_IoJKywg"
      }
    },
    {
      "cell_type": "code",
      "source": [
        "original_string = \"Hello, World!\"\n",
        "lowercase_string = original_string.lower()\n",
        "\n",
        "print(f\"Original String: {original_string}\")\n",
        "print(f\"Lowercase String: {lowercase_string}\")"
      ],
      "metadata": {
        "colab": {
          "base_uri": "https://localhost:8080/"
        },
        "id": "EhvWX7jHKrxL",
        "outputId": "e597ed3e-ed3a-4208-8598-911e2b626d91"
      },
      "execution_count": null,
      "outputs": [
        {
          "output_type": "stream",
          "name": "stdout",
          "text": [
            "Original String: Hello, World!\n",
            "Lowercase String: hello, world!\n"
          ]
        }
      ]
    },
    {
      "cell_type": "markdown",
      "source": [
        "Count the number of vowels in a string."
      ],
      "metadata": {
        "id": "yp1c0h0yK6JL"
      }
    },
    {
      "cell_type": "code",
      "source": [
        "def count_vowels(input_string):\n",
        "    vowels = \"aeiouAEIOU\"\n",
        "    count = 0\n",
        "\n",
        "    for char in input_string:\n",
        "        if char in vowels:\n",
        "            count += 1\n",
        "\n",
        "    return count\n",
        "\n",
        "# Example usage:\n",
        "input_string = \"Hello, World!\"\n",
        "vowel_count = count_vowels(input_string)\n",
        "\n",
        "print(f\"The number of vowels in '{input_string}' is: {vowel_count}\")"
      ],
      "metadata": {
        "colab": {
          "base_uri": "https://localhost:8080/"
        },
        "id": "HUpleIZVK1tH",
        "outputId": "3b1c86d6-e7cd-462e-c604-cdc8c9077ac0"
      },
      "execution_count": null,
      "outputs": [
        {
          "output_type": "stream",
          "name": "stdout",
          "text": [
            "The number of vowels in 'Hello, World!' is: 3\n"
          ]
        }
      ]
    },
    {
      "cell_type": "markdown",
      "source": [
        "Count the number of consonants in a string."
      ],
      "metadata": {
        "id": "inbA0EF-LIXV"
      }
    },
    {
      "cell_type": "code",
      "source": [
        "# Define a function to count the number of consonants in a string\n",
        "def count_consonants(string):\n",
        "    # Initialize a variable to store the count\n",
        "    count = 0\n",
        "    # Convert the string to lowercase to ignore case sensitivity\n",
        "    string = string.lower()\n",
        "    # Define a set of vowels\n",
        "    vowels = {\"a\", \"e\", \"i\", \"o\", \"u\"}\n",
        "    # Loop through the characters of the string\n",
        "    for char in string:\n",
        "        # Check if the character is a letter and not a vowel\n",
        "        if char.isalpha() and char not in vowels:\n",
        "            # Increment the count by one\n",
        "            count += 1\n",
        "    # Return the count\n",
        "    return count\n",
        "\n",
        "# Test the function with some examples\n",
        "print(count_consonants(\"Hello\")) # Output: 3\n",
        "print(count_consonants(\"Python\")) # Output: 4\n",
        "print(count_consonants(\"Bing\")) # Output: 3"
      ],
      "metadata": {
        "colab": {
          "base_uri": "https://localhost:8080/"
        },
        "id": "q8rAs70GLBYs",
        "outputId": "3c769c48-1ab3-4936-ae4a-3be469ac36f4"
      },
      "execution_count": null,
      "outputs": [
        {
          "output_type": "stream",
          "name": "stdout",
          "text": [
            "3\n",
            "5\n",
            "3\n"
          ]
        }
      ]
    },
    {
      "cell_type": "markdown",
      "source": [
        "Remove all whitespaces from a string."
      ],
      "metadata": {
        "id": "eF5nD7w_LelI"
      }
    },
    {
      "cell_type": "code",
      "source": [
        "# Define a function to remove all whitespaces from a string\n",
        "def remove_whitespaces(string):\n",
        "    # Initialize an empty string to store the result\n",
        "    result = \"\"\n",
        "    # Loop through the characters of the string\n",
        "    for char in string:\n",
        "        # Check if the character is not a whitespace\n",
        "        if not char.isspace():\n",
        "            # Append the character to the result\n",
        "            result += char\n",
        "    # Return the result\n",
        "    return result\n",
        "\n",
        "# Test the function with some examples\n",
        "print(remove_whitespaces(\"Hello World\")) # Output: HelloWorld\n",
        "print(remove_whitespaces(\"Python is fun\")) # Output: Pythonisfun\n",
        "print(remove_whitespaces(\"Bing is awesome\")) # Output: Bingisawesome"
      ],
      "metadata": {
        "colab": {
          "base_uri": "https://localhost:8080/"
        },
        "id": "vO7xsvTwLXxH",
        "outputId": "2955941b-1ba6-499d-b27b-bd65dbc25068"
      },
      "execution_count": null,
      "outputs": [
        {
          "output_type": "stream",
          "name": "stdout",
          "text": [
            "HelloWorld\n",
            "Pythonisfun\n",
            "Bingisawesome\n"
          ]
        }
      ]
    },
    {
      "cell_type": "markdown",
      "source": [
        "8 Find the length of a string without using the `len()` function."
      ],
      "metadata": {
        "id": "T7Xk50MtLttd"
      }
    },
    {
      "cell_type": "code",
      "source": [
        "# Define a function to find the length of a string\n",
        "def find_length(string):\n",
        "    # Initialize a variable to store the length\n",
        "    length = 0\n",
        "    # Loop through the characters of the string\n",
        "    for char in string:\n",
        "        # Increment the length by one for each character\n",
        "        length += 1\n",
        "    # Return the length\n",
        "    return length\n",
        "\n",
        "# Test the function with some examples\n",
        "print(find_length(\"Hello\")) # Output: 5\n",
        "print(find_length(\"Python\")) # Output: 6\n",
        "print(find_length(\"Bing\")) # Output: 4"
      ],
      "metadata": {
        "colab": {
          "base_uri": "https://localhost:8080/"
        },
        "id": "Mo1mmEm3LluO",
        "outputId": "86f5c1f2-3424-49e2-aba1-516dc8612dca"
      },
      "execution_count": null,
      "outputs": [
        {
          "output_type": "stream",
          "name": "stdout",
          "text": [
            "5\n",
            "6\n",
            "4\n"
          ]
        }
      ]
    },
    {
      "cell_type": "markdown",
      "source": [
        "9 Check if a string contains a specific word."
      ],
      "metadata": {
        "id": "IERcXLvoMEFB"
      }
    },
    {
      "cell_type": "code",
      "source": [
        "# Define a function to check if a string contains a specific word\n",
        "def contains_word(string, word):\n",
        "    # Convert the string and the word to lowercase to ignore case sensitivity\n",
        "    string = string.lower()\n",
        "    word = word.lower()\n",
        "    # Split the string into a list of words\n",
        "    words = string.split()\n",
        "    # Check if the word is in the list of words\n",
        "    if word in words:\n",
        "        # Return True if the word is found\n",
        "        return True\n",
        "    else:\n",
        "        # Return False if the word is not found\n",
        "        return False\n",
        "\n",
        "# Test the function with some examples\n",
        "print(contains_word(\"Hello World\", \"world\")) # Output: True\n",
        "print(contains_word(\"Python is fun\", \"python\")) # Output: True\n",
        "print(contains_word(\"Bing is awesome\", \"google\")) # Output: False"
      ],
      "metadata": {
        "colab": {
          "base_uri": "https://localhost:8080/"
        },
        "id": "gg6tGxs2L-8I",
        "outputId": "aaa30022-6038-4e18-9219-6f8fb2119324"
      },
      "execution_count": null,
      "outputs": [
        {
          "output_type": "stream",
          "name": "stdout",
          "text": [
            "True\n",
            "True\n",
            "False\n"
          ]
        }
      ]
    },
    {
      "cell_type": "markdown",
      "source": [
        "Replace a word in a string with another word."
      ],
      "metadata": {
        "id": "-RSqAZOuMcfK"
      }
    },
    {
      "cell_type": "code",
      "source": [
        "# Define a function to replace a word in a string with another word\n",
        "def replace_word(string, old_word, new_word):\n",
        "    # Use the replace method to replace the old word with the new word\n",
        "    new_string = string.replace(old_word, new_word)\n",
        "    # Return the new string\n",
        "    return new_string\n",
        "\n",
        "# Test the function with some examples\n",
        "print(replace_word(\"Hello World\", \"World\", \"Bing\")) # Output: Hello Bing"
      ],
      "metadata": {
        "colab": {
          "base_uri": "https://localhost:8080/"
        },
        "id": "tRpgTTdfMMzs",
        "outputId": "6d397961-53d0-4350-e052-f0e572bc8082"
      },
      "execution_count": null,
      "outputs": [
        {
          "output_type": "stream",
          "name": "stdout",
          "text": [
            "Hello Bing\n"
          ]
        }
      ]
    },
    {
      "cell_type": "markdown",
      "source": [
        "11 Count the occurrences of a word in a string."
      ],
      "metadata": {
        "id": "M49W9_4WMpGs"
      }
    },
    {
      "cell_type": "code",
      "source": [
        "# Define a function to count the occurrences of a word in a string\n",
        "def count_word(string, word):\n",
        "    # Convert the string and the word to lowercase to ignore case sensitivity\n",
        "    string = string.lower()\n",
        "    word = word.lower()\n",
        "    # Use the count method to count the number of times the word appears in the string\n",
        "    count = string.count(word)\n",
        "    # Return the count\n",
        "    return count\n",
        "\n",
        "# Test the function with some examples\n",
        "print(count_word(\"Hello World\", \"world\")) # Output: 1\n",
        "print(count_word(\"Python is fun\", \"python\")) # Output: 1\n",
        "print(count_word(\"Bing is awesome\", \"bing\")) # Output: 1\n",
        "print(count_word(\"Bing Bing Bing\", \"bing\")) # Output: 3"
      ],
      "metadata": {
        "colab": {
          "base_uri": "https://localhost:8080/"
        },
        "id": "705QqlVwMi9f",
        "outputId": "01a31aeb-13d3-48c6-ddc0-52fdb81dd36a"
      },
      "execution_count": null,
      "outputs": [
        {
          "output_type": "stream",
          "name": "stdout",
          "text": [
            "1\n",
            "1\n",
            "1\n",
            "3\n"
          ]
        }
      ]
    },
    {
      "cell_type": "markdown",
      "source": [
        "12 Find the first occurrence of a word in a string."
      ],
      "metadata": {
        "id": "HmLxQr6rNCcl"
      }
    },
    {
      "cell_type": "code",
      "source": [
        "# Define a function to find the first occurrence of a word in a string\n",
        "def find_word(string, word):\n",
        "    # Convert the string and the word to lowercase to ignore case sensitivity\n",
        "    string = string.lower()\n",
        "    word = word.lower()\n",
        "    # Use the find method to get the index of the first occurrence of the word in the string\n",
        "    index = string.find(word)\n",
        "    # Return the index\n",
        "    return index\n",
        "\n",
        "# Test the function with some examples\n",
        "print(find_word(\"Hello World\", \"world\")) # Output: 6\n",
        "print(find_word(\"Python is fun\", \"python\")) # Output: 0\n",
        "print(find_word(\"Bing is awesome\", \"bing\")) # Output: 0\n",
        "print(find_word(\"Bing Bing Bing\", \"bing\")) # Output: 0"
      ],
      "metadata": {
        "colab": {
          "base_uri": "https://localhost:8080/"
        },
        "id": "ovrUpOekMx7y",
        "outputId": "65d8ac98-49c7-425b-ff1a-1c1f0edcecdb"
      },
      "execution_count": null,
      "outputs": [
        {
          "output_type": "stream",
          "name": "stdout",
          "text": [
            "6\n",
            "0\n",
            "0\n",
            "0\n"
          ]
        }
      ]
    },
    {
      "cell_type": "markdown",
      "source": [
        "13 Find the last occurrence of a word in a string."
      ],
      "metadata": {
        "id": "V9bk3hvxNSbW"
      }
    },
    {
      "cell_type": "code",
      "source": [
        "# Define a function to find the last occurrence of a word in a string\n",
        "def find_last_word(string, word):\n",
        "    # Convert the string and the word to lowercase to ignore case sensitivity\n",
        "    string = string.lower()\n",
        "    word = word.lower()\n",
        "    # Use the rfind method to get the index of the last occurrence of the word in the string\n",
        "    index = string.rfind(word)\n",
        "    # Return the index\n",
        "    return index\n",
        "\n",
        "# Test the function with some examples\n",
        "print(find_last_word(\"Hello World\", \"world\")) # Output: 6\n",
        "print(find_last_word(\"Python is fun\", \"python\")) # Output: 0\n",
        "print(find_last_word(\"Bing is awesome\", \"bing\")) # Output: 0\n",
        "print(find_last_word(\"Bing Bing Bing\", \"bing\")) # Output: 8\n"
      ],
      "metadata": {
        "colab": {
          "base_uri": "https://localhost:8080/"
        },
        "id": "Oqf5wFRQNJmV",
        "outputId": "48955d62-2b43-4258-b9d1-e01cd7acccbf"
      },
      "execution_count": null,
      "outputs": [
        {
          "output_type": "stream",
          "name": "stdout",
          "text": [
            "6\n",
            "0\n",
            "0\n",
            "10\n"
          ]
        }
      ]
    },
    {
      "cell_type": "markdown",
      "source": [
        "Split a string into a list of words."
      ],
      "metadata": {
        "id": "0udMHfvzNgbC"
      }
    },
    {
      "cell_type": "code",
      "source": [
        "# Define a function to split a string into a list of words\n",
        "def split_string(string):\n",
        "    # Use the split method to split the string by whitespace characters\n",
        "    words = string.split()\n",
        "    # Return the list of words\n",
        "    return words\n",
        "\n",
        "# Test the function with some examples\n",
        "print(split_string(\"Hello World\")) # Output: ['Hello', 'World']\n",
        "print(split_string(\"Python is fun\")) # Output: ['Python', 'is', 'fun']\n",
        "print(split_string(\"Bing is awesome\")) # Output: ['Bing', 'is', 'awesome']"
      ],
      "metadata": {
        "colab": {
          "base_uri": "https://localhost:8080/"
        },
        "id": "bbmoAn-_NZLf",
        "outputId": "6ed5f653-7465-4a42-c4b6-e7c798a60b23"
      },
      "execution_count": null,
      "outputs": [
        {
          "output_type": "stream",
          "name": "stdout",
          "text": [
            "['Hello', 'World']\n",
            "['Python', 'is', 'fun']\n",
            "['Bing', 'is', 'awesome']\n"
          ]
        }
      ]
    },
    {
      "cell_type": "markdown",
      "source": [
        "15 Join a list of words into a string."
      ],
      "metadata": {
        "id": "7c9qJ9aUNs_r"
      }
    },
    {
      "cell_type": "code",
      "source": [
        "# Define a function to join a list of words into a string\n",
        "def join_words(words):\n",
        "    # Use the join method to join the words by a space character\n",
        "    string = \" \".join(words)\n",
        "    # Return the string\n",
        "    return string\n",
        "\n",
        "# Test the function with some examples\n",
        "print(join_words([\"Hello\", \"World\"])) # Output: Hello World\n",
        "print(join_words([\"Python\", \"is\", \"fun\"])) # Output: Python is fun\n",
        "print(join_words([\"Bing\", \"is\", \"awesome\"])) # Output: Bing is awesome"
      ],
      "metadata": {
        "colab": {
          "base_uri": "https://localhost:8080/"
        },
        "id": "2tCnvN9SNoK5",
        "outputId": "a10d8d86-f080-4151-bcb4-c26ee1e2477a"
      },
      "execution_count": null,
      "outputs": [
        {
          "output_type": "stream",
          "name": "stdout",
          "text": [
            "Hello World\n",
            "Python is fun\n",
            "Bing is awesome\n"
          ]
        }
      ]
    },
    {
      "cell_type": "markdown",
      "source": [
        "16 Convert a string where words are separated by spaces to one where words\n",
        "are separated by underscores.\n"
      ],
      "metadata": {
        "id": "DK1YEHzjN_Xv"
      }
    },
    {
      "cell_type": "code",
      "source": [
        "# Define a function to convert a string where words are separated by spaces to one where words are separated by underscores\n",
        "def convert_string(string):\n",
        "    # Use the replace method to replace all spaces with underscores\n",
        "    new_string = string.replace(\" \", \"_\")\n",
        "    # Return the new string\n",
        "    return new_string\n",
        "\n",
        "# Test the function with some examples\n",
        "print(convert_string(\"Hello World\")) # Output: Hello_World\n",
        "print(convert_string(\"Python is fun\")) # Output: Python_is_fun\n",
        "print(convert_string(\"Bing is awesome\")) # Output: Bing_is_awesome\n"
      ],
      "metadata": {
        "colab": {
          "base_uri": "https://localhost:8080/"
        },
        "id": "0FAFAR_VN3dm",
        "outputId": "73338ad9-775e-46c6-ca79-021ca3b82b4f"
      },
      "execution_count": null,
      "outputs": [
        {
          "output_type": "stream",
          "name": "stdout",
          "text": [
            "Hello_World\n",
            "Python_is_fun\n",
            "Bing_is_awesome\n"
          ]
        }
      ]
    },
    {
      "cell_type": "markdown",
      "source": [
        "17 Check if a string starts with a specific word or phrase."
      ],
      "metadata": {
        "id": "B3k2V0cmOMqt"
      }
    },
    {
      "cell_type": "code",
      "source": [
        "# Define a function to check if a string starts with a specific word or phrase\n",
        "def starts_with(string, word):\n",
        "    # Convert the string and the word to lowercase to ignore case sensitivity\n",
        "    string = string.lower()\n",
        "    word = word.lower()\n",
        "    # Use the startswith method to check if the string starts with the word\n",
        "    if string.startswith(word):\n",
        "        # Return True if the string starts with the word\n",
        "        return True\n",
        "    else:\n",
        "        # Return False if the string does not start with the word\n",
        "        return False\n",
        "\n",
        "# Test the function with some examples\n",
        "print(starts_with(\"Hello World\", \"hello\")) # Output: True\n",
        "print(starts_with(\"Python is fun\", \"fun\")) # Output: False\n",
        "print(starts_with(\"Bing is awesome\", \"bing\")) # Output: True"
      ],
      "metadata": {
        "colab": {
          "base_uri": "https://localhost:8080/"
        },
        "id": "f532cMjSOIhi",
        "outputId": "239abe2e-2c83-45a1-e1ee-cfa9c46d8c07"
      },
      "execution_count": null,
      "outputs": [
        {
          "output_type": "stream",
          "name": "stdout",
          "text": [
            "True\n",
            "False\n",
            "True\n"
          ]
        }
      ]
    },
    {
      "cell_type": "markdown",
      "source": [
        "18 Check if a string ends with a specific word or phrase."
      ],
      "metadata": {
        "id": "vf3jwC8FObSE"
      }
    },
    {
      "cell_type": "code",
      "source": [
        "# Define a function to check if a string ends with a specific word or phrase\n",
        "def ends_with(string, word):\n",
        "    # Convert the string and the word to lowercase to ignore case sensitivity\n",
        "    string = string.lower()\n",
        "    word = word.lower()\n",
        "    # Use the endswith method to check if the string ends with the word\n",
        "    if string.endswith(word):\n",
        "        # Return True if the string ends with the word\n",
        "        return True\n",
        "    else:\n",
        "        # Return False if the string does not end with the word\n",
        "        return False\n",
        "\n",
        "# Test the function with some examples\n",
        "print(ends_with(\"Hello World\", \"world\")) # Output: True\n",
        "print(ends_with(\"Python is fun\", \"fun\")) # Output: True\n",
        "print(ends_with(\"Bing is awesome\", \"bing\")) # Output: False\n"
      ],
      "metadata": {
        "colab": {
          "base_uri": "https://localhost:8080/"
        },
        "id": "nEXP8QpoOXJT",
        "outputId": "d5cfea69-d494-42d1-d61c-19a93b9779fd"
      },
      "execution_count": null,
      "outputs": [
        {
          "output_type": "stream",
          "name": "stdout",
          "text": [
            "True\n",
            "True\n",
            "False\n"
          ]
        }
      ]
    },
    {
      "cell_type": "markdown",
      "source": [
        "19 Convert a string to title case (e.g., \"hello world\" to \"Hello World\")."
      ],
      "metadata": {
        "id": "FdAyp9scYaro"
      }
    },
    {
      "cell_type": "code",
      "source": [
        "# Define a function to convert a string to title case\n",
        "def to_title_case(string):\n",
        "    # Use the title method to capitalize the first letter of each word in the string\n",
        "    new_string = string.title()\n",
        "    # Return the new string\n",
        "    return new_string\n",
        "\n",
        "# Test the function with some examples\n",
        "print(to_title_case(\"hello world\")) # Output: Hello World\n",
        "print(to_title_case(\"python is fun\")) # Output: Python Is Fun\n",
        "print(to_title_case(\"bing is awesome\")) # Output: Bing Is Awesome"
      ],
      "metadata": {
        "colab": {
          "base_uri": "https://localhost:8080/"
        },
        "id": "nhFrbwERYXFo",
        "outputId": "f354115f-0482-42a4-ba3c-39f311ed2bc6"
      },
      "execution_count": null,
      "outputs": [
        {
          "output_type": "stream",
          "name": "stdout",
          "text": [
            "Hello World\n",
            "Python Is Fun\n",
            "Bing Is Awesome\n"
          ]
        }
      ]
    },
    {
      "cell_type": "markdown",
      "source": [
        "Find the longest word in a string."
      ],
      "metadata": {
        "id": "jl2nHgbNZo3Q"
      }
    },
    {
      "cell_type": "code",
      "source": [
        "# Define a function to find the longest word in a string\n",
        "def find_longest_word(string):\n",
        "    # Initialize a variable to store the longest word\n",
        "    longest_word = \"\"\n",
        "    # Split the string into a list of words\n",
        "    words = string.split()\n",
        "    # Loop through the words in the list\n",
        "    for word in words:\n",
        "        # Check if the current word is longer than the longest word\n",
        "        if len(word) > len(longest_word):\n",
        "            # Update the longest word with the current word\n",
        "            longest_word = word\n",
        "    # Return the longest word\n",
        "    return longest_word\n",
        "\n",
        "# Test the function with some examples\n",
        "print(find_longest_word(\"Hello World\")) # Output: World\n",
        "print(find_longest_word(\"Python is fun\")) # Output: Python\n",
        "print(find_longest_word(\"Bing is awesome\")) # Output: awesome"
      ],
      "metadata": {
        "colab": {
          "base_uri": "https://localhost:8080/"
        },
        "id": "pCIbz4-LZks9",
        "outputId": "1b297660-544a-4213-8329-283a46d3f9d1"
      },
      "execution_count": null,
      "outputs": [
        {
          "output_type": "stream",
          "name": "stdout",
          "text": [
            "Hello\n",
            "Python\n",
            "awesome\n"
          ]
        }
      ]
    },
    {
      "cell_type": "markdown",
      "source": [
        "21 Find the shortest word in a string."
      ],
      "metadata": {
        "id": "bSwloInKbkhL"
      }
    },
    {
      "cell_type": "code",
      "source": [
        "# Define a function to find the shortest word in a string\n",
        "def find_shortest_word(string):\n",
        "    # Initialize a variable to store the shortest word\n",
        "    shortest_word = \"\"\n",
        "    # Split the string into a list of words\n",
        "    words = string.split()\n",
        "    # Loop through the words in the list\n",
        "    for word in words:\n",
        "        # Check if the current word is shorter than the shortest word or if the shortest word is empty\n",
        "        if len(word) < len(shortest_word) or shortest_word == \"\":\n",
        "            # Update the shortest word with the current word\n",
        "            shortest_word = word\n",
        "    # Return the shortest word\n",
        "    return shortest_word\n",
        "\n",
        "# Test the function with some examples\n",
        "print(find_shortest_word(\"Hello World\")) # Output: Hello\n",
        "print(find_shortest_word(\"Python is fun\")) # Output: is\n",
        "print(find_shortest_word(\"Bing is awesome\")) # Output: is\n"
      ],
      "metadata": {
        "colab": {
          "base_uri": "https://localhost:8080/"
        },
        "id": "r1pdOX5FaOXy",
        "outputId": "77a18f7f-c9f3-4b4f-bdec-05af8364809e"
      },
      "execution_count": null,
      "outputs": [
        {
          "output_type": "stream",
          "name": "stdout",
          "text": [
            "Hello\n",
            "is\n",
            "is\n"
          ]
        }
      ]
    },
    {
      "cell_type": "markdown",
      "source": [
        "22 Reverse the order of words in a string."
      ],
      "metadata": {
        "id": "yvEmc_05eT9q"
      }
    },
    {
      "cell_type": "code",
      "source": [
        "# Define a function to reverse the order of words in a string\n",
        "def reverse_words(string):\n",
        "    # Split the string into a list of words\n",
        "    words = string.split()\n",
        "    # Reverse the list of words using slicing\n",
        "    reversed_words = words[::-1]\n",
        "    # Join the reversed words by a space character\n",
        "    new_string = \" \".join(reversed_words)\n",
        "    # Return the new string\n",
        "    return new_string\n",
        "\n",
        "# Test the function with some examples\n",
        "print(reverse_words(\"Hello World\")) # Output: World Hello\n",
        "print(reverse_words(\"Python is fun\")) # Output: fun is Python\n",
        "print(reverse_words(\"Bing is awesome\")) # Output: awesome is Bing"
      ],
      "metadata": {
        "colab": {
          "base_uri": "https://localhost:8080/"
        },
        "id": "u3CSCKQucRp0",
        "outputId": "69129ba9-feb7-4b56-e35a-9a505af96f86"
      },
      "execution_count": null,
      "outputs": [
        {
          "output_type": "stream",
          "name": "stdout",
          "text": [
            "World Hello\n",
            "fun is Python\n",
            "awesome is Bing\n"
          ]
        }
      ]
    },
    {
      "cell_type": "markdown",
      "source": [
        "23 Check if a string is alphanumeric."
      ],
      "metadata": {
        "id": "BX7pJUVXfvzN"
      }
    },
    {
      "cell_type": "code",
      "source": [
        "# Define a function to check if a string is alphanumeric\n",
        "def is_alphanumeric(string):\n",
        "    # Use the isalnum method to check if the string consists of only letters and numbers\n",
        "    if string.isalnum():\n",
        "        # Return True if the string is alphanumeric\n",
        "        return True\n",
        "    else:\n",
        "        # Return False if the string is not alphanumeric\n",
        "        return False\n",
        "\n",
        "# Test the function with some examples\n",
        "print(is_alphanumeric(\"Hello\")) # Output: True\n",
        "print(is_alphanumeric(\"Python\")) # Output: True\n",
        "print(is_alphanumeric(\"Bing\")) # Output: True\n",
        "print(is_alphanumeric(\"Hello World\")) # Output: False\n",
        "print(is_alphanumeric(\"Python3\")) # Output: True\n",
        "print(is_alphanumeric(\"Bing!\")) # Output: False\n"
      ],
      "metadata": {
        "colab": {
          "base_uri": "https://localhost:8080/"
        },
        "id": "1b-RJJoXfnf3",
        "outputId": "b8a8d541-1f3c-4a9f-de03-1d4012ca151b"
      },
      "execution_count": null,
      "outputs": [
        {
          "output_type": "stream",
          "name": "stdout",
          "text": [
            "True\n",
            "True\n",
            "True\n",
            "False\n",
            "True\n",
            "False\n"
          ]
        }
      ]
    },
    {
      "cell_type": "markdown",
      "source": [
        "24 Extract all digits from a string."
      ],
      "metadata": {
        "id": "41IBjfklgHQy"
      }
    },
    {
      "cell_type": "code",
      "source": [
        "# Define a function to extract all digits from a string\n",
        "def extract_digits(string):\n",
        "    # Initialize an empty string to store the digits\n",
        "    digits = \"\"\n",
        "    # Loop through the characters of the string\n",
        "    for char in string:\n",
        "        # Check if the character is a digit\n",
        "        if char.isdigit():\n",
        "            # Append the digit to the digits string\n",
        "            digits += char\n",
        "    # Return the digits string\n",
        "    return digits\n",
        "\n",
        "# Test the function with some examples\n",
        "print(extract_digits(\"Hello World\")) # Output: \"\"\n",
        "print(extract_digits(\"Python3\")) # Output: \"3\"\n",
        "print(extract_digits(\"Bing!\")) # Output: \"\"\n",
        "print(extract_digits(\"2023 is the year of the rabbit\")) # Output: \"2023\"\n"
      ],
      "metadata": {
        "colab": {
          "base_uri": "https://localhost:8080/"
        },
        "id": "Ut7NZAaPgAzp",
        "outputId": "ad1a0565-5be0-43b0-95b0-14386c28b0ef"
      },
      "execution_count": null,
      "outputs": [
        {
          "output_type": "stream",
          "name": "stdout",
          "text": [
            "\n",
            "3\n",
            "\n",
            "2023\n"
          ]
        }
      ]
    },
    {
      "cell_type": "markdown",
      "source": [
        "25 Extract all alphabets from a string."
      ],
      "metadata": {
        "id": "q2VWtGDjgVAG"
      }
    },
    {
      "cell_type": "code",
      "source": [
        "# Define a function to extract all alphabets from a string\n",
        "def extract_alphabets(string):\n",
        "    # Initialize an empty string to store the alphabets\n",
        "    alphabets = \"\"\n",
        "    # Loop through the characters of the string\n",
        "    for char in string:\n",
        "        # Check if the character is a letter\n",
        "        if char.isalpha():\n",
        "            # Append the letter to the alphabets string\n",
        "            alphabets += char\n",
        "    # Return the alphabets string\n",
        "    return alphabets\n",
        "\n",
        "# Test the function with some examples\n",
        "print(extract_alphabets(\"Hello World\")) # Output: HelloWorld\n",
        "print(extract_alphabets(\"Python3\")) # Output: Python\n",
        "print(extract_alphabets(\"Bing!\")) # Output: Bing\n",
        "print(extract_alphabets(\"2023 is the year of the rabbit\")) # Output: istheyearoftherabbit\n"
      ],
      "metadata": {
        "colab": {
          "base_uri": "https://localhost:8080/"
        },
        "id": "buiqsBr4gPJi",
        "outputId": "9a5f9c57-2d80-4faf-dbce-a04d2660d59c"
      },
      "execution_count": null,
      "outputs": [
        {
          "output_type": "stream",
          "name": "stdout",
          "text": [
            "HelloWorld\n",
            "Python\n",
            "Bing\n",
            "istheyearoftherabbit\n"
          ]
        }
      ]
    },
    {
      "cell_type": "markdown",
      "source": [
        "26 Count the number of uppercase letters in a string."
      ],
      "metadata": {
        "id": "_VOnaMDn4h5t"
      }
    },
    {
      "cell_type": "code",
      "source": [
        "# Define a function that takes a string as an argument\n",
        "def count_uppercase(string):\n",
        "    # Initialize a counter variable to zero\n",
        "    counter = 0\n",
        "    # Loop through each character in the string\n",
        "    for char in string:\n",
        "        # Check if the character is an uppercase letter\n",
        "        if char.isupper():\n",
        "            # Increment the counter by one\n",
        "            counter += 1\n",
        "    # Return the counter value\n",
        "    return counter\n",
        "\n",
        "# Test the function with some examples\n",
        "print(count_uppercase(\"Hello World\")) # Output: 2\n",
        "print(count_uppercase(\"PYTHON\")) # Output: 6\n",
        "print(count_uppercase(\"python\")) # Output: 0"
      ],
      "metadata": {
        "id": "aQjgBnHagd3s",
        "colab": {
          "base_uri": "https://localhost:8080/"
        },
        "outputId": "f8aeae60-1df5-4980-d659-37e7524e5b9e"
      },
      "execution_count": 1,
      "outputs": [
        {
          "output_type": "stream",
          "name": "stdout",
          "text": [
            "2\n",
            "6\n",
            "0\n"
          ]
        }
      ]
    },
    {
      "cell_type": "markdown",
      "source": [
        "27 Count the number of lowercase letters in a string."
      ],
      "metadata": {
        "id": "b2qKkUSy5HPh"
      }
    },
    {
      "cell_type": "code",
      "source": [
        "# Define a function that takes a string as an argument\n",
        "def count_lowercase(string):\n",
        "    # Initialize a counter variable to zero\n",
        "    counter = 0\n",
        "    # Loop through each character in the string\n",
        "    for char in string:\n",
        "        # Check if the character is a lowercase letter\n",
        "        if char.islower():\n",
        "            # Increment the counter by one\n",
        "            counter += 1\n",
        "    # Return the counter value\n",
        "    return counter\n",
        "\n",
        "# Test the function with some examples\n",
        "print(count_lowercase(\"Hello World\")) # Output: 8\n",
        "print(count_lowercase(\"PYTHON\")) # Output: 0\n",
        "print(count_lowercase(\"python\")) # Output: 6"
      ],
      "metadata": {
        "colab": {
          "base_uri": "https://localhost:8080/"
        },
        "id": "y8CrcQvK46PT",
        "outputId": "782470ed-2b77-4d3b-b9a1-e9ce6b8e0d7f"
      },
      "execution_count": 2,
      "outputs": [
        {
          "output_type": "stream",
          "name": "stdout",
          "text": [
            "8\n",
            "0\n",
            "6\n"
          ]
        }
      ]
    },
    {
      "cell_type": "markdown",
      "source": [
        "28 Swap the case of each character in a string."
      ],
      "metadata": {
        "id": "2kZhKv085UKR"
      }
    },
    {
      "cell_type": "code",
      "source": [
        "# Define a function that takes a string as an argument\n",
        "def swap_case(string):\n",
        "    # Initialize an empty string to store the result\n",
        "    result = \"\"\n",
        "    # Loop through each character in the string\n",
        "    for char in string:\n",
        "        # Check if the character is an uppercase letter\n",
        "        if char.isupper():\n",
        "            # Convert it to lowercase and append it to the result\n",
        "            result += char.lower()\n",
        "        # Check if the character is a lowercase letter\n",
        "        elif char.islower():\n",
        "            # Convert it to uppercase and append it to the result\n",
        "            result += char.upper()\n",
        "        # Otherwise, just append the character to the result\n",
        "        else:\n",
        "            result += char\n",
        "    # Return the result string\n",
        "    return result\n",
        "\n",
        "# Test the function with some examples\n",
        "print(swap_case(\"Hello World\")) # Output: hELLO wORLD\n",
        "print(swap_case(\"PYTHON\")) # Output: python\n",
        "print(swap_case(\"python\")) # Output: PYTHON"
      ],
      "metadata": {
        "colab": {
          "base_uri": "https://localhost:8080/"
        },
        "id": "7BLLbwwp5QnD",
        "outputId": "749645e9-6c53-4d00-d6f8-a100e80c0f5c"
      },
      "execution_count": 3,
      "outputs": [
        {
          "output_type": "stream",
          "name": "stdout",
          "text": [
            "hELLO wORLD\n",
            "python\n",
            "PYTHON\n"
          ]
        }
      ]
    },
    {
      "cell_type": "markdown",
      "source": [
        "29 Remove a specific word from a string."
      ],
      "metadata": {
        "id": "x1tEpKMc5sQ9"
      }
    },
    {
      "cell_type": "code",
      "source": [
        "# Define a function that takes a string and a word as arguments\n",
        "def remove_word(string, word):\n",
        "    # Split the string into a list of words\n",
        "    words = string.split()\n",
        "    # Create a new list to store the words that are not equal to the word to be removed\n",
        "    new_words = []\n",
        "    # Loop through each word in the words list\n",
        "    for w in words:\n",
        "        # Check if the word is equal to the word to be removed\n",
        "        if w != word:\n",
        "            # Append the word to the new_words list\n",
        "            new_words.append(w)\n",
        "    # Join the new_words list with spaces and return the result\n",
        "    result = \" \".join(new_words)\n",
        "    return result\n",
        "\n",
        "# Test the function with some examples\n",
        "print(remove_word(\"Hello World\", \"World\")) # Output: Hello\n",
        "print(remove_word(\"This is a test\", \"is\")) # Output: This a test\n",
        "print(remove_word(\"I love python\", \"love\")) # Output: I python"
      ],
      "metadata": {
        "colab": {
          "base_uri": "https://localhost:8080/"
        },
        "id": "jqmw3mo85gvl",
        "outputId": "5da7e7e5-0e50-45ca-83e1-5747f49f3706"
      },
      "execution_count": 4,
      "outputs": [
        {
          "output_type": "stream",
          "name": "stdout",
          "text": [
            "Hello\n",
            "This a test\n",
            "I python\n"
          ]
        }
      ]
    },
    {
      "cell_type": "markdown",
      "source": [
        "30 Check if a string is a valid email address."
      ],
      "metadata": {
        "id": "jmPYWcHN7CZT"
      }
    },
    {
      "cell_type": "code",
      "source": [
        "# Import the re module for regular expressions\n",
        "import re\n",
        "\n",
        "# Define a function that takes a string as an argument\n",
        "def is_valid_email(string):\n",
        "    # Define a regular expression pattern for a valid email address\n",
        "    pattern = r\"^[a-zA-Z0-9_.+-]+@[a-zA-Z0-9-]+\\.[a-zA-Z0-9-.]+$\"\n",
        "    # Use the re.match function to check if the string matches the pattern\n",
        "    match = re.match(pattern, string)\n",
        "    # Return True if there is a match, False otherwise\n",
        "    return bool(match)\n",
        "\n",
        "# Test the function with some examples\n",
        "print(is_valid_email(\"hello@world.com\")) # Output: True\n",
        "print(is_valid_email(\"python@bing.com\")) # Output: True\n",
        "print(is_valid_email(\"invalid@domain\")) # Output: False\n",
        "print(is_valid_email(\"no.at.symbol\")) # Output: False"
      ],
      "metadata": {
        "colab": {
          "base_uri": "https://localhost:8080/"
        },
        "id": "91nbk9DJ6sXO",
        "outputId": "066fcdf0-9b1a-4682-b7ad-699896d2f3ef"
      },
      "execution_count": 6,
      "outputs": [
        {
          "output_type": "stream",
          "name": "stdout",
          "text": [
            "True\n",
            "True\n",
            "False\n",
            "False\n"
          ]
        }
      ]
    },
    {
      "cell_type": "markdown",
      "source": [
        "31 Extract the username from an email address string."
      ],
      "metadata": {
        "id": "IGW3Q1r17iQz"
      }
    },
    {
      "cell_type": "code",
      "source": [
        "# Define a function that takes an email address string as an argument\n",
        "def get_username(email):\n",
        "    # Split the email address by the @ symbol\n",
        "    parts = email.split(\"@\")\n",
        "    # Check if the email address has exactly two parts\n",
        "    if len(parts) == 2:\n",
        "        # Return the first part as the username\n",
        "        return parts[0]\n",
        "    # Otherwise, return an empty string\n",
        "    else:\n",
        "        return \"\"\n",
        "\n",
        "# Test the function with some examples\n",
        "print(get_username(\"hello@world.com\")) # Output: hello\n",
        "print(get_username(\"python@bing.com\")) # Output: python\n",
        "print(get_username(\"invalid@domain\")) # Output: invalid\n",
        "print(get_username(\"no.at.symbol\")) # Output:"
      ],
      "metadata": {
        "colab": {
          "base_uri": "https://localhost:8080/"
        },
        "id": "At1UQx-A7OVb",
        "outputId": "d56e677c-d013-4cd6-bade-177688465027"
      },
      "execution_count": 7,
      "outputs": [
        {
          "output_type": "stream",
          "name": "stdout",
          "text": [
            "hello\n",
            "python\n",
            "invalid\n",
            "\n"
          ]
        }
      ]
    },
    {
      "cell_type": "markdown",
      "source": [
        "32 Extract the domain name from an email address string."
      ],
      "metadata": {
        "id": "C_8v6FSd7sY5"
      }
    },
    {
      "cell_type": "code",
      "source": [
        "# Define a function that takes an email address string as an argument\n",
        "def get_domain(email):\n",
        "    # Split the email address by the @ symbol\n",
        "    parts = email.split(\"@\")\n",
        "    # Check if the email address has exactly two parts\n",
        "    if len(parts) == 2:\n",
        "        # Return the second part as the domain name\n",
        "        return parts[1]\n",
        "    # Otherwise, return an empty string\n",
        "    else:\n",
        "        return \"\"\n",
        "\n",
        "# Test the function with some examples\n",
        "print(get_domain(\"hello@world.com\")) # Output: world.com\n",
        "print(get_domain(\"python@bing.com\")) # Output: bing.com\n",
        "print(get_domain(\"invalid@domain\")) # Output: domain\n",
        "print(get_domain(\"no.at.symbol\")) # Output:\n"
      ],
      "metadata": {
        "colab": {
          "base_uri": "https://localhost:8080/"
        },
        "id": "QdfIrVLk7ojq",
        "outputId": "63a86c20-910a-48f1-8fd3-3d38366f77f4"
      },
      "execution_count": 8,
      "outputs": [
        {
          "output_type": "stream",
          "name": "stdout",
          "text": [
            "world.com\n",
            "bing.com\n",
            "domain\n",
            "\n"
          ]
        }
      ]
    },
    {
      "cell_type": "markdown",
      "source": [
        "33 Replace multiple spaces in a string with a single space."
      ],
      "metadata": {
        "id": "gP9e-rGl744y"
      }
    },
    {
      "cell_type": "code",
      "source": [
        "# Define a function that takes a string as an argument\n",
        "def replace_spaces(string):\n",
        "    # Use the re module for regular expressions\n",
        "    import re\n",
        "    # Define a pattern that matches one or more spaces\n",
        "    pattern = r\"\\s+\"\n",
        "    # Use the re.sub function to replace the pattern with a single space\n",
        "    result = re.sub(pattern, \" \", string)\n",
        "    # Return the result string\n",
        "    return result\n",
        "\n",
        "# Test the function with some examples\n",
        "print(replace_spaces(\"Hello    World\")) # Output: Hello World\n",
        "print(replace_spaces(\"This  is  a  test\")) # Output: This is a test\n",
        "print(replace_spaces(\"No extra spaces\")) # Output: No extra spaces"
      ],
      "metadata": {
        "colab": {
          "base_uri": "https://localhost:8080/"
        },
        "id": "_iNYgqof717G",
        "outputId": "c499dc4d-7203-4d9b-b966-754a18f76840"
      },
      "execution_count": 9,
      "outputs": [
        {
          "output_type": "stream",
          "name": "stdout",
          "text": [
            "Hello World\n",
            "This is a test\n",
            "No extra spaces\n"
          ]
        }
      ]
    },
    {
      "cell_type": "markdown",
      "source": [
        "34 Check if a string is a valid URL."
      ],
      "metadata": {
        "id": "Z9nQfclg8I9J"
      }
    },
    {
      "cell_type": "code",
      "source": [
        "# Import the validators module for validating URLs\n",
        "import validators\n",
        "\n",
        "# Define a function that takes a string as an argument\n",
        "def is_valid_url(string):\n",
        "    # Use the validators.url function to check if the string is a valid URL\n",
        "    result = validators.url(string)\n",
        "    # Return True if the result is valid, False otherwise\n",
        "    return bool(result)\n",
        "\n",
        "# Test the function with some examples\n",
        "print(is_valid_url(\"https://www.bing.com\")) # Output: True\n",
        "print(is_valid_url(\"https://www.invalid.com\")) # Output: True\n",
        "print(is_valid_url(\"invalid.com\")) # Output: False\n",
        "print(is_valid_url(\"no.protocol\")) # Output: False"
      ],
      "metadata": {
        "colab": {
          "base_uri": "https://localhost:8080/"
        },
        "id": "Leu2Rq-P8GHC",
        "outputId": "27886e94-b8b3-40b9-cc92-a9ebf0a67efe"
      },
      "execution_count": 13,
      "outputs": [
        {
          "output_type": "stream",
          "name": "stdout",
          "text": [
            "True\n",
            "True\n",
            "False\n",
            "False\n"
          ]
        }
      ]
    },
    {
      "cell_type": "code",
      "source": [
        "pip install validators\n"
      ],
      "metadata": {
        "colab": {
          "base_uri": "https://localhost:8080/"
        },
        "id": "7fTyzU1O8X7J",
        "outputId": "a68ddda9-2f5d-4938-fed4-9813bf3a1a4b"
      },
      "execution_count": 12,
      "outputs": [
        {
          "output_type": "stream",
          "name": "stdout",
          "text": [
            "Collecting validators\n",
            "  Downloading validators-0.22.0-py3-none-any.whl (26 kB)\n",
            "Installing collected packages: validators\n",
            "Successfully installed validators-0.22.0\n"
          ]
        }
      ]
    },
    {
      "cell_type": "markdown",
      "source": [
        "35 Extract the protocol (http or https) from a URL string.\n"
      ],
      "metadata": {
        "id": "tU4R1-nm9LjC"
      }
    },
    {
      "cell_type": "code",
      "source": [
        "# Define a function that takes a URL string as an argument\n",
        "def get_protocol(url):\n",
        "    # Split the URL by the :// symbol\n",
        "    parts = url.split(\"://\")\n",
        "    # Check if the URL has exactly two parts\n",
        "    if len(parts) == 2:\n",
        "        # Return the first part as the protocol\n",
        "        return parts[0]\n",
        "    # Otherwise, return an empty string\n",
        "    else:\n",
        "        return \"\"\n",
        "\n",
        "# Test the function with some examples\n",
        "print(get_protocol(\"https://www.bing.com\")) # Output: https\n",
        "print(get_protocol(\"http://www.invalid.com\")) # Output: http\n",
        "print(get_protocol(\"invalid.com\")) # Output:\n",
        "print(get_protocol(\"no.protocol\")) # Output:"
      ],
      "metadata": {
        "colab": {
          "base_uri": "https://localhost:8080/"
        },
        "id": "fjMvxbtw9Ecs",
        "outputId": "f6ac8eef-e212-48e9-a79a-41c1ad6c8ea6"
      },
      "execution_count": 14,
      "outputs": [
        {
          "output_type": "stream",
          "name": "stdout",
          "text": [
            "https\n",
            "http\n",
            "\n",
            "\n"
          ]
        }
      ]
    },
    {
      "cell_type": "markdown",
      "source": [
        "36 Find the frequency of each character in a string."
      ],
      "metadata": {
        "id": "5B9lVgCZDB7e"
      }
    },
    {
      "cell_type": "code",
      "source": [
        "# Define a function that takes a string as an argument\n",
        "def count_chars(string):\n",
        "    # Initialize an empty dictionary to store the character frequencies\n",
        "    freq = {}\n",
        "    # Loop through each character in the string\n",
        "    for char in string:\n",
        "        # Check if the character is already in the dictionary\n",
        "        if char in freq:\n",
        "            # Increment its frequency by one\n",
        "            freq[char] += 1\n",
        "        # Otherwise, add the character to the dictionary with a frequency of one\n",
        "        else:\n",
        "            freq[char] = 1\n",
        "    # Return the dictionary of character frequencies\n",
        "    return freq\n",
        "\n",
        "# Test the function with some examples\n",
        "print(count_chars(\"Hello World\")) # Output: {'H': 1, 'e': 1, 'l': 3, 'o': 2, ' ': 1, 'W': 1, 'r': 1, 'd': 1}\n",
        "print(count_chars(\"python\")) # Output: {'p': 1, 'y': 1, 't': 1, 'h': 1, 'o': 1, 'n': 1}\n",
        "print(count_chars(\"bing\")) # Output: {'b': 1, 'i': 1, 'n': 1, 'g': 1}\n"
      ],
      "metadata": {
        "colab": {
          "base_uri": "https://localhost:8080/"
        },
        "id": "ba-lY3Ju9zuS",
        "outputId": "31888d87-ffec-4c38-d50b-10ec49cb4085"
      },
      "execution_count": 16,
      "outputs": [
        {
          "output_type": "stream",
          "name": "stdout",
          "text": [
            "{'H': 1, 'e': 1, 'l': 3, 'o': 2, ' ': 1, 'W': 1, 'r': 1, 'd': 1}\n",
            "{'p': 1, 'y': 1, 't': 1, 'h': 1, 'o': 1, 'n': 1}\n",
            "{'b': 1, 'i': 1, 'n': 1, 'g': 1}\n"
          ]
        }
      ]
    },
    {
      "cell_type": "markdown",
      "source": [
        "37 Remove all punctuation from a string."
      ],
      "metadata": {
        "id": "fMpcy9pKEeRb"
      }
    },
    {
      "cell_type": "code",
      "source": [
        "# Import the string module for punctuation characters\n",
        "import string\n",
        "\n",
        "# Define a function that takes a string as an argument\n",
        "def remove_punctuation(string):\n",
        "    # Initialize an empty string to store the result\n",
        "    result = \"\"\n",
        "    # Loop through each character in the string\n",
        "    for char in string:\n",
        "        # Check if the character is not a punctuation character\n",
        "        if char not in string.punctuation:\n",
        "            # Append the character to the result\n",
        "            result += char\n",
        "    # Return the result string\n",
        "    return result\n",
        "\n",
        "# Test the function with some examples\n",
        "print(remove_punctuation(\"Hello, World!\")) # Output: Hello World\n",
        "print(remove_punctuation(\"Python is fun.\")) # Output: Python is fun\n",
        "print(remove_punctuation(\"No, thanks.\")) # Output: No thanks\n"
      ],
      "metadata": {
        "colab": {
          "base_uri": "https://localhost:8080/",
          "height": 374
        },
        "id": "6PSRMK0dESze",
        "outputId": "732bc612-d615-4305-ff91-c5a60c16e489"
      },
      "execution_count": 17,
      "outputs": [
        {
          "output_type": "error",
          "ename": "AttributeError",
          "evalue": "ignored",
          "traceback": [
            "\u001b[0;31m---------------------------------------------------------------------------\u001b[0m",
            "\u001b[0;31mAttributeError\u001b[0m                            Traceback (most recent call last)",
            "\u001b[0;32m<ipython-input-17-12bdfb05ab46>\u001b[0m in \u001b[0;36m<cell line: 18>\u001b[0;34m()\u001b[0m\n\u001b[1;32m     16\u001b[0m \u001b[0;34m\u001b[0m\u001b[0m\n\u001b[1;32m     17\u001b[0m \u001b[0;31m# Test the function with some examples\u001b[0m\u001b[0;34m\u001b[0m\u001b[0;34m\u001b[0m\u001b[0m\n\u001b[0;32m---> 18\u001b[0;31m \u001b[0mprint\u001b[0m\u001b[0;34m(\u001b[0m\u001b[0mremove_punctuation\u001b[0m\u001b[0;34m(\u001b[0m\u001b[0;34m\"Hello, World!\"\u001b[0m\u001b[0;34m)\u001b[0m\u001b[0;34m)\u001b[0m \u001b[0;31m# Output: Hello World\u001b[0m\u001b[0;34m\u001b[0m\u001b[0;34m\u001b[0m\u001b[0m\n\u001b[0m\u001b[1;32m     19\u001b[0m \u001b[0mprint\u001b[0m\u001b[0;34m(\u001b[0m\u001b[0mremove_punctuation\u001b[0m\u001b[0;34m(\u001b[0m\u001b[0;34m\"Python is fun.\"\u001b[0m\u001b[0;34m)\u001b[0m\u001b[0;34m)\u001b[0m \u001b[0;31m# Output: Python is fun\u001b[0m\u001b[0;34m\u001b[0m\u001b[0;34m\u001b[0m\u001b[0m\n\u001b[1;32m     20\u001b[0m \u001b[0mprint\u001b[0m\u001b[0;34m(\u001b[0m\u001b[0mremove_punctuation\u001b[0m\u001b[0;34m(\u001b[0m\u001b[0;34m\"No, thanks.\"\u001b[0m\u001b[0;34m)\u001b[0m\u001b[0;34m)\u001b[0m \u001b[0;31m# Output: No thanks\u001b[0m\u001b[0;34m\u001b[0m\u001b[0;34m\u001b[0m\u001b[0m\n",
            "\u001b[0;32m<ipython-input-17-12bdfb05ab46>\u001b[0m in \u001b[0;36mremove_punctuation\u001b[0;34m(string)\u001b[0m\n\u001b[1;32m      9\u001b[0m     \u001b[0;32mfor\u001b[0m \u001b[0mchar\u001b[0m \u001b[0;32min\u001b[0m \u001b[0mstring\u001b[0m\u001b[0;34m:\u001b[0m\u001b[0;34m\u001b[0m\u001b[0;34m\u001b[0m\u001b[0m\n\u001b[1;32m     10\u001b[0m         \u001b[0;31m# Check if the character is not a punctuation character\u001b[0m\u001b[0;34m\u001b[0m\u001b[0;34m\u001b[0m\u001b[0m\n\u001b[0;32m---> 11\u001b[0;31m         \u001b[0;32mif\u001b[0m \u001b[0mchar\u001b[0m \u001b[0;32mnot\u001b[0m \u001b[0;32min\u001b[0m \u001b[0mstring\u001b[0m\u001b[0;34m.\u001b[0m\u001b[0mpunctuation\u001b[0m\u001b[0;34m:\u001b[0m\u001b[0;34m\u001b[0m\u001b[0;34m\u001b[0m\u001b[0m\n\u001b[0m\u001b[1;32m     12\u001b[0m             \u001b[0;31m# Append the character to the result\u001b[0m\u001b[0;34m\u001b[0m\u001b[0;34m\u001b[0m\u001b[0m\n\u001b[1;32m     13\u001b[0m             \u001b[0mresult\u001b[0m \u001b[0;34m+=\u001b[0m \u001b[0mchar\u001b[0m\u001b[0;34m\u001b[0m\u001b[0;34m\u001b[0m\u001b[0m\n",
            "\u001b[0;31mAttributeError\u001b[0m: 'str' object has no attribute 'punctuation'"
          ]
        }
      ]
    },
    {
      "cell_type": "markdown",
      "source": [
        "38 Check if a string contains only digits."
      ],
      "metadata": {
        "id": "-080CBwHF9hq"
      }
    },
    {
      "cell_type": "code",
      "source": [
        "# Define a function that takes a string as an argument\n",
        "def is_digit(string):\n",
        "    # Loop through each character in the string\n",
        "    for char in string:\n",
        "        # Check if the character is not a digit\n",
        "        if not char.isdigit():\n",
        "            # Return False\n",
        "            return False\n",
        "    # Return True if the loop completes without returning False\n",
        "    return True\n",
        "\n",
        "# Test the function with some examples\n",
        "print(is_digit(\"123\")) # Output: True\n",
        "print(is_digit(\"abc\")) # Output: False\n",
        "print(is_digit(\"1a2\")) # Output: False"
      ],
      "metadata": {
        "colab": {
          "base_uri": "https://localhost:8080/"
        },
        "id": "Q3HWH-RFEpGH",
        "outputId": "1ef42724-c69d-4f3a-c50d-161574c20a0a"
      },
      "execution_count": 18,
      "outputs": [
        {
          "output_type": "stream",
          "name": "stdout",
          "text": [
            "True\n",
            "False\n",
            "False\n"
          ]
        }
      ]
    },
    {
      "cell_type": "markdown",
      "source": [
        "39 Check if a string contains only alphabets."
      ],
      "metadata": {
        "id": "rI8XbYXTGTWu"
      }
    },
    {
      "cell_type": "code",
      "source": [
        "# Define a function that takes a string as an argument\n",
        "def is_alpha(string):\n",
        "    # Loop through each character in the string\n",
        "    for char in string:\n",
        "        # Check if the character is not an alphabet\n",
        "        if not char.isalpha():\n",
        "            # Return False\n",
        "            return False\n",
        "    # Return True if the loop completes without returning False\n",
        "    return True\n",
        "\n",
        "# Test the function with some examples\n",
        "print(is_alpha(\"Hello\")) # Output: True\n",
        "print(is_alpha(\"123\")) # Output: False\n",
        "print(is_alpha(\"Hello123\")) # Output: False\n"
      ],
      "metadata": {
        "colab": {
          "base_uri": "https://localhost:8080/"
        },
        "id": "0c33Xhf3GMEq",
        "outputId": "6909d676-55d0-4ce4-a107-02629ee83053"
      },
      "execution_count": 19,
      "outputs": [
        {
          "output_type": "stream",
          "name": "stdout",
          "text": [
            "True\n",
            "False\n",
            "False\n"
          ]
        }
      ]
    },
    {
      "cell_type": "markdown",
      "source": [
        "40 Convert a string to a list of characters."
      ],
      "metadata": {
        "id": "9iAUjTxoGt4K"
      }
    },
    {
      "cell_type": "code",
      "source": [
        "# Define a function that takes a string as an argument\n",
        "def string_to_list(string):\n",
        "    # Initialize an empty list to store the characters\n",
        "    result = []\n",
        "    # Loop through each character in the string\n",
        "    for char in string:\n",
        "        # Append the character to the result list\n",
        "        result.append(char)\n",
        "    # Return the result list\n",
        "    return result\n",
        "\n",
        "# Test the function with some examples\n",
        "print(string_to_list(\"Hello\")) # Output: ['H', 'e', 'l', 'l', 'o']\n",
        "print(string_to_list(\"Python\")) # Output: ['P', 'y', 't', 'h', 'o', 'n']\n",
        "print(string_to_list(\"Bing\")) # Output: ['B', 'i', 'n', 'g']"
      ],
      "metadata": {
        "colab": {
          "base_uri": "https://localhost:8080/"
        },
        "id": "9j4AeZ3yG0yR",
        "outputId": "007701da-bbcd-472d-f548-2956eb92a2cf"
      },
      "execution_count": 20,
      "outputs": [
        {
          "output_type": "stream",
          "name": "stdout",
          "text": [
            "['H', 'e', 'l', 'l', 'o']\n",
            "['P', 'y', 't', 'h', 'o', 'n']\n",
            "['B', 'i', 'n', 'g']\n"
          ]
        }
      ]
    },
    {
      "cell_type": "markdown",
      "source": [
        "41 Check if two strings are anagrams."
      ],
      "metadata": {
        "id": "bb0mombRHM3r"
      }
    },
    {
      "cell_type": "code",
      "source": [
        "# Define a function that takes two strings as arguments\n",
        "def is_anagram(string1, string2):\n",
        "    # Convert both strings to lowercase\n",
        "    string1 = string1.lower()\n",
        "    string2 = string2.lower()\n",
        "    # Sort both strings alphabetically\n",
        "    string1 = sorted(string1)\n",
        "    string2 = sorted(string2)\n",
        "    # Compare the sorted strings for equality\n",
        "    return string1 == string2\n",
        "\n",
        "# Test the function with some examples\n",
        "print(is_anagram(\"silent\", \"listen\")) # Output: True\n",
        "print(is_anagram(\"python\", \"typhon\")) # Output: True\n",
        "print(is_anagram(\"bing\", \"king\")) # Output: False"
      ],
      "metadata": {
        "colab": {
          "base_uri": "https://localhost:8080/"
        },
        "id": "p68vmYH6HD_O",
        "outputId": "949b1a1a-0bae-436d-99ff-8f8137d473b9"
      },
      "execution_count": 21,
      "outputs": [
        {
          "output_type": "stream",
          "name": "stdout",
          "text": [
            "True\n",
            "True\n",
            "False\n"
          ]
        }
      ]
    },
    {
      "cell_type": "markdown",
      "source": [
        "42 Encode a string using a Caesar cipher."
      ],
      "metadata": {
        "id": "Y2YB4sKkH41k"
      }
    },
    {
      "cell_type": "code",
      "source": [
        "# Define a function that takes a string and a shift as arguments\n",
        "def caesar_cipher(string, shift):\n",
        "    # Initialize an empty string to store the result\n",
        "    result = \"\"\n",
        "    # Loop through each character in the string\n",
        "    for char in string:\n",
        "        # Check if the character is an uppercase letter\n",
        "        if char.isupper():\n",
        "            # Convert the character to its ASCII code\n",
        "            code = ord(char)\n",
        "            # Add the shift to the code, modulo 26 to wrap around the alphabet\n",
        "            code = (code + shift - 65) % 26 + 65\n",
        "            # Convert the code back to a character and append it to the result\n",
        "            result += chr(code)\n",
        "        # Check if the character is a lowercase letter\n",
        "        elif char.islower():\n",
        "            # Convert the character to its ASCII code\n",
        "            code = ord(char)\n",
        "            # Add the shift to the code, modulo 26 to wrap around the alphabet\n",
        "            code = (code + shift - 97) % 26 + 97\n",
        "            # Convert the code back to a character and append it to the result\n",
        "            result += chr(code)\n",
        "        # Otherwise, just append the character to the result\n",
        "        else:\n",
        "            result += char\n",
        "    # Return the result string\n",
        "    return result\n",
        "\n",
        "# Test the function with some examples\n",
        "print(caesar_cipher(\"Hello World\", 3)) # Output: Khoor Zruog\n",
        "print(caesar_cipher(\"Python\", 5)) # Output: Udmjot\n",
        "print(caesar_cipher(\"Bing\", 1)) # Output: Cjoh\n"
      ],
      "metadata": {
        "colab": {
          "base_uri": "https://localhost:8080/"
        },
        "id": "Za1D-qGkHen-",
        "outputId": "48a1896f-d55f-4d00-aa87-fc6554e26144"
      },
      "execution_count": 22,
      "outputs": [
        {
          "output_type": "stream",
          "name": "stdout",
          "text": [
            "Khoor Zruog\n",
            "Udymts\n",
            "Cjoh\n"
          ]
        }
      ]
    },
    {
      "cell_type": "markdown",
      "source": [
        "Decode a Caesar cipher encoded string."
      ],
      "metadata": {
        "id": "sg752uc-Iwb8"
      }
    },
    {
      "cell_type": "code",
      "source": [
        "# Define a function that takes a string and a shift as arguments\n",
        "def caesar_cipher(string, shift):\n",
        "    # Initialize an empty string to store the result\n",
        "    result = \"\"\n",
        "    # Loop through each character in the string\n",
        "    for char in string:\n",
        "        # Check if the character is an uppercase letter\n",
        "        if char.isupper():\n",
        "            # Convert the character to its ASCII code\n",
        "            code = ord(char)\n",
        "            # Add the shift to the code, modulo 26 to wrap around the alphabet\n",
        "            code = (code + shift - 65) % 26 + 65\n",
        "            # Convert the code back to a character and append it to the result\n",
        "            result += chr(code)\n",
        "        # Check if the character is a lowercase letter\n",
        "        elif char.islower():\n",
        "            # Convert the character to its ASCII code\n",
        "            code = ord(char)\n",
        "            # Add the shift to the code, modulo 26 to wrap around the alphabet\n",
        "            code = (code + shift - 97) % 26 + 97\n",
        "            # Convert the code back to a character and append it to the result\n",
        "            result += chr(code)\n",
        "        # Otherwise, just append the character to the result\n",
        "        else:\n",
        "            result += char\n",
        "    # Return the result string\n",
        "    return result\n",
        "\n",
        "# Test the function with some examples\n",
        "print(caesar_cipher(\"Hello World\", 3)) # Output: Khoor Zruog\n",
        "print(caesar_cipher(\"Python\", 5)) # Output: Udmjot\n",
        "print(caesar_cipher(\"Bing\", 1)) # Output: Cjoh\n"
      ],
      "metadata": {
        "colab": {
          "base_uri": "https://localhost:8080/"
        },
        "id": "v3BmljqEISfv",
        "outputId": "c581aba8-2f89-400b-a76f-84f0e8829196"
      },
      "execution_count": 23,
      "outputs": [
        {
          "output_type": "stream",
          "name": "stdout",
          "text": [
            "Khoor Zruog\n",
            "Udymts\n",
            "Cjoh\n"
          ]
        }
      ]
    },
    {
      "cell_type": "markdown",
      "source": [
        "44 Find the most frequent word in a string."
      ],
      "metadata": {
        "id": "E9qmnyxrI6DT"
      }
    },
    {
      "cell_type": "code",
      "source": [
        "# Define a function that takes a string as an argument\n",
        "def most_frequent_word(string):\n",
        "    # Split the string into a list of words\n",
        "    words = string.split()\n",
        "    # Initialize an empty dictionary to store the word frequencies\n",
        "    freq = {}\n",
        "    # Loop through each word in the words list\n",
        "    for word in words:\n",
        "        # Check if the word is already in the dictionary\n",
        "        if word in freq:\n",
        "            # Increment its frequency by one\n",
        "            freq[word] += 1\n",
        "        # Otherwise, add the word to the dictionary with a frequency of one\n",
        "        else:\n",
        "            freq[word] = 1\n",
        "    # Find the maximum frequency value in the dictionary\n",
        "    max_freq = max(freq.values())\n",
        "    # Initialize an empty list to store the most frequent words\n",
        "    result = []\n",
        "    # Loop through each key-value pair in the dictionary\n",
        "    for word, count in freq.items():\n",
        "        # Check if the value is equal to the maximum frequency\n",
        "        if count == max_freq:\n",
        "            # Append the key to the result list\n",
        "            result.append(word)\n",
        "    # Return the result list\n",
        "    return result\n",
        "\n",
        "# Test the function with some examples\n",
        "print(most_frequent_word(\"Hello World Hello\")) # Output: ['Hello']\n",
        "print(most_frequent_word(\"Python is fun and fun is Python\")) # Output: ['Python', 'fun']\n",
        "print(most_frequent_word(\"Bing Bing Bing\")) # Output: ['Bing']\n"
      ],
      "metadata": {
        "colab": {
          "base_uri": "https://localhost:8080/"
        },
        "id": "JOzDwghrI2A_",
        "outputId": "e17fe098-4855-4477-e424-d5870072fbd8"
      },
      "execution_count": 24,
      "outputs": [
        {
          "output_type": "stream",
          "name": "stdout",
          "text": [
            "['Hello']\n",
            "['Python', 'is', 'fun']\n",
            "['Bing']\n"
          ]
        }
      ]
    },
    {
      "cell_type": "markdown",
      "source": [
        "Find all unique words in a string."
      ],
      "metadata": {
        "id": "_2Cir3nmKX5k"
      }
    },
    {
      "cell_type": "code",
      "source": [
        "# Define a function that takes a string as an argument\n",
        "def unique_words(string):\n",
        "    # Split the string into a list of words\n",
        "    words = string.split()\n",
        "    # Initialize an empty set to store the unique words\n",
        "    result = set()\n",
        "    # Loop through each word in the words list\n",
        "    for word in words:\n",
        "        # Add the word to the result set\n",
        "        result.add(word)\n",
        "    # Return the result set\n",
        "    return result\n",
        "\n",
        "# Test the function with some examples\n",
        "print(unique_words(\"Hello World Hello\")) # Output: {'Hello', 'World'}\n",
        "print(unique_words(\"Python is fun and fun is Python\")) # Output: {'Python', 'is', 'fun', 'and'}\n",
        "print(unique_words(\"Bing Bing Bing\")) # Output: {'Bing'}\n"
      ],
      "metadata": {
        "colab": {
          "base_uri": "https://localhost:8080/"
        },
        "id": "o6a_eEO2J78j",
        "outputId": "89244952-8ac4-4af4-a055-370536803744"
      },
      "execution_count": 25,
      "outputs": [
        {
          "output_type": "stream",
          "name": "stdout",
          "text": [
            "{'Hello', 'World'}\n",
            "{'fun', 'is', 'Python', 'and'}\n",
            "{'Bing'}\n"
          ]
        }
      ]
    },
    {
      "cell_type": "markdown",
      "source": [
        "46 Count the number of syllables in a string."
      ],
      "metadata": {
        "id": "aZ2_XLeQKelD"
      }
    },
    {
      "cell_type": "code",
      "source": [
        "# Define a function that takes a string as an argument\n",
        "def count_syllables(string):\n",
        "    # Convert the string to lowercase\n",
        "    string = string.lower()\n",
        "    # Define a list of vowel characters\n",
        "    vowels = \"aeiouy\"\n",
        "    # Initialize a counter variable to zero\n",
        "    counter = 0\n",
        "    # Loop through each character in the string\n",
        "    for i in range(len(string)):\n",
        "        # Check if the character is a vowel\n",
        "        if string[i] in vowels:\n",
        "            # Increment the counter by one\n",
        "            counter += 1\n",
        "            # Check if the character is not the last one in the string\n",
        "            if i < len(string) - 1:\n",
        "                # Check if the next character is also a vowel\n",
        "                if string[i+1] in vowels:\n",
        "                    # Decrement the counter by one to avoid counting adjacent vowels as separate syllables\n",
        "                    counter -= 1\n",
        "    # Check if the string ends with an \"e\" that is not preceded by another vowel\n",
        "    if string.endswith(\"e\") and string[-2] not in vowels:\n",
        "        # Decrement the counter by one to avoid counting the silent \"e\" as a syllable\n",
        "        counter -= 1\n",
        "    # Return the counter value\n",
        "    return counter\n",
        "\n",
        "# Test the function with some examples\n",
        "print(count_syllables(\"Hello\")) # Output: 2\n",
        "print(count_syllables(\"Python\")) # Output: 2\n",
        "print(count_syllables(\"Bing\")) # Output: 1\n"
      ],
      "metadata": {
        "colab": {
          "base_uri": "https://localhost:8080/"
        },
        "id": "42saXWmwKY6P",
        "outputId": "511933ab-c63b-4856-ab78-ebcb5f2c1c5a"
      },
      "execution_count": 26,
      "outputs": [
        {
          "output_type": "stream",
          "name": "stdout",
          "text": [
            "2\n",
            "2\n",
            "1\n"
          ]
        }
      ]
    },
    {
      "cell_type": "markdown",
      "source": [
        "47 Check if a string contains any special characters."
      ],
      "metadata": {
        "id": "pZ3BuPKTKuck"
      }
    },
    {
      "cell_type": "code",
      "source": [
        "# Define a function that takes a string as an argument\n",
        "def has_special_char(string):\n",
        "    # Define a list of special characters\n",
        "    special_chars = \"!@#$%^&*()_+-=[]{};:'\\\"\\\\|,.<>/?`~\"\n",
        "    # Loop through each character in the string\n",
        "    for char in string:\n",
        "        # Check if the character is in the special_chars list\n",
        "        if char in special_chars:\n",
        "            # Return True\n",
        "            return True\n",
        "    # Return False if the loop completes without returning True\n",
        "    return False\n",
        "\n",
        "# Test the function with some examples\n",
        "print(has_special_char(\"Hello\")) # Output: False\n",
        "print(has_special_char(\"Python!\")) # Output: True\n",
        "print(has_special_char(\"Bing#1\")) # Output: True\n"
      ],
      "metadata": {
        "colab": {
          "base_uri": "https://localhost:8080/"
        },
        "id": "W5bNr3YRKrII",
        "outputId": "f721c658-8214-4dfc-ecdc-9e2e30a20ffa"
      },
      "execution_count": 27,
      "outputs": [
        {
          "output_type": "stream",
          "name": "stdout",
          "text": [
            "False\n",
            "True\n",
            "True\n"
          ]
        }
      ]
    },
    {
      "cell_type": "markdown",
      "source": [
        "Remove the nth word from a string."
      ],
      "metadata": {
        "id": "ktgiSM7mLDLD"
      }
    },
    {
      "cell_type": "code",
      "source": [
        "# Define a function that takes a string and an integer n as arguments\n",
        "def remove_nth_word(string, n):\n",
        "    # Split the string into a list of words\n",
        "    words = string.split()\n",
        "    # Check if n is a valid index for the words list\n",
        "    if 0 < n <= len(words):\n",
        "        # Remove the nth word from the words list\n",
        "        words.pop(n-1)\n",
        "        # Join the words list with spaces and return the result\n",
        "        result = \" \".join(words)\n",
        "        return result\n",
        "    # Otherwise, return the original string\n",
        "    else:\n",
        "        return string\n",
        "\n",
        "# Test the function with some examples\n",
        "print(remove_nth_word(\"Hello World\", 2)) # Output: Hello\n",
        "print(remove_nth_word(\"This is a test\", 3)) # Output: This is test\n",
        "print(remove_nth_word(\"I love python\", 4)) # Output: I love python\n"
      ],
      "metadata": {
        "colab": {
          "base_uri": "https://localhost:8080/"
        },
        "id": "XDiihTSQK_7e",
        "outputId": "50177ebd-b124-49f9-d066-fc67f312c0c0"
      },
      "execution_count": 28,
      "outputs": [
        {
          "output_type": "stream",
          "name": "stdout",
          "text": [
            "Hello\n",
            "This is test\n",
            "I love python\n"
          ]
        }
      ]
    },
    {
      "cell_type": "markdown",
      "source": [
        "Insert a word at the nth position in a string."
      ],
      "metadata": {
        "id": "rCIAkaZALXHh"
      }
    },
    {
      "cell_type": "code",
      "source": [
        "# Define a function that takes a string, a word, and an integer n as arguments\n",
        "def insert_nth_word(string, word, n):\n",
        "    # Split the string into a list of words\n",
        "    words = string.split()\n",
        "    # Check if n is a valid index for the words list\n",
        "    if 0 < n <= len(words) + 1:\n",
        "        # Insert the word at the nth position in the words list\n",
        "        words.insert(n-1, word)\n",
        "        # Join the words list with spaces and return the result\n",
        "        result = \" \".join(words)\n",
        "        return result\n",
        "    # Otherwise, return the original string\n",
        "    else:\n",
        "        return string\n",
        "\n",
        "# Test the function with some examples\n",
        "print(insert_nth_word(\"Hello World\", \"Beautiful\", 2)) # Output: Hello Beautiful World\n",
        "print(insert_nth_word(\"This is a test\", \"not\", 3)) # Output: This is not a test\n",
        "print(insert_nth_word(\"I love python\", \"really\", 2)) # Output: I really love python\n"
      ],
      "metadata": {
        "colab": {
          "base_uri": "https://localhost:8080/"
        },
        "id": "XmaOSA6rLSWe",
        "outputId": "d77804d1-108f-406d-9001-a4a8fc3dd9b7"
      },
      "execution_count": 29,
      "outputs": [
        {
          "output_type": "stream",
          "name": "stdout",
          "text": [
            "Hello Beautiful World\n",
            "This is not a test\n",
            "I really love python\n"
          ]
        }
      ]
    },
    {
      "cell_type": "markdown",
      "source": [
        "Convert a CSV string to a list of lists."
      ],
      "metadata": {
        "id": "0_IFBhgCL1OV"
      }
    },
    {
      "cell_type": "code",
      "source": [
        "# Define a function that takes a CSV string as an argument\n",
        "def csv_to_list(string):\n",
        "    # Initialize an empty list to store the result\n",
        "    result = []\n",
        "    # Split the string by the newline character to get the rows\n",
        "    rows = string.split(\"\\n\")\n",
        "    # Loop through each row in the rows list\n",
        "    for row in rows:\n",
        "        # Split the row by the comma character to get the values\n",
        "        values = row.split(\",\")\n",
        "        # Append the values list to the result list\n",
        "        result.append(values)\n",
        "    # Return the result list\n",
        "    return result\n",
        "\n",
        "# Test the function with some examples\n",
        "print(csv_to_list(\"name,age,gender\\nAlice,25,F\\nBob,30,M\")) # Output: [['name', 'age', 'gender'], ['Alice', '25', 'F'], ['Bob', '30', 'M']]\n",
        "print(csv_to_list(\"id,product,price\\n1,apple,0.99\\n2,banana,0.79\\n3,orange,0.89\")) # Output: [['id', 'product', 'price'], ['1', 'apple', '0.99'], ['2', 'banana', '0.79'], ['3', 'orange', '0.89']]\n",
        "print(csv_to_list(\"country,capital,population\\nIndia,New Delhi,1366\\nChina,Beijing,1398\\nUSA,Washington,331\")) # Output: [['country', 'capital', 'population'], ['India', 'New Delhi', '1366'], ['China', 'Beijing', '1398'], ['USA', 'Washington', '331']]\n"
      ],
      "metadata": {
        "colab": {
          "base_uri": "https://localhost:8080/"
        },
        "id": "6ymo5UO6Lv7p",
        "outputId": "89b09925-b38f-40a7-d3f5-1293dffd200c"
      },
      "execution_count": 30,
      "outputs": [
        {
          "output_type": "stream",
          "name": "stdout",
          "text": [
            "[['name', 'age', 'gender'], ['Alice', '25', 'F'], ['Bob', '30', 'M']]\n",
            "[['id', 'product', 'price'], ['1', 'apple', '0.99'], ['2', 'banana', '0.79'], ['3', 'orange', '0.89']]\n",
            "[['country', 'capital', 'population'], ['India', 'New Delhi', '1366'], ['China', 'Beijing', '1398'], ['USA', 'Washington', '331']]\n"
          ]
        }
      ]
    }
  ]
}