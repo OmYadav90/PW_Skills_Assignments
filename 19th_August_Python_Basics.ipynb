{
  "nbformat": 4,
  "nbformat_minor": 0,
  "metadata": {
    "colab": {
      "provenance": []
    },
    "kernelspec": {
      "name": "python3",
      "display_name": "Python 3"
    },
    "language_info": {
      "name": "python"
    }
  },
  "cells": [
    {
      "cell_type": "markdown",
      "source": [
        "1. Declare two variables, `x` and `y`, and assign them integer values. Swap the\n",
        "values of these variables without using any temporary variable."
      ],
      "metadata": {
        "id": "upBVVthZkZEv"
      }
    },
    {
      "cell_type": "code",
      "source": [
        "# Declare two variables, x and y, and assign them integer values\n",
        "x = 10\n",
        "y = 20\n"
      ],
      "metadata": {
        "id": "XTjvmpx8kFqm"
      },
      "execution_count": 1,
      "outputs": []
    },
    {
      "cell_type": "code",
      "source": [
        "\n",
        "# Swap the values of x and y without using a temporary variable\n",
        "x, y = y, x # tuple assignment\n"
      ],
      "metadata": {
        "id": "FAjSn_aGkK4O"
      },
      "execution_count": 2,
      "outputs": []
    },
    {
      "cell_type": "code",
      "source": [
        "\n",
        "# Print the swapped values of x and y\n",
        "print(\"x =\", x)\n",
        "print(\"y =\", y)\n"
      ],
      "metadata": {
        "colab": {
          "base_uri": "https://localhost:8080/"
        },
        "id": "-_qRBZQhkMnB",
        "outputId": "f184cf3a-5f17-440a-853f-66187237462a"
      },
      "execution_count": 3,
      "outputs": [
        {
          "output_type": "stream",
          "name": "stdout",
          "text": [
            "x = 20\n",
            "y = 10\n"
          ]
        }
      ]
    },
    {
      "cell_type": "code",
      "source": [],
      "metadata": {
        "id": "S4HeXSJ0ky01"
      },
      "execution_count": null,
      "outputs": []
    },
    {
      "cell_type": "markdown",
      "source": [
        "2. Create a program that calculates the area of a rectangle. Take the length and\n",
        "width as inputs from the user and store them in variables. Calculate and\n",
        "display the area."
      ],
      "metadata": {
        "id": "th1DqZEOlIFF"
      }
    },
    {
      "cell_type": "code",
      "source": [
        "# Take the length and width as inputs from the user and store them in variables\n",
        "length = float(input(\"Enter the length of the rectangle: \"))\n",
        "width = float(input(\"Enter the width of the rectangle: \"))\n",
        "\n",
        "# Calculate and display the area\n",
        "area = length * width\n",
        "print(\"The area of the rectangle is\", area)"
      ],
      "metadata": {
        "colab": {
          "base_uri": "https://localhost:8080/"
        },
        "id": "x94JhNXVlI_q",
        "outputId": "04699195-ecbc-4320-b195-4f3c3c8f30cb"
      },
      "execution_count": 2,
      "outputs": [
        {
          "output_type": "stream",
          "name": "stdout",
          "text": [
            "Enter the length of the rectangle: 12\n",
            "Enter the width of the rectangle: 34\n",
            "The area of the rectangle is 408.0\n"
          ]
        }
      ]
    },
    {
      "cell_type": "code",
      "source": [],
      "metadata": {
        "id": "4JT-S1IZtEQp"
      },
      "execution_count": null,
      "outputs": []
    },
    {
      "cell_type": "markdown",
      "source": [
        "3. Write a Python program that converts temperatures from Celsius to\n",
        "Fahrenheit. Take the temperature in Celsius as input, store it in a variable,\n",
        "convert it to Fahrenheit, and display the result."
      ],
      "metadata": {
        "id": "KPZKXSc4tbsD"
      }
    },
    {
      "cell_type": "code",
      "source": [
        "# Take the temperature in Celsius as input from the user and store it in a variable\n",
        "celsius = float(input(\"Enter the temperature in Celsius: \"))\n",
        "\n",
        "# Convert the temperature from Celsius to Fahrenheit\n",
        "fahrenheit = (celsius * 9/5) + 32\n",
        "\n",
        "# Display the result\n",
        "print(f\"{celsius}°C is equal to {fahrenheit}°F\")\n"
      ],
      "metadata": {
        "colab": {
          "base_uri": "https://localhost:8080/"
        },
        "id": "U2JgDZKotcJX",
        "outputId": "d50403f1-ce65-4ea7-bcaa-2f9eff0b5a43"
      },
      "execution_count": 3,
      "outputs": [
        {
          "output_type": "stream",
          "name": "stdout",
          "text": [
            "Enter the temperature in Celsius: 45\n",
            "45.0°C is equal to 113.0°F\n"
          ]
        }
      ]
    },
    {
      "cell_type": "code",
      "source": [
        "## TOPIC: String Based Questions"
      ],
      "metadata": {
        "id": "tz1_q4zvtrAZ"
      },
      "execution_count": null,
      "outputs": []
    },
    {
      "cell_type": "markdown",
      "source": [
        "1. Write a Python program that takes a string as input and prints the length of\n",
        "the string."
      ],
      "metadata": {
        "id": "p1wO8k6puGol"
      }
    },
    {
      "cell_type": "code",
      "source": [
        "# Take a string as input from the user and store it in a variable\n",
        "s = input(\"Enter a string: \")\n",
        "\n",
        "# Print the length of the string\n",
        "print(\"The length of the string is\", len(s))\n"
      ],
      "metadata": {
        "colab": {
          "base_uri": "https://localhost:8080/"
        },
        "id": "WhgGRb5HuHIU",
        "outputId": "fd1b8b01-7cdc-4216-fe2c-d7d0b8d6ba67"
      },
      "execution_count": 4,
      "outputs": [
        {
          "output_type": "stream",
          "name": "stdout",
          "text": [
            "Enter a string: Student at PWSkills\n",
            "The length of the string is 19\n"
          ]
        }
      ]
    },
    {
      "cell_type": "code",
      "source": [],
      "metadata": {
        "id": "JY-ys6wuuqxu"
      },
      "execution_count": null,
      "outputs": []
    },
    {
      "cell_type": "markdown",
      "source": [
        "2. Create a program that takes a sentence from the user and counts the number\n",
        "of vowels (a, e, i, o, u) in the string."
      ],
      "metadata": {
        "id": "tZEG5DsAu3sp"
      }
    },
    {
      "cell_type": "code",
      "source": [
        "# Take a sentence from the user and store it in a variable\n",
        "sentence = input(\"Enter a sentence: \")\n",
        "\n",
        "# Initialize a variable to store the number of vowels\n",
        "count = 0\n",
        "\n",
        "# Iterate over each character in the sentence\n",
        "for char in sentence:\n",
        "  # Check if the character is a vowel\n",
        "  if char.lower() in \"aeiou\":\n",
        "    # Increment the count by one\n",
        "    count += 1\n",
        "\n",
        "# Print the number of vowels\n",
        "print(\"The number of vowels in the sentence is\", count)\n"
      ],
      "metadata": {
        "colab": {
          "base_uri": "https://localhost:8080/"
        },
        "id": "HVw8RgGvu4IE",
        "outputId": "7fbd9252-f213-4d75-99f8-c7b16c122441"
      },
      "execution_count": 5,
      "outputs": [
        {
          "output_type": "stream",
          "name": "stdout",
          "text": [
            "Enter a sentence: This is the start of the year and we had started PWskills i mid of the year\n",
            "The number of vowels in the sentence is 20\n"
          ]
        }
      ]
    },
    {
      "cell_type": "markdown",
      "source": [
        "3. Given a string, reverse the order of characters using string slicing and print\n",
        "the reversed string."
      ],
      "metadata": {
        "id": "_Ur-zGAkwQYl"
      }
    },
    {
      "cell_type": "code",
      "source": [
        "# Take a string as input from the user and store it in a variable\n",
        "s = input(\"Enter a string: \")\n",
        "\n",
        "# Reverse the order of characters in the string using string slicing\n",
        "reversed_s = s[::-1]\n",
        "\n",
        "# Print the reversed string\n",
        "print(\"The reversed string is\", reversed_s)\n"
      ],
      "metadata": {
        "colab": {
          "base_uri": "https://localhost:8080/"
        },
        "id": "WEt7YSm4wVhG",
        "outputId": "93931c06-b2c9-49c3-f20e-7147d0d06242"
      },
      "execution_count": 6,
      "outputs": [
        {
          "output_type": "stream",
          "name": "stdout",
          "text": [
            "Enter a string: pwskills started education in DS\n",
            "The reversed string is SD ni noitacude detrats sllikswp\n"
          ]
        }
      ]
    },
    {
      "cell_type": "code",
      "source": [],
      "metadata": {
        "id": "cHnSbxY7wktK"
      },
      "execution_count": null,
      "outputs": []
    },
    {
      "cell_type": "markdown",
      "source": [
        "4. Write a program that takes a string as input and checks if it is a palindrome\n",
        "(reads the same forwards and backwards)."
      ],
      "metadata": {
        "id": "LxACnLHVyZHo"
      }
    },
    {
      "cell_type": "code",
      "source": [
        "# Take a string as input from the user and store it in a variable\n",
        "s = input(\"Enter a string: \")\n",
        "\n",
        "# Initialize two variables to store the indices of the characters from both ends of the string\n",
        "i = 0 # left index\n",
        "j = len(s) - 1 # right index\n",
        "\n",
        "# Initialize a variable to store the boolean value of whether the string is a palindrome or not\n",
        "is_palindrome = True\n",
        "\n",
        "# Iterate over the string until the middle point\n",
        "while i < j:\n",
        "  # Check if the characters at the current indices are equal\n",
        "  if s[i] == s[j]:\n",
        "    # Increment the left index and decrement the right index\n",
        "    i += 1\n",
        "    j -= 1\n",
        "  else:\n",
        "    # Set the boolean value to False and break the loop\n",
        "    is_palindrome = False\n",
        "    break\n",
        "\n",
        "# Print the result based on the boolean value\n",
        "if is_palindrome:\n",
        "  print(\"The string is a palindrome\")\n",
        "else:\n",
        "  print(\"The string is not a palindrome\")\n"
      ],
      "metadata": {
        "colab": {
          "base_uri": "https://localhost:8080/"
        },
        "id": "JLIFCiqyyZjZ",
        "outputId": "c5329109-e23c-43e6-ca24-4c2f3208de86"
      },
      "execution_count": 8,
      "outputs": [
        {
          "output_type": "stream",
          "name": "stdout",
          "text": [
            "Enter a string: abcdcba\n",
            "The string is a palindrome\n"
          ]
        }
      ]
    },
    {
      "cell_type": "markdown",
      "source": [
        "5. Create a program that takes a string as input and removes all the spaces from\n",
        "it. Print the modified string without spaces."
      ],
      "metadata": {
        "id": "BhCd-k9AzN1s"
      }
    },
    {
      "cell_type": "code",
      "source": [
        "# Create a string variable\n",
        "s= 'my name is Om Yadav'\n",
        "\n",
        "#split the each word with help of space\n",
        "words = s.split()\n",
        "\n",
        "# Join the words back together without spaces\n",
        "result_string = \"\".join(words)\n",
        "\n",
        "# Print the modified string without spaces\n",
        "print(\"Modified string without spaces:\", result_string)"
      ],
      "metadata": {
        "colab": {
          "base_uri": "https://localhost:8080/"
        },
        "id": "YEiqDsTzyfW3",
        "outputId": "fccf14cd-85cd-484f-92da-33aa0eb69c27"
      },
      "execution_count": 14,
      "outputs": [
        {
          "output_type": "stream",
          "name": "stdout",
          "text": [
            "Modified string without spaces: mynameisOmYadav\n"
          ]
        }
      ]
    },
    {
      "cell_type": "code",
      "source": [],
      "metadata": {
        "colab": {
          "base_uri": "https://localhost:8080/",
          "height": 35
        },
        "id": "nZ8bmvO90VWG",
        "outputId": "5166346f-64cd-48dd-d93c-bd19f8d99477"
      },
      "execution_count": 11,
      "outputs": [
        {
          "output_type": "execute_result",
          "data": {
            "text/plain": [
              "'my name is Om Yadav'"
            ],
            "application/vnd.google.colaboratory.intrinsic+json": {
              "type": "string"
            }
          },
          "metadata": {},
          "execution_count": 11
        }
      ]
    },
    {
      "cell_type": "code",
      "source": [],
      "metadata": {
        "id": "iAtL04n90sAe"
      },
      "execution_count": null,
      "outputs": []
    }
  ]
}