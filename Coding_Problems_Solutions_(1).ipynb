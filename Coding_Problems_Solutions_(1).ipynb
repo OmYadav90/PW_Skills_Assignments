{
  "cells": [
    {
      "cell_type": "markdown",
      "metadata": {
        "id": "RO9SoCopTd6L"
      },
      "source": [
        "# Coding Problems Solutions\n"
      ]
    },
    {
      "cell_type": "code",
      "execution_count": 1,
      "metadata": {
        "colab": {
          "base_uri": "https://localhost:8080/"
        },
        "id": "lbjuLZuSTd6N",
        "outputId": "96eb04d4-492f-447e-9d47-f0112a4d8084"
      },
      "outputs": [
        {
          "output_type": "stream",
          "name": "stdout",
          "text": [
            "Problem 1 Output: 1\n"
          ]
        }
      ],
      "source": [
        "# Problem 1\n",
        "# Given an array of n numbers, give an algorithm which gives the element appearing maximum number of times.\n",
        "def max_occurrence(arr):\n",
        "    count = {}\n",
        "    max_count = 0\n",
        "    max_elem = None\n",
        "\n",
        "    for num in arr:\n",
        "        count[num] = count.get(num, 0) + 1\n",
        "        if count[num] > max_count:\n",
        "            max_count = count[num]\n",
        "            max_elem = num\n",
        "\n",
        "    return max_elem\n",
        "\n",
        "# Example usage\n",
        "arr1 = [1, 3, 2, 1, 2, 1]\n",
        "print(\"Problem 1 Output:\", max_occurrence(arr1))  # Output: 1\n"
      ]
    },
    {
      "cell_type": "code",
      "execution_count": 2,
      "metadata": {
        "colab": {
          "base_uri": "https://localhost:8080/"
        },
        "id": "lOW9LOKRTd6N",
        "outputId": "3aea9e41-b7b0-425e-b5e5-23cd417ebd22"
      },
      "outputs": [
        {
          "output_type": "stream",
          "name": "stdout",
          "text": [
            "Problem 2 Output: 5\n"
          ]
        }
      ],
      "source": [
        "# Problem 2\n",
        "# We are given a list of n-1 integers in the range of 1 to n. One integer is missing. Find that element.\n",
        "def find_missing_number(arr, n):\n",
        "    total = n * (n + 1) // 2\n",
        "    arr_sum = sum(arr)\n",
        "    return total - arr_sum\n",
        "\n",
        "# Example usage\n",
        "arr2 = [1, 2, 4, 6, 3, 7, 8]\n",
        "n2 = 8\n",
        "print(\"Problem 2 Output:\", find_missing_number(arr2, n2))  # Output: 5\n"
      ]
    },
    {
      "cell_type": "code",
      "execution_count": 3,
      "metadata": {
        "colab": {
          "base_uri": "https://localhost:8080/"
        },
        "id": "xNOq3RcTTd6N",
        "outputId": "6cad8deb-40ea-494f-a4fa-d0502c8e3ec3"
      },
      "outputs": [
        {
          "output_type": "stream",
          "name": "stdout",
          "text": [
            "Problem 3 Output: 3\n"
          ]
        }
      ],
      "source": [
        "# Problem 3\n",
        "# Given an array of n positive numbers, find the number that occurs an odd number of times.\n",
        "def find_odd_occurrence(arr):\n",
        "    result = 0\n",
        "    for num in arr:\n",
        "        result ^= num\n",
        "    return result\n",
        "\n",
        "# Example usage\n",
        "arr3 = [1, 2, 3, 2, 3, 1, 3]\n",
        "print(\"Problem 3 Output:\", find_odd_occurrence(arr3))  # Output: 3\n"
      ]
    },
    {
      "cell_type": "code",
      "execution_count": 4,
      "metadata": {
        "colab": {
          "base_uri": "https://localhost:8080/"
        },
        "id": "BlOBtaiLTd6O",
        "outputId": "2b95409a-05f2-46ad-8945-be4066ba6205"
      },
      "outputs": [
        {
          "output_type": "stream",
          "name": "stdout",
          "text": [
            "Problem 4 Output: (7, 10)\n"
          ]
        }
      ],
      "source": [
        "# Problem 4\n",
        "# Find two elements in the array such that their sum equals a given element K.\n",
        "def find_pair_with_sum(arr, K):\n",
        "    seen = set()\n",
        "    for num in arr:\n",
        "        if K - num in seen:\n",
        "            return (num, K - num)\n",
        "        seen.add(num)\n",
        "    return None\n",
        "\n",
        "# Example usage\n",
        "arr4 = [10, 15, 3, 7]\n",
        "K4 = 17\n",
        "print(\"Problem 4 Output:\", find_pair_with_sum(arr4, K4))  # Output: (10, 7)\n"
      ]
    },
    {
      "cell_type": "code",
      "execution_count": 5,
      "metadata": {
        "colab": {
          "base_uri": "https://localhost:8080/"
        },
        "id": "-gL9W0SATd6O",
        "outputId": "9966ed76-6a0e-43a8-c1d0-ef824d0f2122"
      },
      "outputs": [
        {
          "output_type": "stream",
          "name": "stdout",
          "text": [
            "Problem 5 Output: (-80, 85)\n"
          ]
        }
      ],
      "source": [
        "# Problem 5\n",
        "# Find two numbers in the array such that their sum is closest to 0.\n",
        "def closest_to_zero(arr):\n",
        "    arr.sort()\n",
        "    left, right = 0, len(arr) - 1\n",
        "    closest_sum = float('inf')\n",
        "    result = (0, 0)\n",
        "\n",
        "    while left < right:\n",
        "        current_sum = arr[left] + arr[right]\n",
        "        if abs(current_sum) < abs(closest_sum):\n",
        "            closest_sum = current_sum\n",
        "            result = (arr[left], arr[right])\n",
        "\n",
        "        if current_sum < 0:\n",
        "            left += 1\n",
        "        else:\n",
        "            right -= 1\n",
        "\n",
        "    return result\n",
        "\n",
        "# Example usage\n",
        "arr5 = [1, 60, -10, 70, -80, 85]\n",
        "print(\"Problem 5 Output:\", closest_to_zero(arr5))  # Output: (-80, 85)\n"
      ]
    },
    {
      "cell_type": "code",
      "execution_count": 6,
      "metadata": {
        "colab": {
          "base_uri": "https://localhost:8080/"
        },
        "id": "Ukhr3OVgTd6O",
        "outputId": "f6f24d01-d913-4efa-c2bd-ee5196f636a5"
      },
      "outputs": [
        {
          "output_type": "stream",
          "name": "stdout",
          "text": [
            "Problem 6 Output: [(-2, -1, 3), (-2, 0, 2), (-1, 0, 1)]\n"
          ]
        }
      ],
      "source": [
        "# Problem 6\n",
        "# Find three elements such that their sum equals a given number.\n",
        "def three_sum(arr, target):\n",
        "    arr.sort()\n",
        "    result = []\n",
        "\n",
        "    for i in range(len(arr) - 2):\n",
        "        left, right = i + 1, len(arr) - 1\n",
        "        while left < right:\n",
        "            current_sum = arr[i] + arr[left] + arr[right]\n",
        "            if current_sum == target:\n",
        "                result.append((arr[i], arr[left], arr[right]))\n",
        "                left += 1\n",
        "                right -= 1\n",
        "            elif current_sum < target:\n",
        "                left += 1\n",
        "            else:\n",
        "                right -= 1\n",
        "\n",
        "    return result\n",
        "\n",
        "# Example usage\n",
        "arr6 = [1, 2, -2, -1, 0, 3]\n",
        "target6 = 0\n",
        "print(\"Problem 6 Output:\", three_sum(arr6, target6))  # Output: [(1, -1, 0), (2, -2, 0)]\n"
      ]
    },
    {
      "cell_type": "code",
      "execution_count": 7,
      "metadata": {
        "colab": {
          "base_uri": "https://localhost:8080/"
        },
        "id": "5MH691y4Td6O",
        "outputId": "aaf2ae61-e94f-43db-fcf6-33b542ef25c2"
      },
      "outputs": [
        {
          "output_type": "stream",
          "name": "stdout",
          "text": [
            "Problem 7 Output: (3, 4, 5.0)\n"
          ]
        }
      ],
      "source": [
        "# Problem 7\n",
        "# Find three elements i, j, k such that i² + j² = k².\n",
        "def find_pythagorean_triplet(arr):\n",
        "    squares = {x * x for x in arr}\n",
        "    for i in range(len(arr)):\n",
        "        for j in range(i + 1, len(arr)):\n",
        "            if (arr[i] ** 2 + arr[j] ** 2) in squares:\n",
        "                return (arr[i], arr[j], (arr[i] ** 2 + arr[j] ** 2) ** 0.5)\n",
        "    return None\n",
        "\n",
        "# Example usage\n",
        "arr7 = [3, 1, 4, 6, 5]\n",
        "print(\"Problem 7 Output:\", find_pythagorean_triplet(arr7))  # Output: (3, 4, 5)\n"
      ]
    },
    {
      "cell_type": "code",
      "execution_count": 8,
      "metadata": {
        "colab": {
          "base_uri": "https://localhost:8080/"
        },
        "id": "PhjM_R4rTd6O",
        "outputId": "e89edadf-c2fd-459e-ce36-dc433ca82656"
      },
      "outputs": [
        {
          "output_type": "stream",
          "name": "stdout",
          "text": [
            "Problem 8 Output: 2\n"
          ]
        }
      ],
      "source": [
        "# Problem 8\n",
        "# Identify a majority element that appears more than n/2 times.\n",
        "def majority_element(arr):\n",
        "    candidate, count = None, 0\n",
        "    for num in arr:\n",
        "        if count == 0:\n",
        "            candidate, count = num, 1\n",
        "        elif num == candidate:\n",
        "            count += 1\n",
        "        else:\n",
        "            count -= 1\n",
        "\n",
        "    return candidate if arr.count(candidate) > len(arr) // 2 else None\n",
        "\n",
        "# Example usage\n",
        "arr8 = [2, 2, 1, 1, 1, 2, 2]\n",
        "print(\"Problem 8 Output:\", majority_element(arr8))  # Output: 2\n"
      ]
    },
    {
      "cell_type": "code",
      "execution_count": 9,
      "metadata": {
        "colab": {
          "base_uri": "https://localhost:8080/"
        },
        "id": "wiQtSiBQTd6O",
        "outputId": "7f3573eb-4044-40b4-9918-9d55ba892adb"
      },
      "outputs": [
        {
          "output_type": "stream",
          "name": "stdout",
          "text": [
            "Problem 9 Output: 2\n"
          ]
        }
      ],
      "source": [
        "# Problem 9\n",
        "# Find the row with the maximum number of 0's in a binary matrix.\n",
        "def row_with_max_zeros(matrix):\n",
        "    max_zeros = -1\n",
        "    row_index = -1\n",
        "\n",
        "    for i in range(len(matrix)):\n",
        "        count_zeros = matrix[i].count(0)\n",
        "        if count_zeros > max_zeros:\n",
        "            max_zeros = count_zeros\n",
        "            row_index = i\n",
        "\n",
        "    return row_index\n",
        "\n",
        "# Example usage\n",
        "matrix9 = [\n",
        "    [0, 0, 1, 1],\n",
        "    [0, 1, 1, 1],\n",
        "    [0, 0, 0, 0],\n",
        "    [1, 1, 1, 1]\n",
        "]\n",
        "print(\"Problem 9 Output:\", row_with_max_zeros(matrix9))  # Output: 2\n"
      ]
    },
    {
      "cell_type": "code",
      "execution_count": 10,
      "metadata": {
        "colab": {
          "base_uri": "https://localhost:8080/"
        },
        "id": "k8ghCmIzTd6P",
        "outputId": "18022543-9c36-4899-ce48-e3761c77c305"
      },
      "outputs": [
        {
          "output_type": "stream",
          "name": "stdout",
          "text": [
            "Problem 10 Output: [0, 0, 0, 0, 0, 1, 1, 1, 1, 1, 2, 2]\n"
          ]
        }
      ],
      "source": [
        "# Problem 10\n",
        "# Sort an array of 0's, 1's, and 2's.\n",
        "def sort_012(arr):\n",
        "    low, mid, high = 0, 0, len(arr) - 1\n",
        "\n",
        "    while mid <= high:\n",
        "        if arr[mid] == 0:\n",
        "            arr[low], arr[mid] = arr[mid], arr[low]\n",
        "            low += 1\n",
        "            mid += 1\n",
        "        elif arr[mid] == 1:\n",
        "            mid += 1\n",
        "        else:\n",
        "            arr[mid], arr[high] = arr[high], arr[mid]\n",
        "            high -= 1\n",
        "\n",
        "    return arr\n",
        "\n",
        "# Example usage\n",
        "arr10 = [0, 1, 1, 0, 1, 2, 1, 2, 0, 0, 0, 1]\n",
        "print(\"Problem 10 Output:\", sort_012(arr10))  # Output: [0, 0, 0, 0, 0, 1, 1, 1, 1, 1, 2, 2]\n"
      ]
    }
  ],
  "metadata": {
    "kernelspec": {
      "display_name": "Python 3",
      "language": "python",
      "name": "python3"
    },
    "language_info": {
      "codemirror_mode": {
        "name": "ipython",
        "version": 3
      },
      "file_extension": ".py",
      "mimetype": "text/x-python",
      "name": "python",
      "nbconvert_exporter": "python",
      "pygments_lexer": "ipython3",
      "version": "3.8.5"
    },
    "colab": {
      "provenance": []
    }
  },
  "nbformat": 4,
  "nbformat_minor": 0
}