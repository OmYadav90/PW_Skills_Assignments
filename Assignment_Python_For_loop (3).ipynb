{
  "nbformat": 4,
  "nbformat_minor": 0,
  "metadata": {
    "colab": {
      "provenance": []
    },
    "kernelspec": {
      "name": "python3",
      "display_name": "Python 3"
    },
    "language_info": {
      "name": "python"
    }
  },
  "cells": [
    {
      "cell_type": "markdown",
      "source": [
        "1. Write a Python program to print the numbers from 1 to 10 using a `for` loop"
      ],
      "metadata": {
        "id": "U6QNZ2hP3oM6"
      }
    },
    {
      "cell_type": "code",
      "source": [
        "for i in range(1, 11):\n",
        "    print(i)\n",
        "#last number not incuded so took range till 11"
      ],
      "metadata": {
        "colab": {
          "base_uri": "https://localhost:8080/"
        },
        "id": "s4nAwcM43mdr",
        "outputId": "983126e9-edf1-4df2-9681-01acf1ed5fcc"
      },
      "execution_count": null,
      "outputs": [
        {
          "output_type": "stream",
          "name": "stdout",
          "text": [
            "1\n",
            "2\n",
            "3\n",
            "4\n",
            "5\n",
            "6\n",
            "7\n",
            "8\n",
            "9\n",
            "10\n"
          ]
        }
      ]
    },
    {
      "cell_type": "code",
      "source": [],
      "metadata": {
        "id": "l4G-3hON3qqY"
      },
      "execution_count": null,
      "outputs": []
    },
    {
      "cell_type": "markdown",
      "source": [
        "2. Create a program that calculates the sum of all numbers in a list using a `for` loop\\"
      ],
      "metadata": {
        "id": "8s-Y_Q4F36h-"
      }
    },
    {
      "cell_type": "code",
      "source": [
        "numbers = [10, 20, 30, 40, 50]\n",
        "sum = 0\n",
        "for num in numbers:\n",
        "  sum = sum + num\n",
        "\n",
        "  print(sum)"
      ],
      "metadata": {
        "colab": {
          "base_uri": "https://localhost:8080/"
        },
        "id": "IRU13-1q37H2",
        "outputId": "e719d27d-aaea-4481-c3bd-815c30779b80"
      },
      "execution_count": null,
      "outputs": [
        {
          "output_type": "stream",
          "name": "stdout",
          "text": [
            "10\n",
            "30\n",
            "60\n",
            "100\n",
            "150\n"
          ]
        }
      ]
    },
    {
      "cell_type": "code",
      "source": [
        "def calculate_sum(numbers):\n",
        "    total = 0\n",
        "    for number in numbers:\n",
        "        total += number\n",
        "    return total\n"
      ],
      "metadata": {
        "colab": {
          "base_uri": "https://localhost:8080/"
        },
        "id": "-6JPjO_w4EuX",
        "outputId": "05b3ac64-3084-4af3-d131-d9d5ecab13b2"
      },
      "execution_count": null,
      "outputs": [
        {
          "output_type": "stream",
          "name": "stdout",
          "text": [
            "Sum of the list: 15\n"
          ]
        }
      ]
    },
    {
      "cell_type": "code",
      "source": [
        "x = [1, 2, 3, 4, 5]\n",
        "sum_of_list = calculate_sum(x)\n",
        "print(\"Sum of the list:\", sum_of_list)"
      ],
      "metadata": {
        "colab": {
          "base_uri": "https://localhost:8080/"
        },
        "id": "8fTLv99q5K77",
        "outputId": "067b82fc-fb96-4726-b6f6-24d0483d6047"
      },
      "execution_count": null,
      "outputs": [
        {
          "output_type": "stream",
          "name": "stdout",
          "text": [
            "Sum of the list: 15\n"
          ]
        }
      ]
    },
    {
      "cell_type": "code",
      "source": [],
      "metadata": {
        "id": "MLfJsqPA5koa"
      },
      "execution_count": null,
      "outputs": []
    },
    {
      "cell_type": "markdown",
      "source": [
        "3. Write a program to print the characters of a string in reverse order using a `for` loop."
      ],
      "metadata": {
        "id": "4TSzy2t_5sGx"
      }
    },
    {
      "cell_type": "code",
      "source": [
        "def rev_str(string):\n",
        "    for i in range(len(string) - 1, -1, -1):\n",
        "        print(string[i], end='')\n",
        "\n",
        "# example string\n",
        "x = input(\"\")\n",
        "\n",
        "# reverse order\n",
        "print(\"Reversed string:\")\n",
        "rev_str(x)"
      ],
      "metadata": {
        "colab": {
          "base_uri": "https://localhost:8080/"
        },
        "id": "I91Kqyaa5xzZ",
        "outputId": "5bc625e8-7c62-45cc-cf59-84391a94d2ee"
      },
      "execution_count": null,
      "outputs": [
        {
          "output_type": "stream",
          "name": "stdout",
          "text": [
            "pw_skills\n",
            "Reversed string:\n",
            "slliks_wp"
          ]
        }
      ]
    },
    {
      "cell_type": "markdown",
      "source": [
        "4. Develop a program that finds the factorial of a given number using a `for` loop.\n",
        "\n"
      ],
      "metadata": {
        "id": "GOxlJyc46-yl"
      }
    },
    {
      "cell_type": "code",
      "source": [
        "def fact_num(number):\n",
        "    factorial = 1\n",
        "    for i in range(1, number + 1):\n",
        "        factorial *= i\n",
        "    return factorial\n"
      ],
      "metadata": {
        "id": "0rrCRChV6WNG"
      },
      "execution_count": null,
      "outputs": []
    },
    {
      "cell_type": "code",
      "source": [
        "# Example\n",
        "num = int(input(\"Enter a number: \"))\n",
        "factorial = fact_num(num)\n",
        "print(\"Factorial of\", num, \"is\", factorial)\n"
      ],
      "metadata": {
        "colab": {
          "base_uri": "https://localhost:8080/"
        },
        "id": "CutzgQ5t7gy5",
        "outputId": "79e78857-76f0-41e0-839b-df0193313fce"
      },
      "execution_count": null,
      "outputs": [
        {
          "output_type": "stream",
          "name": "stdout",
          "text": [
            "Enter a number: 7\n",
            "Factorial of 7 is 5040\n"
          ]
        }
      ]
    },
    {
      "cell_type": "markdown",
      "source": [
        "5. Create a program to print the multiplication table of a given number using a `for` loop."
      ],
      "metadata": {
        "id": "AHUMiXoO7yfN"
      }
    },
    {
      "cell_type": "code",
      "source": [
        "def table(number):\n",
        "    for i in range(1, 11):\n",
        "        product = number * i\n",
        "        print(number, \"x\", i, \"=\", product)\n"
      ],
      "metadata": {
        "id": "UWgAsGeD7m75"
      },
      "execution_count": null,
      "outputs": []
    },
    {
      "cell_type": "code",
      "source": [
        "# sample\n",
        "num = int(input(\"Enter a number: \"))\n",
        "print(\"Multiplication Table of\", num)\n",
        "table(num)\n"
      ],
      "metadata": {
        "colab": {
          "base_uri": "https://localhost:8080/"
        },
        "id": "1ea0tbc778BW",
        "outputId": "2aa82435-55a0-4c15-f57e-91d2d2ae5eac"
      },
      "execution_count": null,
      "outputs": [
        {
          "output_type": "stream",
          "name": "stdout",
          "text": [
            "Enter a number: 6\n",
            "Multiplication Table of 6\n",
            "6 x 1 = 6\n",
            "6 x 2 = 12\n",
            "6 x 3 = 18\n",
            "6 x 4 = 24\n",
            "6 x 5 = 30\n",
            "6 x 6 = 36\n",
            "6 x 7 = 42\n",
            "6 x 8 = 48\n",
            "6 x 9 = 54\n",
            "6 x 10 = 60\n"
          ]
        }
      ]
    },
    {
      "cell_type": "markdown",
      "source": [
        "6. Write a program that counts the number of even and odd numbers in a list using a `for` loop.\n"
      ],
      "metadata": {
        "id": "zd3OR1kh8QjF"
      }
    },
    {
      "cell_type": "code",
      "source": [
        "numbers = [1, 2, 3, 4, 5, 6, 7, 8, 9, 10]\n",
        "\n",
        "even_count = 0\n",
        "odd_count = 0\n",
        "\n",
        "for num in numbers:\n",
        "    if num % 2 == 0:\n",
        "        even_count += 1\n",
        "    else:\n",
        "        odd_count += 1\n",
        "\n",
        "print(\"Number of even numbers:\", even_count)\n",
        "print(\"Number of odd numbers:\", odd_count)\n"
      ],
      "metadata": {
        "colab": {
          "base_uri": "https://localhost:8080/"
        },
        "id": "_Q_EwDiV8AHw",
        "outputId": "a7106fff-ed86-4140-ee1a-6cc3b4676d89"
      },
      "execution_count": null,
      "outputs": [
        {
          "output_type": "stream",
          "name": "stdout",
          "text": [
            "Number of even numbers: 5\n",
            "Number of odd numbers: 5\n"
          ]
        }
      ]
    },
    {
      "cell_type": "code",
      "source": [
        "def even_odd(numbers):\n",
        "    even_count = 0\n",
        "    odd_count = 0\n",
        "\n",
        "    for num in numbers:\n",
        "        if num % 2 == 0:\n",
        "            even_count += 1\n",
        "        else:\n",
        "            odd_count += 1\n",
        "\n",
        "    return even_count, odd_count\n",
        "\n",
        "# list\n",
        "numbers = [1, 2, 3, 4, 5, 6, 7, 8, 9, 10]\n",
        "\n",
        "# Callinh the function\n",
        "even_count, odd_count = even_odd(numbers)\n",
        "\n",
        "# Print\n",
        "print(\"Number of even numbers:\", even_count)\n",
        "print(\"Number of odd numbers:\", odd_count)\n"
      ],
      "metadata": {
        "colab": {
          "base_uri": "https://localhost:8080/"
        },
        "id": "phbzYyUV-M_R",
        "outputId": "14cbc712-1baf-4e57-c9d3-25246a360967"
      },
      "execution_count": null,
      "outputs": [
        {
          "output_type": "stream",
          "name": "stdout",
          "text": [
            "Number of even numbers: 5\n",
            "Number of odd numbers: 5\n"
          ]
        }
      ]
    },
    {
      "cell_type": "markdown",
      "source": [
        "7. Develop a program that prints the squares of numbers from 1 to 5 using a `for` loop."
      ],
      "metadata": {
        "id": "ntrk0oTr-tEs"
      }
    },
    {
      "cell_type": "code",
      "source": [
        "for i in range(1, 6):\n",
        "    square = i * i\n",
        "    print(f\"The square of {i} is {square}\")\n"
      ],
      "metadata": {
        "colab": {
          "base_uri": "https://localhost:8080/"
        },
        "id": "hnSDGXA3-RjI",
        "outputId": "ef3c60aa-77bd-46d9-de63-365254aafd6c"
      },
      "execution_count": null,
      "outputs": [
        {
          "output_type": "stream",
          "name": "stdout",
          "text": [
            "The square of 1 is 1\n",
            "The square of 2 is 4\n",
            "The square of 3 is 9\n",
            "The square of 4 is 16\n",
            "The square of 5 is 25\n"
          ]
        }
      ]
    },
    {
      "cell_type": "code",
      "source": [
        "def print_squares(start, end):\n",
        "    for i in range(start, end + 1):\n",
        "        square = i * i\n",
        "        print(f\"The square of {i} is {square}\")\n"
      ],
      "metadata": {
        "id": "OKI4oQ1i-vKY"
      },
      "execution_count": null,
      "outputs": []
    },
    {
      "cell_type": "code",
      "source": [
        "start_num = int(input())\n",
        "end_num = int(input())\n",
        "\n",
        "# function calling\n",
        "print_squares(start_num, end_num)\n"
      ],
      "metadata": {
        "colab": {
          "base_uri": "https://localhost:8080/"
        },
        "id": "kTDN3nXZ--Zh",
        "outputId": "f4dd7068-469f-409f-c16f-086a437a42ef"
      },
      "execution_count": null,
      "outputs": [
        {
          "output_type": "stream",
          "name": "stdout",
          "text": [
            "1\n",
            "2\n",
            "The square of 1 is 1\n",
            "The square of 2 is 4\n"
          ]
        }
      ]
    },
    {
      "cell_type": "markdown",
      "source": [
        "8. Create a program to find the length of a string without using the `len()` function."
      ],
      "metadata": {
        "id": "Z3T3DnwY_kQ4"
      }
    },
    {
      "cell_type": "code",
      "source": [
        "def calculate_length(string):\n",
        "    length = 0\n",
        "    for char in string:\n",
        "        length += 1\n",
        "    return length\n",
        "\n",
        "# Example\n",
        "input_string = \"Hello, World!\"\n",
        "length = calculate_length(input_string)\n",
        "print(\"Length of the string:\", length)\n"
      ],
      "metadata": {
        "colab": {
          "base_uri": "https://localhost:8080/"
        },
        "id": "ncb5mCub_GnF",
        "outputId": "56244177-f340-46e2-bc67-44589f4f07ed"
      },
      "execution_count": null,
      "outputs": [
        {
          "output_type": "stream",
          "name": "stdout",
          "text": [
            "Length of the string: 13\n"
          ]
        }
      ]
    },
    {
      "cell_type": "markdown",
      "source": [
        "9. Write a program that calculates the average of a list of numbers using a `for` loop."
      ],
      "metadata": {
        "id": "VHGlI91A_7-0"
      }
    },
    {
      "cell_type": "code",
      "source": [
        "numbers = [4,7,12,5,34,12,23]\n",
        "total_sum = 0\n",
        "\n",
        "for num in numbers:\n",
        "    total_sum += num\n",
        "\n",
        "average = total_sum / len(numbers)\n",
        "print(average)\n"
      ],
      "metadata": {
        "colab": {
          "base_uri": "https://localhost:8080/"
        },
        "id": "GHS6zsqD_0pe",
        "outputId": "9935b229-e45f-4a80-95d0-187a5034ab58"
      },
      "execution_count": null,
      "outputs": [
        {
          "output_type": "stream",
          "name": "stdout",
          "text": [
            "13.857142857142858\n"
          ]
        }
      ]
    },
    {
      "cell_type": "markdown",
      "source": [
        "10. Develop a program that prints the first `n` Fibonacci numbers using a `for` loop."
      ],
      "metadata": {
        "id": "bhnvrnSmAfsH"
      }
    },
    {
      "cell_type": "code",
      "source": [
        "def test_feb(n):\n",
        "  a,b = 0,1\n",
        "  for i in range(n):\n",
        "    yield a\n",
        "    a,b = b, a+b"
      ],
      "metadata": {
        "id": "-fdKjeoaAT4X"
      },
      "execution_count": null,
      "outputs": []
    },
    {
      "cell_type": "code",
      "source": [
        "list(test_feb(7))"
      ],
      "metadata": {
        "colab": {
          "base_uri": "https://localhost:8080/"
        },
        "id": "vcTd8wsTBA_h",
        "outputId": "529634b7-1f7b-4792-adba-d0966609454c"
      },
      "execution_count": null,
      "outputs": [
        {
          "output_type": "execute_result",
          "data": {
            "text/plain": [
              "[0, 1, 1, 2, 3, 5, 8]"
            ]
          },
          "metadata": {},
          "execution_count": 31
        }
      ]
    },
    {
      "cell_type": "code",
      "source": [],
      "metadata": {
        "id": "paE0dK8FEl5h"
      },
      "execution_count": null,
      "outputs": []
    },
    {
      "cell_type": "markdown",
      "source": [
        "## Intermediate Level:\n",
        "\n",
        "11. Write a program to check if a given list contains any duplicates using a `for` loop"
      ],
      "metadata": {
        "id": "cZuQhPCXFAC5"
      }
    },
    {
      "cell_type": "code",
      "source": [
        "def duplicates(lst):\n",
        "    seen = set()\n",
        "\n",
        "    for item in lst:\n",
        "        if item in seen:\n",
        "            return True\n",
        "        seen.add(item)\n",
        "\n",
        "    return False\n",
        "\n",
        "\n",
        "numbers_list = [1, 2, 3, 4, 5, 3]  # Contains duplicates (3)\n",
        "\n",
        "# Check for duplicates\n",
        "if duplicates(numbers_list):\n",
        "    print(\"The list contains duplicates.\")\n",
        "else:\n",
        "    print(\"The list does not contain duplicates.\")\n"
      ],
      "metadata": {
        "colab": {
          "base_uri": "https://localhost:8080/"
        },
        "id": "5MksQTkUFE0E",
        "outputId": "94705cc3-0c7d-4e40-f28d-a7e4d0810305"
      },
      "execution_count": null,
      "outputs": [
        {
          "output_type": "stream",
          "name": "stdout",
          "text": [
            "The list contains duplicates.\n"
          ]
        }
      ]
    },
    {
      "cell_type": "markdown",
      "source": [
        "12. Create a program that prints the prime numbers in a given range using a `for` loop"
      ],
      "metadata": {
        "id": "TjRlt3KsFn1R"
      }
    },
    {
      "cell_type": "code",
      "source": [
        "# define the lower and upper limit of the range\n",
        "lower = int(input(\"Enter the lower limit: \"))\n",
        "upper = int(input(\"Enter the upper limit: \"))\n",
        "\n",
        "# iterate over the numbers in the range\n",
        "for num in range(lower, upper + 1):\n",
        "  # check if the number is greater than 1\n",
        "  if num > 1:\n",
        "    # assume the number is prime initially\n",
        "    is_prime = True\n",
        "    # iterate over the possible factors from 2 to num - 1\n",
        "    for factor in range(2, num):\n",
        "      # check if the number is divisible by any factor\n",
        "      if num % factor == 0:\n",
        "        # the number is not prime, break the loop\n",
        "        is_prime = False\n",
        "        break\n",
        "    # if the number is prime, print it\n",
        "    if is_prime:\n",
        "      print(num)\n"
      ],
      "metadata": {
        "id": "qC9zMx3XFd81",
        "colab": {
          "base_uri": "https://localhost:8080/"
        },
        "outputId": "8e64db31-6b52-40b2-d5f6-4808a27e80ec"
      },
      "execution_count": null,
      "outputs": [
        {
          "output_type": "stream",
          "name": "stdout",
          "text": [
            "Enter the lower limit: 2\n",
            "Enter the upper limit: 78\n",
            "2\n",
            "3\n",
            "5\n",
            "7\n",
            "11\n",
            "13\n",
            "17\n",
            "19\n",
            "23\n",
            "29\n",
            "31\n",
            "37\n",
            "41\n",
            "43\n",
            "47\n",
            "53\n",
            "59\n",
            "61\n",
            "67\n",
            "71\n",
            "73\n"
          ]
        }
      ]
    },
    {
      "cell_type": "code",
      "source": [],
      "metadata": {
        "id": "F8sKhrWfsti2"
      },
      "execution_count": null,
      "outputs": []
    },
    {
      "cell_type": "markdown",
      "source": [
        "13. Develop a program that counts the number of vowels in a string using a `for` loop."
      ],
      "metadata": {
        "id": "SkBOkHVMteG9"
      }
    },
    {
      "cell_type": "code",
      "source": [
        "vowels = \"aeiou\"\n",
        "\n",
        "# take input from the user\n",
        "string = input(\"Enter a string: \")\n",
        "\n",
        "# initialize the vowel count\n",
        "count = 0\n",
        "\n",
        "# loop through each character in the string\n",
        "for char in string.lower():\n",
        "  # check if the character is a vowel\n",
        "  if char in vowels:\n",
        "    # increment the count\n",
        "    count += 1\n",
        "\n",
        "# print the result\n",
        "print(\"The number of vowels in the string is\", count)"
      ],
      "metadata": {
        "colab": {
          "base_uri": "https://localhost:8080/"
        },
        "id": "OYywBPtbtfgS",
        "outputId": "61bec235-e21e-49ea-ada1-d527654d040b"
      },
      "execution_count": null,
      "outputs": [
        {
          "output_type": "stream",
          "name": "stdout",
          "text": [
            "Enter a string: This is PWSkills student\n",
            "The number of vowels in the string is 5\n"
          ]
        }
      ]
    },
    {
      "cell_type": "code",
      "source": [],
      "metadata": {
        "id": "nVrRTIvGt_2n"
      },
      "execution_count": null,
      "outputs": []
    },
    {
      "cell_type": "markdown",
      "source": [
        "14. Write a program to find the maximum element in a 2D list using a nested `for` loop"
      ],
      "metadata": {
        "id": "FCaZAmO_uQkn"
      }
    },
    {
      "cell_type": "code",
      "source": [
        "# define a 2D list\n",
        "lst = [[1, 2, 3], [4, 5, 6], [7, 8, 9]]\n",
        "\n",
        "# initialize the maximum element to the first element of the first row\n",
        "max_element = lst[0][0]\n",
        "\n",
        "# loop through each row of the list\n",
        "for row in lst:\n",
        "  # loop through each element of the row\n",
        "  for element in row:\n",
        "    # compare the element with the current maximum\n",
        "    if element > max_element:\n",
        "      # update the maximum element if the element is larger\n",
        "      max_element = element\n",
        "\n",
        "# print the maximum element\n",
        "print(\"The maximum element in the 2D list is\", max_element)\n"
      ],
      "metadata": {
        "colab": {
          "base_uri": "https://localhost:8080/"
        },
        "id": "EtLB2RlSuRPE",
        "outputId": "7773d3ff-6c4f-474c-99e7-6c20deb895ea"
      },
      "execution_count": null,
      "outputs": [
        {
          "output_type": "stream",
          "name": "stdout",
          "text": [
            "The maximum element in the 2D list is 9\n"
          ]
        }
      ]
    },
    {
      "cell_type": "code",
      "source": [],
      "metadata": {
        "id": "EfUb51Xzuf-x"
      },
      "execution_count": null,
      "outputs": []
    },
    {
      "cell_type": "markdown",
      "source": [
        "15. Create a program that removes all occurrences of a specific element from a list using a `for` loop."
      ],
      "metadata": {
        "id": "hu_xmqy9urKc"
      }
    },
    {
      "cell_type": "code",
      "source": [
        "# define a list with some elements\n",
        "lst = [1, 2, 3, 4, 5, 1, 2, 3]\n",
        "\n",
        "# define the element to be removed\n",
        "element = 2\n",
        "\n",
        "# print the original list\n",
        "print(\"The original list is:\", lst)\n",
        "\n",
        "# method 1: using remove() in a loop\n",
        "# copy the list to avoid modifying it while iterating\n",
        "lst_copy = lst.copy()\n",
        "# loop through the copied list\n",
        "for x in lst_copy:\n",
        "  # check if the element matches the one to be removed\n",
        "  if x == element:\n",
        "    # remove the element from the original list\n",
        "    lst.remove(x)\n",
        "\n",
        "# print the modified list\n",
        "print(\"The list after removing\", element, \"using remove() is:\", lst)\n"
      ],
      "metadata": {
        "colab": {
          "base_uri": "https://localhost:8080/"
        },
        "id": "BeW4RbHzurxa",
        "outputId": "72569016-100e-46f7-ea22-44b80418a899"
      },
      "execution_count": null,
      "outputs": [
        {
          "output_type": "stream",
          "name": "stdout",
          "text": [
            "The original list is: [1, 2, 3, 4, 5, 1, 2, 3]\n",
            "The list after removing 2 using remove() is: [1, 3, 4, 5, 1, 3]\n"
          ]
        }
      ]
    },
    {
      "cell_type": "code",
      "source": [],
      "metadata": {
        "id": "_hWGkKG7vUeQ"
      },
      "execution_count": null,
      "outputs": []
    },
    {
      "cell_type": "markdown",
      "source": [
        "16. Develop a program that generates a multiplication table for numbers from 1 to 5 using a nested `for` loop"
      ],
      "metadata": {
        "id": "ntGHuJlEvnjZ"
      }
    },
    {
      "cell_type": "code",
      "source": [
        "# loop through the numbers from 1 to 5\n",
        "for num in range(1, 6):\n",
        "  # print the header for each table\n",
        "  print(f\"Multiplication table for {num}:\")\n",
        "  # loop through the multiples from 1 to 10\n",
        "  for mul in range(1, 11):\n",
        "    # print the product of the number and the multiple\n",
        "    print(f\"{num} x {mul} = {num * mul}\")\n",
        "  # print a blank line after each table\n",
        "  print()\n"
      ],
      "metadata": {
        "colab": {
          "base_uri": "https://localhost:8080/"
        },
        "id": "UH3ns0dGvoI6",
        "outputId": "47c4df55-4d87-4173-fbd6-2fa9db46972b"
      },
      "execution_count": null,
      "outputs": [
        {
          "output_type": "stream",
          "name": "stdout",
          "text": [
            "Multiplication table for 1:\n",
            "1 x 1 = 1\n",
            "1 x 2 = 2\n",
            "1 x 3 = 3\n",
            "1 x 4 = 4\n",
            "1 x 5 = 5\n",
            "1 x 6 = 6\n",
            "1 x 7 = 7\n",
            "1 x 8 = 8\n",
            "1 x 9 = 9\n",
            "1 x 10 = 10\n",
            "\n",
            "Multiplication table for 2:\n",
            "2 x 1 = 2\n",
            "2 x 2 = 4\n",
            "2 x 3 = 6\n",
            "2 x 4 = 8\n",
            "2 x 5 = 10\n",
            "2 x 6 = 12\n",
            "2 x 7 = 14\n",
            "2 x 8 = 16\n",
            "2 x 9 = 18\n",
            "2 x 10 = 20\n",
            "\n",
            "Multiplication table for 3:\n",
            "3 x 1 = 3\n",
            "3 x 2 = 6\n",
            "3 x 3 = 9\n",
            "3 x 4 = 12\n",
            "3 x 5 = 15\n",
            "3 x 6 = 18\n",
            "3 x 7 = 21\n",
            "3 x 8 = 24\n",
            "3 x 9 = 27\n",
            "3 x 10 = 30\n",
            "\n",
            "Multiplication table for 4:\n",
            "4 x 1 = 4\n",
            "4 x 2 = 8\n",
            "4 x 3 = 12\n",
            "4 x 4 = 16\n",
            "4 x 5 = 20\n",
            "4 x 6 = 24\n",
            "4 x 7 = 28\n",
            "4 x 8 = 32\n",
            "4 x 9 = 36\n",
            "4 x 10 = 40\n",
            "\n",
            "Multiplication table for 5:\n",
            "5 x 1 = 5\n",
            "5 x 2 = 10\n",
            "5 x 3 = 15\n",
            "5 x 4 = 20\n",
            "5 x 5 = 25\n",
            "5 x 6 = 30\n",
            "5 x 7 = 35\n",
            "5 x 8 = 40\n",
            "5 x 9 = 45\n",
            "5 x 10 = 50\n",
            "\n"
          ]
        }
      ]
    },
    {
      "cell_type": "code",
      "source": [],
      "metadata": {
        "id": "gpXDSz6MwRHl"
      },
      "execution_count": null,
      "outputs": []
    },
    {
      "cell_type": "markdown",
      "source": [
        "17. Write a program that converts a list of Fahrenheit temperatures to Celsius using a `for` loop"
      ],
      "metadata": {
        "id": "aXJgrwfPwYcx"
      }
    },
    {
      "cell_type": "code",
      "source": [
        "# define a list of Fahrenheit temperatures\n",
        "fah = [32, 50, 68, 86, 104]\n",
        "\n",
        "# create an empty list to store the Celsius temperatures\n",
        "cel = []\n",
        "\n",
        "# loop through each Fahrenheit temperature in the list\n",
        "for f in fah:\n",
        "  # apply the formula to convert Fahrenheit to Celsius\n",
        "  c = (f - 32) * 5 / 9\n",
        "  # append the Celsius temperature to the list\n",
        "  cel.append(c)\n",
        "\n",
        "# print the original and converted lists\n",
        "print(\"The list of Fahrenheit temperatures is:\", fah)\n",
        "print(\"The list of Celsius temperatures is:\", cel)\n"
      ],
      "metadata": {
        "colab": {
          "base_uri": "https://localhost:8080/"
        },
        "id": "rf-N2N4dwY3R",
        "outputId": "39b1bca5-679e-4456-b8c7-471b3f05beb4"
      },
      "execution_count": null,
      "outputs": [
        {
          "output_type": "stream",
          "name": "stdout",
          "text": [
            "The list of Fahrenheit temperatures is: [32, 50, 68, 86, 104]\n",
            "The list of Celsius temperatures is: [0.0, 10.0, 20.0, 30.0, 40.0]\n"
          ]
        }
      ]
    },
    {
      "cell_type": "code",
      "source": [],
      "metadata": {
        "id": "erzAjeEpwoPp"
      },
      "execution_count": null,
      "outputs": []
    },
    {
      "cell_type": "markdown",
      "source": [
        "18. Create a program to print the common elements from two lists using a `for` loop."
      ],
      "metadata": {
        "id": "HLiS1gyIwzYp"
      }
    },
    {
      "cell_type": "code",
      "source": [
        "# define two lists with some elements\n",
        "list1 = [1, 2, 3, 4, 5]\n",
        "list2 = [3, 4, 5, 6, 7]\n",
        "\n",
        "# create an empty list to store the common elements\n",
        "common = []\n",
        "\n",
        "# loop through each element in the first list\n",
        "for element in list1:\n",
        "  # check if the element is also in the second list\n",
        "  if element in list2:\n",
        "    # append the element to the common list\n",
        "    common.append(element)\n",
        "\n",
        "# print the common list\n",
        "print(\"The common elements in the two lists are:\", common)\n"
      ],
      "metadata": {
        "colab": {
          "base_uri": "https://localhost:8080/"
        },
        "id": "w_jIof_pwzwW",
        "outputId": "68a1a8d6-95f5-428c-a979-78d68a1ea0b2"
      },
      "execution_count": null,
      "outputs": [
        {
          "output_type": "stream",
          "name": "stdout",
          "text": [
            "The common elements in the two lists are: [3, 4, 5]\n"
          ]
        }
      ]
    },
    {
      "cell_type": "code",
      "source": [],
      "metadata": {
        "id": "Mtr8c7nRw_fA"
      },
      "execution_count": null,
      "outputs": []
    },
    {
      "cell_type": "markdown",
      "source": [
        "19. Develop a program that prints the pattern of right-angled triangles using a `for` loop. Use ‘*’ to draw the\n",
        "pattern"
      ],
      "metadata": {
        "id": "j5q0j6eOxL0_"
      }
    },
    {
      "cell_type": "code",
      "source": [
        "# take input from the user for the number of rows\n",
        "rows = int(input(\"Enter the number of rows: \"))\n",
        "\n",
        "# loop through each row\n",
        "for i in range(1, rows + 1):\n",
        "  # print the asterisks for each column\n",
        "  print(\"*\" * i)\n"
      ],
      "metadata": {
        "colab": {
          "base_uri": "https://localhost:8080/"
        },
        "id": "FT4MZX4lxMNL",
        "outputId": "0aa66faa-4b63-439b-bc83-e862004cef63"
      },
      "execution_count": null,
      "outputs": [
        {
          "output_type": "stream",
          "name": "stdout",
          "text": [
            "Enter the number of rows: 5\n",
            "*\n",
            "**\n",
            "***\n",
            "****\n",
            "*****\n"
          ]
        }
      ]
    },
    {
      "cell_type": "code",
      "source": [],
      "metadata": {
        "id": "i_x0IEtAxWi4"
      },
      "execution_count": null,
      "outputs": []
    },
    {
      "cell_type": "markdown",
      "source": [
        "20. Write a program to find the greatest common divisor (GCD) of two numbers using a `for` loop."
      ],
      "metadata": {
        "id": "HQ_rlMCcxaxI"
      }
    },
    {
      "cell_type": "code",
      "source": [
        "# define two numbers\n",
        "num1 = 24\n",
        "num2 = 36\n",
        "\n",
        "# initialize the GCD to 1\n",
        "gcd = 1\n",
        "\n",
        "# loop from 1 to the minimum of the two numbers\n",
        "for i in range(1, min(num1, num2) + 1):\n",
        "  # check if both numbers are divisible by i\n",
        "  if num1 % i == 0 and num2 % i == 0:\n",
        "    # update the GCD to i\n",
        "    gcd = i\n",
        "\n",
        "# print the GCD\n",
        "print(\"The GCD of\", num1, \"and\", num2, \"is\", gcd)\n"
      ],
      "metadata": {
        "colab": {
          "base_uri": "https://localhost:8080/"
        },
        "id": "qfhVyUePxbM5",
        "outputId": "abe7c535-65eb-4771-dc57-0908b2cfc80d"
      },
      "execution_count": null,
      "outputs": [
        {
          "output_type": "stream",
          "name": "stdout",
          "text": [
            "The GCD of 24 and 36 is 12\n"
          ]
        }
      ]
    },
    {
      "cell_type": "code",
      "source": [],
      "metadata": {
        "id": "IFoIThYpxpv6"
      },
      "execution_count": null,
      "outputs": []
    },
    {
      "cell_type": "markdown",
      "source": [
        "21. Create a program that calculates the sum of the digits of numbers in a list using a list comprehension."
      ],
      "metadata": {
        "id": "sJxu5EJfxuA5"
      }
    },
    {
      "cell_type": "markdown",
      "source": [],
      "metadata": {
        "id": "2hwOYin5ybqY"
      }
    },
    {
      "cell_type": "code",
      "source": [
        "# define a list of numbers\n",
        "lst = [12, 34, 56, 78, 90]\n",
        "\n",
        "# use a list comprehension to compute the sum of digits for each number\n",
        "sums = [sum(int(digit) for digit in str(num)) for num in lst]\n",
        "\n",
        "# print the original and the sum list\n",
        "print(\"The original list is:\", lst)\n",
        "print(\"The sum of digits list is:\", sums)\n"
      ],
      "metadata": {
        "colab": {
          "base_uri": "https://localhost:8080/"
        },
        "id": "FSF0acCExujg",
        "outputId": "35de2187-cfbe-4778-de6b-e9305b18c2fb"
      },
      "execution_count": null,
      "outputs": [
        {
          "output_type": "stream",
          "name": "stdout",
          "text": [
            "The original list is: [12, 34, 56, 78, 90]\n",
            "The sum of digits list is: [3, 7, 11, 15, 9]\n"
          ]
        }
      ]
    },
    {
      "cell_type": "code",
      "source": [],
      "metadata": {
        "id": "3xzZeqQ4yBmy"
      },
      "execution_count": null,
      "outputs": []
    },
    {
      "cell_type": "markdown",
      "source": [
        "22. Write a program to find the prime factors of a given number using a `for` loop and list comprehension.\n"
      ],
      "metadata": {
        "id": "6dv_22tGyeLJ"
      }
    },
    {
      "cell_type": "code",
      "source": [
        "# define a function to check if a number is prime\n",
        "def is_prime(num):\n",
        "  # loop from 2 to the square root of the number\n",
        "  for i in range(2, int(num ** 0.5) + 1):\n",
        "    # check if the number is divisible by i\n",
        "    if num % i == 0:\n",
        "      # return False if it is\n",
        "      return False\n",
        "  # return True if it is not\n",
        "  return True\n",
        "\n",
        "# take input from the user for the number\n",
        "num = int(input(\"Enter a number: \"))\n",
        "\n",
        "# use a list comprehension to find the prime factors of the number\n",
        "prime_factors = [i for i in range(2, num + 1) if num % i == 0 and is_prime(i)]\n",
        "\n",
        "# print the prime factors\n",
        "print(\"The prime factors of\", num, \"are:\", prime_factors)\n"
      ],
      "metadata": {
        "colab": {
          "base_uri": "https://localhost:8080/"
        },
        "id": "HsDowIkSyfS-",
        "outputId": "aa8ece21-f559-4a15-83bd-a35bc1afe7e9"
      },
      "execution_count": null,
      "outputs": [
        {
          "output_type": "stream",
          "name": "stdout",
          "text": [
            "Enter a number: 56\n",
            "The prime factors of 56 are: [2, 7]\n"
          ]
        }
      ]
    },
    {
      "cell_type": "code",
      "source": [],
      "metadata": {
        "id": "aknaYi8eys7k"
      },
      "execution_count": null,
      "outputs": []
    },
    {
      "cell_type": "markdown",
      "source": [
        "23. Develop a program that extracts unique elements from a list and stores them in a new list using a list\n",
        "comprehension."
      ],
      "metadata": {
        "id": "_uBu8W3qzQWZ"
      }
    },
    {
      "cell_type": "code",
      "source": [
        "# define a list with some elements\n",
        "lst = [1, 2, 3, 4, 5, 1, 2, 3]\n",
        "\n",
        "# use a list comprehension to create a new list with only the unique elements\n",
        "unique_lst = [x for i, x in enumerate(lst) if x not in lst[:i]]\n",
        "\n",
        "# print the original and the new list\n",
        "print(\"The original list is:\", lst)\n",
        "print(\"The new list with unique elements is:\", unique_lst)\n"
      ],
      "metadata": {
        "colab": {
          "base_uri": "https://localhost:8080/"
        },
        "id": "HVRnf4xCzQ_x",
        "outputId": "313db2b8-ea66-4600-d654-3f38f18af64f"
      },
      "execution_count": null,
      "outputs": [
        {
          "output_type": "stream",
          "name": "stdout",
          "text": [
            "The original list is: [1, 2, 3, 4, 5, 1, 2, 3]\n",
            "The new list with unique elements is: [1, 2, 3, 4, 5]\n"
          ]
        }
      ]
    },
    {
      "cell_type": "code",
      "source": [],
      "metadata": {
        "id": "GEYTu2kuzSym"
      },
      "execution_count": null,
      "outputs": []
    },
    {
      "cell_type": "markdown",
      "source": [
        "24. Create a program that generates a list of all palindromic numbers up to a specified limit using a list\n",
        "comprehension."
      ],
      "metadata": {
        "id": "xujXWQwjzbIJ"
      }
    },
    {
      "cell_type": "code",
      "source": [
        "# take input from the user for the limit\n",
        "limit = int(input(\"Enter the limit: \"))\n",
        "\n",
        "# use a list comprehension to generate a list of palindromic numbers\n",
        "palindromes = [x for x in range(1, limit + 1) if str(x) == str(x)[::-1]]\n",
        "\n",
        "# print the list of palindromic numbers\n",
        "print(\"The list of palindromic numbers up to\", limit, \"is:\", palindromes)\n"
      ],
      "metadata": {
        "colab": {
          "base_uri": "https://localhost:8080/"
        },
        "id": "gLpaC5Auzb38",
        "outputId": "0260a788-537a-4007-de47-6a3926a67259"
      },
      "execution_count": null,
      "outputs": [
        {
          "output_type": "stream",
          "name": "stdout",
          "text": [
            "Enter the limit: 7\n",
            "The list of palindromic numbers up to 7 is: [1, 2, 3, 4, 5, 6, 7]\n"
          ]
        }
      ]
    },
    {
      "cell_type": "code",
      "source": [],
      "metadata": {
        "id": "KrvPsg7jzibM"
      },
      "execution_count": null,
      "outputs": []
    },
    {
      "cell_type": "code",
      "source": [],
      "metadata": {
        "id": "YfbAZek4vcjv"
      },
      "execution_count": null,
      "outputs": []
    },
    {
      "cell_type": "markdown",
      "source": [
        "25. Write a program to flatten a nested list using list comprehension"
      ],
      "metadata": {
        "id": "B3CplgzNvdJj"
      }
    },
    {
      "cell_type": "code",
      "source": [
        "nested_list = [[1, 2, 3], [4, 5, 6], [7, 8, 9]]\n",
        "flattened_list = [item for sublist in nested_list for item in sublist]\n",
        "print(flattened_list)\n"
      ],
      "metadata": {
        "colab": {
          "base_uri": "https://localhost:8080/"
        },
        "id": "-vJUq1rmveEg",
        "outputId": "ca6e74df-e0de-4f57-b43b-d641e7531e75"
      },
      "execution_count": 1,
      "outputs": [
        {
          "output_type": "stream",
          "name": "stdout",
          "text": [
            "[1, 2, 3, 4, 5, 6, 7, 8, 9]\n"
          ]
        }
      ]
    },
    {
      "cell_type": "code",
      "source": [],
      "metadata": {
        "id": "HlfzLRWrwHDY"
      },
      "execution_count": null,
      "outputs": []
    },
    {
      "cell_type": "markdown",
      "source": [
        "26. Develop a program that computes the sum of even and odd numbers in a list separately using list\n",
        "comprehension."
      ],
      "metadata": {
        "id": "S87nGpALwSoP"
      }
    },
    {
      "cell_type": "code",
      "source": [
        "# Define a list of numbers\n",
        "num_list = [1, 2, 3, 4, 5, 6, 7, 8, 9, 10]\n",
        "\n",
        "# Use list comprehension to filter even and odd numbers\n",
        "even_list = [num for num in num_list if num % 2 == 0]\n",
        "odd_list = [num for num in num_list if num % 2 == 1]\n",
        "\n",
        "# Use sum function to calculate the sum of each list\n",
        "even_sum = sum(even_list)\n",
        "odd_sum = sum(odd_list)\n",
        "\n",
        "# Print the results\n",
        "print(\"The sum of even numbers in the list is\", even_sum)\n",
        "print(\"The sum of odd numbers in the list is\", odd_sum)\n"
      ],
      "metadata": {
        "colab": {
          "base_uri": "https://localhost:8080/"
        },
        "id": "UbA3IjMfwTCt",
        "outputId": "8c0b293c-41a1-46bf-8096-94151eba64f3"
      },
      "execution_count": 2,
      "outputs": [
        {
          "output_type": "stream",
          "name": "stdout",
          "text": [
            "The sum of even numbers in the list is 30\n",
            "The sum of odd numbers in the list is 25\n"
          ]
        }
      ]
    },
    {
      "cell_type": "code",
      "source": [],
      "metadata": {
        "id": "ruLg8Q0Ow70D"
      },
      "execution_count": null,
      "outputs": []
    },
    {
      "cell_type": "markdown",
      "source": [
        "27. Create a program that generates a list of squares of odd numbers between 1 and 10 using list\n",
        "comprehension"
      ],
      "metadata": {
        "id": "0d-7zCcLxAxY"
      }
    },
    {
      "cell_type": "code",
      "source": [
        "# Use list comprehension to create a list of odd numbers between 1 and 10\n",
        "odd_list = [num for num in range(1, 11) if num % 2 == 1]\n",
        "\n",
        "# Use list comprehension to create a list of squares of odd numbers\n",
        "square_list = [num ** 2 for num in odd_list]\n",
        "\n",
        "# Print the result\n",
        "print(\"The list of squares of odd numbers between 1 and 10 is\", square_list)\n"
      ],
      "metadata": {
        "colab": {
          "base_uri": "https://localhost:8080/"
        },
        "id": "6J21TcPExBUt",
        "outputId": "fc8edee6-9cee-49c4-8c22-458eb48ad3f8"
      },
      "execution_count": 3,
      "outputs": [
        {
          "output_type": "stream",
          "name": "stdout",
          "text": [
            "The list of squares of odd numbers between 1 and 10 is [1, 9, 25, 49, 81]\n"
          ]
        }
      ]
    },
    {
      "cell_type": "code",
      "source": [],
      "metadata": {
        "id": "OyCPv9aTxMG_"
      },
      "execution_count": null,
      "outputs": []
    },
    {
      "cell_type": "markdown",
      "source": [
        "28. Write a program that combines two lists into a dictionary using list comprehension"
      ],
      "metadata": {
        "id": "hOoW_jaE3iZO"
      }
    },
    {
      "cell_type": "code",
      "source": [
        "# Define two lists of the same length\n",
        "keys = [\"name\", \"age\", \"gender\", \"city\"]\n",
        "values = [\"Alice\", 25, \"female\", \"New York\"]\n",
        "\n",
        "# Use list comprehension and zip function to create a dictionary\n",
        "dictionary = {key: value for key, value in zip(keys, values)}\n",
        "\n",
        "# Print the result\n",
        "print(\"The dictionary is\", dictionary)\n"
      ],
      "metadata": {
        "colab": {
          "base_uri": "https://localhost:8080/"
        },
        "id": "9bz050823jAh",
        "outputId": "fe78c44a-7f65-4c55-d632-68473b0e1c8a"
      },
      "execution_count": 4,
      "outputs": [
        {
          "output_type": "stream",
          "name": "stdout",
          "text": [
            "The dictionary is {'name': 'Alice', 'age': 25, 'gender': 'female', 'city': 'New York'}\n"
          ]
        }
      ]
    },
    {
      "cell_type": "code",
      "source": [],
      "metadata": {
        "id": "QMHYs6pk35jU"
      },
      "execution_count": null,
      "outputs": []
    },
    {
      "cell_type": "markdown",
      "source": [
        "29. Develop a program that extracts the vowels from a string and stores them in a list using list comprehension."
      ],
      "metadata": {
        "id": "dWItgld44J5p"
      }
    },
    {
      "cell_type": "code",
      "source": [
        "# Define a string\n",
        "string = \"Hello, world!\"\n",
        "\n",
        "# Define a list of vowels\n",
        "vowels = \"aeiouAEIOU\"\n",
        "\n",
        "# Use list comprehension to filter the vowels from the string\n",
        "vowel_list = [char for char in string if char in vowels]\n",
        "\n",
        "# Print the result\n",
        "print(\"The list of vowels in the string is\", vowel_list)\n"
      ],
      "metadata": {
        "colab": {
          "base_uri": "https://localhost:8080/"
        },
        "id": "NcGS9J0W4KZ-",
        "outputId": "da0eb7b3-6c27-4c69-91d7-4e50c0a0da31"
      },
      "execution_count": 5,
      "outputs": [
        {
          "output_type": "stream",
          "name": "stdout",
          "text": [
            "The list of vowels in the string is ['e', 'o', 'o']\n"
          ]
        }
      ]
    },
    {
      "cell_type": "markdown",
      "source": [
        "30. Create a program that removes all non-numeric characters from a list of strings using list comprehension."
      ],
      "metadata": {
        "id": "ElsBLC2t4Udu"
      }
    },
    {
      "cell_type": "code",
      "source": [
        "# Define a list of strings\n",
        "lst = [\"a1b2c3\", \"d4e5f6\", \"g7h8i9\", \"j0k1l2\", \"m3n4o5\"]\n",
        "\n",
        "# Define a function that checks if a character is numeric\n",
        "def is_numeric(c):\n",
        "    return c.isdigit()\n",
        "\n",
        "# Use list comprehension to remove non-numeric characters from each string\n",
        "lst_clean = [\"\".join([c for c in s if is_numeric(c)]) for s in lst]\n",
        "\n",
        "# Print the result\n",
        "print(lst_clean)\n"
      ],
      "metadata": {
        "colab": {
          "base_uri": "https://localhost:8080/"
        },
        "id": "RGxlVUcs4U9i",
        "outputId": "5149db87-0b8a-4f41-9b28-c00aa2100f2c"
      },
      "execution_count": 6,
      "outputs": [
        {
          "output_type": "stream",
          "name": "stdout",
          "text": [
            "['123', '456', '789', '012', '345']\n"
          ]
        }
      ]
    },
    {
      "cell_type": "code",
      "source": [],
      "metadata": {
        "id": "0ejDAz_i4rPA"
      },
      "execution_count": null,
      "outputs": []
    },
    {
      "cell_type": "markdown",
      "source": [
        "31. Write a program to generate a list of prime numbers using the Sieve of Eratosthenes algorithm and list\n",
        "comprehension.\n"
      ],
      "metadata": {
        "id": "EXg09RdW4yog"
      }
    },
    {
      "cell_type": "code",
      "source": [
        "# Define a function that implements the Sieve of Eratosthenes algorithm\n",
        "def sieve_of_eratosthenes(n):\n",
        "    # Create a boolean list of size n+1 and initialize all entries as True\n",
        "    # A value in prime[i] will be False if i is not a prime, else True\n",
        "    prime = [True for i in range(n+1)]\n",
        "\n",
        "    # Start from the first prime number, 2\n",
        "    p = 2\n",
        "\n",
        "    # Loop until the square root of n\n",
        "    while p * p <= n:\n",
        "        # If prime[p] is not changed, then it is a prime\n",
        "        if prime[p]:\n",
        "            # Update all multiples of p as not prime\n",
        "            for i in range(p * p, n + 1, p):\n",
        "                prime[i] = False\n",
        "        # Increment p\n",
        "        p += 1\n",
        "\n",
        "    # Use list comprehension to return the prime numbers from 2 to n\n",
        "    return [p for p in range(2, n+1) if prime[p]]\n",
        "\n",
        "# Test the function with an example\n",
        "n = 100\n",
        "print(sieve_of_eratosthenes(n))\n"
      ],
      "metadata": {
        "colab": {
          "base_uri": "https://localhost:8080/"
        },
        "id": "nY_EiqKB4z6C",
        "outputId": "60554131-75f8-4beb-d53c-15bc7097f3de"
      },
      "execution_count": 7,
      "outputs": [
        {
          "output_type": "stream",
          "name": "stdout",
          "text": [
            "[2, 3, 5, 7, 11, 13, 17, 19, 23, 29, 31, 37, 41, 43, 47, 53, 59, 61, 67, 71, 73, 79, 83, 89, 97]\n"
          ]
        }
      ]
    },
    {
      "cell_type": "markdown",
      "source": [
        "32. Create a program that generates a list of all Pythagorean triplets up to a specified limit using list\n",
        "comprehension."
      ],
      "metadata": {
        "id": "Fl91gl9K5JHV"
      }
    },
    {
      "cell_type": "code",
      "source": [
        "# Define a function that generates a list of Pythagorean triplets\n",
        "# Use list comprehension to find all triplets (a, b, c) such that a < b < c and a^2 + b^2 = c^2\n",
        "\n",
        "def pythagorean_triplets(limit):\n",
        "    return [(a, b, c) for a in range(1, limit + 1) for b in range(a + 1, limit + 1) for c in range(b + 1, limit + 1) if a**2 + b**2 == c**2]\n",
        "\n",
        "# Test the function with an example\n",
        "limit = 20\n",
        "print(pythagorean_triplets(limit))\n"
      ],
      "metadata": {
        "colab": {
          "base_uri": "https://localhost:8080/"
        },
        "id": "es-bHhN45KR4",
        "outputId": "3f65c895-e4f3-472b-91c4-6bf35075aa32"
      },
      "execution_count": 8,
      "outputs": [
        {
          "output_type": "stream",
          "name": "stdout",
          "text": [
            "[(3, 4, 5), (5, 12, 13), (6, 8, 10), (8, 15, 17), (9, 12, 15), (12, 16, 20)]\n"
          ]
        }
      ]
    },
    {
      "cell_type": "markdown",
      "source": [
        "33. Develop a program that generates a list of all possible combinations of two lists using list comprehension."
      ],
      "metadata": {
        "id": "G1a2peiz5m8u"
      }
    },
    {
      "cell_type": "code",
      "source": [
        "# Define two lists\n",
        "lst1 = [\"a\", \"b\", \"c\"]\n",
        "lst2 = [1, 2, 3]\n",
        "\n",
        "# Use list comprehension to generate a list of all combinations of the two lists\n",
        "lst_comb = [(x, y) for x in lst1 for y in lst2]\n",
        "\n",
        "# Print the result\n",
        "print(lst_comb)\n"
      ],
      "metadata": {
        "colab": {
          "base_uri": "https://localhost:8080/"
        },
        "id": "bJsl3M4B5n2a",
        "outputId": "cf63bc7f-69c7-4e0f-cfd7-ccc333911c1d"
      },
      "execution_count": 9,
      "outputs": [
        {
          "output_type": "stream",
          "name": "stdout",
          "text": [
            "[('a', 1), ('a', 2), ('a', 3), ('b', 1), ('b', 2), ('b', 3), ('c', 1), ('c', 2), ('c', 3)]\n"
          ]
        }
      ]
    },
    {
      "cell_type": "code",
      "source": [],
      "metadata": {
        "id": "jRG5o6-g5wIX"
      },
      "execution_count": null,
      "outputs": []
    },
    {
      "cell_type": "markdown",
      "source": [
        "34. Write a program that calculates the mean, median, and mode of a list of numbers using list\n",
        "comprehension"
      ],
      "metadata": {
        "id": "W_LY0_QZ51Jv"
      }
    },
    {
      "cell_type": "code",
      "source": [
        "# Import the statistics module\n",
        "import statistics\n",
        "\n",
        "# Define a list of numbers\n",
        "lst = [1, 2, 3, 4, 5, 6, 7, 8, 9, 10]\n",
        "\n",
        "# Use list comprehension to calculate the sum and the length of the list\n",
        "lst_sum = sum([x for x in lst])\n",
        "lst_len = len([x for x in lst])\n",
        "\n",
        "# Calculate the mean by dividing the sum by the length\n",
        "lst_mean = lst_sum / lst_len\n",
        "\n",
        "# Use the statistics module to calculate the median and the mode\n",
        "lst_median = statistics.median([x for x in lst])\n",
        "lst_mode = statistics.mode([x for x in lst])\n",
        "\n",
        "# Print the results\n",
        "print(\"The mean of the list is:\", lst_mean)\n",
        "print(\"The median of the list is:\", lst_median)\n",
        "print(\"The mode of the list is:\", lst_mode)\n"
      ],
      "metadata": {
        "colab": {
          "base_uri": "https://localhost:8080/"
        },
        "id": "K0oWNonz51oW",
        "outputId": "f94a7e14-6e2e-440d-9f36-83370e0feb42"
      },
      "execution_count": 10,
      "outputs": [
        {
          "output_type": "stream",
          "name": "stdout",
          "text": [
            "The mean of the list is: 5.5\n",
            "The median of the list is: 5.5\n",
            "The mode of the list is: 1\n"
          ]
        }
      ]
    },
    {
      "cell_type": "markdown",
      "source": [
        "35. Create a program that generates Pascal's triangle up to a specified number of rows using list\n",
        "comprehension."
      ],
      "metadata": {
        "id": "5do6rufx6WF9"
      }
    },
    {
      "cell_type": "code",
      "source": [
        "# Define a function that generates Pascal's triangle\n",
        "def pascal_triangle(n):\n",
        "    triangle = []\n",
        "\n",
        "    # Loop from 0 to n-1\n",
        "    for i in range(n):\n",
        "        # Use list comprehension to generate the ith row of the triangle\n",
        "        # Each element is the sum of the two elements above it\n",
        "        # The first and last elements are always 1\n",
        "        row = [1 if j == 0 or j == i else triangle[i-1][j-1] + triangle[i-1][j] for j in range(i+1)]\n",
        "\n",
        "        # Append the row to the triangle\n",
        "        triangle.append(row)\n",
        "\n",
        "    # Return the triangle\n",
        "    return triangle\n",
        "\n",
        "# Test the function with an example\n",
        "n = 5\n",
        "print(pascal_triangle(n))\n"
      ],
      "metadata": {
        "colab": {
          "base_uri": "https://localhost:8080/"
        },
        "id": "rgAEl1eH6Wr1",
        "outputId": "958d3f7d-5340-40a0-86c0-8d1167f56bb6"
      },
      "execution_count": 11,
      "outputs": [
        {
          "output_type": "stream",
          "name": "stdout",
          "text": [
            "[[1], [1, 1], [1, 2, 1], [1, 3, 3, 1], [1, 4, 6, 4, 1]]\n"
          ]
        }
      ]
    },
    {
      "cell_type": "markdown",
      "source": [
        "36. Develop a program that calculates the sum of the digits of a factorial of numbers from 1 to 5 using list\n",
        "comprehension."
      ],
      "metadata": {
        "id": "ZWX5rRBQ7Kvb"
      }
    },
    {
      "cell_type": "code",
      "source": [
        "# Import the math module\n",
        "import math\n",
        "\n",
        "# Define a function that calculates the sum of the digits of a number\n",
        "def sum_of_digits(n):\n",
        "    # Convert the number to a string and use list comprehension to get the digits\n",
        "    digits = [int(c) for c in str(n)]\n",
        "    # Return the sum of the digits\n",
        "    return sum(digits)\n",
        "\n",
        "# Use list comprehension to generate a list of the factorials of numbers from 1 to 5\n",
        "factorials = [math.factorial(n) for n in range(1, 6)]\n",
        "\n",
        "# Use list comprehension to calculate the sum of the digits of each factorial\n",
        "sums = [sum_of_digits(f) for f in factorials]\n",
        "\n",
        "# Print the results\n",
        "print(factorials)\n",
        "print(sums)\n"
      ],
      "metadata": {
        "colab": {
          "base_uri": "https://localhost:8080/"
        },
        "id": "18UmbWAG7LZ6",
        "outputId": "066334e5-3c1d-4064-bfc7-1c53a3b90257"
      },
      "execution_count": 12,
      "outputs": [
        {
          "output_type": "stream",
          "name": "stdout",
          "text": [
            "[1, 2, 6, 24, 120]\n",
            "[1, 2, 6, 6, 3]\n"
          ]
        }
      ]
    },
    {
      "cell_type": "markdown",
      "source": [
        "37. Write a program that finds the longest word in a sentence using list comprehension."
      ],
      "metadata": {
        "id": "D1pwDbn_7W4H"
      }
    },
    {
      "cell_type": "code",
      "source": [
        "# Define a sentence\n",
        "sentence = \"The quick brown fox jumps over the lazy dog\"\n",
        "\n",
        "# Use list comprehension to split the sentence into words and get their lengths\n",
        "words = [(w, len(w)) for w in sentence.split()]\n",
        "\n",
        "# Use the max function to find the word with the maximum length\n",
        "longest_word, longest_length = max(words, key=lambda x: x[1])\n",
        "\n",
        "# Print the result\n",
        "print(\"The longest word in the sentence is:\", longest_word)\n",
        "print(\"The length of the longest word is:\", longest_length)\n"
      ],
      "metadata": {
        "colab": {
          "base_uri": "https://localhost:8080/"
        },
        "id": "mYo9Lpe97X5i",
        "outputId": "3aa77d8b-cb6c-466d-c6fc-44f40900727d"
      },
      "execution_count": 13,
      "outputs": [
        {
          "output_type": "stream",
          "name": "stdout",
          "text": [
            "The longest word in the sentence is: quick\n",
            "The length of the longest word is: 5\n"
          ]
        }
      ]
    },
    {
      "cell_type": "markdown",
      "source": [
        "38. Create a program that filters a list of strings to include only those with more than three vowels using list\n",
        "comprehension"
      ],
      "metadata": {
        "id": "O-u9Wu4e7iVk"
      }
    },
    {
      "cell_type": "code",
      "source": [
        "# Define a list of strings\n",
        "lst = [\"apple\", \"banana\", \"cherry\", \"durian\", \"elderberry\", \"fig\", \"grapefruit\"]\n",
        "\n",
        "# Define a function that counts the number of vowels in a string\n",
        "def count_vowels(s):\n",
        "    # Convert the string to lowercase and use list comprehension to get the vowels\n",
        "    vowels = [c for c in s.lower() if c in \"aeiou\"]\n",
        "    # Return the length of the vowel list\n",
        "    return len(vowels)\n",
        "\n",
        "# Use list comprehension to filter the list of strings by the number of vowels\n",
        "lst_filtered = [s for s in lst if count_vowels(s) > 3]\n",
        "\n",
        "# Print the result\n",
        "print(lst_filtered)\n"
      ],
      "metadata": {
        "colab": {
          "base_uri": "https://localhost:8080/"
        },
        "id": "0ViSEyUo7i_t",
        "outputId": "2ad9f956-5ac8-4e5c-d2db-124bb7944929"
      },
      "execution_count": 14,
      "outputs": [
        {
          "output_type": "stream",
          "name": "stdout",
          "text": [
            "['grapefruit']\n"
          ]
        }
      ]
    },
    {
      "cell_type": "markdown",
      "source": [
        "39. Develop a program that calculates the sum of the digits of numbers from 1 to 1000 using list\n",
        "comprehension"
      ],
      "metadata": {
        "id": "u_l6i-q_74mN"
      }
    },
    {
      "cell_type": "code",
      "source": [
        "# Define a function that calculates the sum of the digits of a number\n",
        "def sum_of_digits(n):\n",
        "    # Convert the number to a string and use list comprehension to get the digits\n",
        "    digits = [int(c) for c in str(n)]\n",
        "    # Return the sum of the digits\n",
        "    return sum(digits)\n",
        "\n",
        "# Use list comprehension to generate a list of numbers from 1 to 1000\n",
        "numbers = [n for n in range(1, 1001)]\n",
        "\n",
        "# Use list comprehension to calculate the sum of the digits of each number\n",
        "sums = [sum_of_digits(n) for n in numbers]\n",
        "\n",
        "# Calculate the total sum of the sums list\n",
        "total_sum = sum(sums)\n",
        "\n",
        "# Print the result\n",
        "print(\"The sum of the digits of numbers from 1 to 1000 is:\", total_sum)"
      ],
      "metadata": {
        "colab": {
          "base_uri": "https://localhost:8080/"
        },
        "id": "zrmjZjRU75df",
        "outputId": "dff3ee1f-e39a-4063-d32c-f8aa6061f5d5"
      },
      "execution_count": 15,
      "outputs": [
        {
          "output_type": "stream",
          "name": "stdout",
          "text": [
            "The sum of the digits of numbers from 1 to 1000 is: 13501\n"
          ]
        }
      ]
    },
    {
      "cell_type": "markdown",
      "source": [
        "40. Write a program that generates a list of prime palindromic numbers using list comprehension."
      ],
      "metadata": {
        "id": "ZSVnwgAu8DEV"
      }
    },
    {
      "cell_type": "markdown",
      "source": [
        "40. Write a program that generates a list of prime palindromic numbers using list comprehension."
      ],
      "metadata": {
        "id": "zXrJEABa8Kai"
      }
    },
    {
      "cell_type": "code",
      "source": [
        "# Define a function that checks if a number is prime\n",
        "def is_prime(n):\n",
        "    # If n is less than 2, it is not prime\n",
        "    if n < 2:\n",
        "        return False\n",
        "    # Loop from 2 to the square root of n\n",
        "    for i in range(2, int(n**0.5) + 1):\n",
        "        # If n is divisible by i, it is not prime\n",
        "        if n % i == 0:\n",
        "            return False\n",
        "    # Otherwise, it is prime\n",
        "    return True\n",
        "\n",
        "# Define a function that checks if a number is palindromic\n",
        "def is_palindromic(n):\n",
        "    # Convert the number to a string and reverse it\n",
        "    s = str(n)\n",
        "    r = s[::-1]\n",
        "    # If the string and its reverse are equal, it is palindromic\n",
        "    return s == r\n",
        "\n",
        "# Use list comprehension to generate a list of prime palindromic numbers\n",
        "prime_palindromes = [n for n in range(10000) if is_prime(n) and is_palindromic(n)]\n",
        "\n",
        "# Print the result\n",
        "print(prime_palindromes)\n"
      ],
      "metadata": {
        "colab": {
          "base_uri": "https://localhost:8080/"
        },
        "id": "03qNM8W58LQo",
        "outputId": "ecd3f228-c5a3-458f-b305-0406fa43345c"
      },
      "execution_count": 16,
      "outputs": [
        {
          "output_type": "stream",
          "name": "stdout",
          "text": [
            "[2, 3, 5, 7, 11, 101, 131, 151, 181, 191, 313, 353, 373, 383, 727, 757, 787, 797, 919, 929]\n"
          ]
        }
      ]
    }
  ]
}