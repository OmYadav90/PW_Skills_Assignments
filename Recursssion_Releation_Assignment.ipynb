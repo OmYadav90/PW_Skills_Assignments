{
  "nbformat": 4,
  "nbformat_minor": 0,
  "metadata": {
    "colab": {
      "provenance": []
    },
    "kernelspec": {
      "name": "python3",
      "display_name": "Python 3"
    },
    "language_info": {
      "name": "python"
    }
  },
  "cells": [
    {
      "cell_type": "code",
      "execution_count": null,
      "metadata": {
        "id": "YqDZUPnaVe1j"
      },
      "outputs": [],
      "source": []
    },
    {
      "cell_type": "markdown",
      "source": [
        "1)  Find the val%e of T(2) for the rec%rrence relation T(n) = 3T(n-1) + 12n, given that T(0)=5."
      ],
      "metadata": {
        "id": "-AsGCxOfVfVw"
      }
    },
    {
      "cell_type": "code",
      "source": [
        "def recurrence_relation(n):\n",
        "    if n == 0:\n",
        "        return 5  # Base case: T(0) = 5\n",
        "    else:\n",
        "        return 3 * recurrence_relation(n - 1) + 12 * n\n",
        "\n",
        "# Calculate T(2)\n",
        "result_T2 = recurrence_relation(2)\n",
        "\n",
        "print(\"The value of T(2) is:\", result_T2)"
      ],
      "metadata": {
        "colab": {
          "base_uri": "https://localhost:8080/"
        },
        "id": "byDMaC7fVgNc",
        "outputId": "b7181222-c724-4fe0-dfd3-e3ecc189f437"
      },
      "execution_count": 1,
      "outputs": [
        {
          "output_type": "stream",
          "name": "stdout",
          "text": [
            "The value of T(2) is: 105\n"
          ]
        }
      ]
    },
    {
      "cell_type": "markdown",
      "source": [
        "2. Given a recurrence relation, solve it using the substution method:\n",
        "a. T(n) = T(n-1) + c\n",
        "b. T(n) = 2T(n/2) + n\n",
        "c. T(n) = 2T(n/2) + c\n",
        "d. T(n) = T(n/2) + c"
      ],
      "metadata": {
        "id": "vwePAalAWlcG"
      }
    },
    {
      "cell_type": "code",
      "source": [
        "def recurrence_relation_a(n, c):\n",
        "    if n == 0:\n",
        "        return 0  # Base case: T(0) = 0\n",
        "    else:\n",
        "        return recurrence_relation_a(n - 1, c) + c\n",
        "\n",
        "# Example usage\n",
        "result_a = recurrence_relation_a(5, 3)\n",
        "print(\"The value of T(5) is:\", result_a)\n"
      ],
      "metadata": {
        "colab": {
          "base_uri": "https://localhost:8080/"
        },
        "id": "MkwNkjyHWYmr",
        "outputId": "dda5a644-8a9b-40e9-c2ed-e719b718f4c6"
      },
      "execution_count": 2,
      "outputs": [
        {
          "output_type": "stream",
          "name": "stdout",
          "text": [
            "The value of T(5) is: 15\n"
          ]
        }
      ]
    },
    {
      "cell_type": "code",
      "source": [
        "def recurrence_relation_b(n):\n",
        "    if n == 1:\n",
        "        return 1  # Base case: T(1) = 1\n",
        "    else:\n",
        "        return 2 * recurrence_relation_b(n // 2) + n\n",
        "\n",
        "# Example usage\n",
        "result_b = recurrence_relation_b(8)\n",
        "print(\"The value of T(8) is:\", result_b)\n"
      ],
      "metadata": {
        "colab": {
          "base_uri": "https://localhost:8080/"
        },
        "id": "Je1fAKPvXBqq",
        "outputId": "ed8623ac-241a-435b-dad5-cd2f38c61b0c"
      },
      "execution_count": 3,
      "outputs": [
        {
          "output_type": "stream",
          "name": "stdout",
          "text": [
            "The value of T(8) is: 32\n"
          ]
        }
      ]
    },
    {
      "cell_type": "code",
      "source": [
        "def recurrence_relation_c(n, c):\n",
        "    if n == 1:\n",
        "        return c  # Base case: T(1) = c\n",
        "    else:\n",
        "        return 2 * recurrence_relation_c(n // 2, c) + c\n",
        "\n",
        "# Example usage\n",
        "result_c = recurrence_relation_c(4, 5)\n",
        "print(\"The value of T(4) is:\", result_c)\n"
      ],
      "metadata": {
        "colab": {
          "base_uri": "https://localhost:8080/"
        },
        "id": "4w6BnazwXDK5",
        "outputId": "cb368317-0abd-44fc-8051-f74691a61a5d"
      },
      "execution_count": 4,
      "outputs": [
        {
          "output_type": "stream",
          "name": "stdout",
          "text": [
            "The value of T(4) is: 35\n"
          ]
        }
      ]
    },
    {
      "cell_type": "code",
      "source": [
        "def recurrence_relation_d(n, c):\n",
        "    if n == 1:\n",
        "        return c  # Base case: T(1) = c\n",
        "    else:\n",
        "        return recurrence_relation_d(n // 2, c) + c\n",
        "\n",
        "# Example usage\n",
        "result_d = recurrence_relation_d(16, 2)\n",
        "print(\"The value of T(16) is:\", result_d)\n"
      ],
      "metadata": {
        "colab": {
          "base_uri": "https://localhost:8080/"
        },
        "id": "DsDg-M8dXHWi",
        "outputId": "b1a635b8-bc7a-4204-f64e-e4c836724efc"
      },
      "execution_count": 5,
      "outputs": [
        {
          "output_type": "stream",
          "name": "stdout",
          "text": [
            "The value of T(16) is: 10\n"
          ]
        }
      ]
    },
    {
      "cell_type": "code",
      "source": [],
      "metadata": {
        "id": "v4XGQBxiXIzw"
      },
      "execution_count": null,
      "outputs": []
    },
    {
      "cell_type": "markdown",
      "source": [
        "3. Given a recurrence relation, solve it using the recursive tree approach:\n",
        "a. T(n) = 2T(n-1) +1\n",
        "b. T(n) = 2T(n/2) + n"
      ],
      "metadata": {
        "id": "lVj3H-TSXL8a"
      }
    },
    {
      "cell_type": "code",
      "source": [
        "def recurrence_relation_a(n):\n",
        "    if n == 0:\n",
        "        return 1  # Base case: T(0) = 1\n",
        "    else:\n",
        "        return 2 * recurrence_relation_a(n - 1) + 1\n",
        "\n",
        "# Example usage\n",
        "result_a = recurrence_relation_a(3)\n",
        "print(\"The value of T(3) is:\", result_a)"
      ],
      "metadata": {
        "colab": {
          "base_uri": "https://localhost:8080/"
        },
        "id": "c8q_2IziXTIr",
        "outputId": "c892b168-1ef5-4e59-e9f5-6b2f61d628b9"
      },
      "execution_count": 6,
      "outputs": [
        {
          "output_type": "stream",
          "name": "stdout",
          "text": [
            "The value of T(3) is: 15\n"
          ]
        }
      ]
    },
    {
      "cell_type": "code",
      "source": [
        "def recurrence_relation_b(n):\n",
        "    if n == 1:\n",
        "        return 1  # Base case: T(1) = 1\n",
        "    else:\n",
        "        return 2 * recurrence_relation_b(n // 2) + n\n",
        "\n",
        "# Example usage\n",
        "result_b = recurrence_relation_b(8)\n",
        "print(\"The value of T(8) is:\", result_b)\n"
      ],
      "metadata": {
        "colab": {
          "base_uri": "https://localhost:8080/"
        },
        "id": "prF_xnI-XWAT",
        "outputId": "8edb36c5-92c2-43a2-9be3-387a1fca6ba0"
      },
      "execution_count": 7,
      "outputs": [
        {
          "output_type": "stream",
          "name": "stdout",
          "text": [
            "The value of T(8) is: 32\n"
          ]
        }
      ]
    },
    {
      "cell_type": "code",
      "source": [],
      "metadata": {
        "id": "5NEvokamXXTL"
      },
      "execution_count": null,
      "outputs": []
    }
  ]
}