{
  "nbformat": 4,
  "nbformat_minor": 0,
  "metadata": {
    "colab": {
      "provenance": []
    },
    "kernelspec": {
      "name": "python3",
      "display_name": "Python 3"
    },
    "language_info": {
      "name": "python"
    }
  },
  "cells": [
    {
      "cell_type": "code",
      "execution_count": null,
      "metadata": {
        "id": "6f38Q_o2eTX_"
      },
      "outputs": [],
      "source": []
    },
    {
      "cell_type": "markdown",
      "source": [
        "Write a Python program to print numbers from 1 to 10 using a for loop.\n"
      ],
      "metadata": {
        "id": "JvGfPEr3eesE"
      }
    },
    {
      "cell_type": "code",
      "source": [
        "# Python program to print numbers from 1 to 10 using a for loop\n",
        "\n",
        "# Using a for loop to iterate through numbers from 1 to 10\n",
        "for i in range(1, 11):\n",
        "    print(i)\n",
        "\n",
        "\n"
      ],
      "metadata": {
        "colab": {
          "base_uri": "https://localhost:8080/"
        },
        "id": "_Qc879sFefbN",
        "outputId": "e187db3e-0d49-43eb-e56b-f8860774ca4f"
      },
      "execution_count": null,
      "outputs": [
        {
          "output_type": "stream",
          "name": "stdout",
          "text": [
            "1\n",
            "2\n",
            "3\n",
            "4\n",
            "5\n",
            "6\n",
            "7\n",
            "8\n",
            "9\n",
            "10\n"
          ]
        }
      ]
    },
    {
      "cell_type": "code",
      "source": [],
      "metadata": {
        "id": "pB0xmBlfemDw"
      },
      "execution_count": null,
      "outputs": []
    },
    {
      "cell_type": "markdown",
      "source": [
        "Explain the difference between a for loop and a while loop in Python.\n"
      ],
      "metadata": {
        "id": "KeAoojOnvI5T"
      }
    },
    {
      "cell_type": "code",
      "source": [
        "#The main difference between a for loop and a while loop is that a for loop iterates over a sequence of items, such as a list, tuple, string, or range, and assigns each item to a variable. A while loop executes a block of statements as long as a condition is True, and the condition can be any expression that evaluates to a boolean value.\n",
        "for variable in iterable:\n",
        "    # statements\n",
        "#while loop\n",
        "while condition:\n",
        "    # statements\n"
      ],
      "metadata": {
        "id": "1nXxnRz2vJ8R"
      },
      "execution_count": null,
      "outputs": []
    },
    {
      "cell_type": "markdown",
      "source": [
        "Write a Python program to calculate the sum of all numbers from 1 to 100 using a for loop.\n"
      ],
      "metadata": {
        "id": "XBiUZHpY1Hgy"
      }
    },
    {
      "cell_type": "code",
      "source": [
        "# initialize the sum variable to 0\n",
        "sum = 0\n",
        "\n",
        "# loop from 1 to 100 (inclusive)\n",
        "for num in range(1, 101):\n",
        "    # add the current number to the sum\n",
        "    sum += num\n",
        "\n",
        "# print the final sum\n",
        "print(\"The sum of all numbers from 1 to 100 is\", sum)\n"
      ],
      "metadata": {
        "colab": {
          "base_uri": "https://localhost:8080/"
        },
        "id": "4RPGODKj1v74",
        "outputId": "3ac46179-9fd4-4530-b9cc-2ac97128caed"
      },
      "execution_count": null,
      "outputs": [
        {
          "output_type": "stream",
          "name": "stdout",
          "text": [
            "The sum of all numbers from 1 to 100 is 5050\n"
          ]
        }
      ]
    },
    {
      "cell_type": "markdown",
      "source": [
        "How do you iterate through a list using a for loop in Python?"
      ],
      "metadata": {
        "id": "d2BbIJHj2LdV"
      }
    },
    {
      "cell_type": "code",
      "source": [
        "numbers = [1, 2, 3, 4, 5]\n",
        "for num in numbers:\n",
        "    print(num ** 2)"
      ],
      "metadata": {
        "colab": {
          "base_uri": "https://localhost:8080/"
        },
        "id": "xYuwyCK92R-D",
        "outputId": "a068a201-1b3a-4ecb-a6ac-a95160416473"
      },
      "execution_count": null,
      "outputs": [
        {
          "output_type": "stream",
          "name": "stdout",
          "text": [
            "1\n",
            "4\n",
            "9\n",
            "16\n",
            "25\n"
          ]
        }
      ]
    },
    {
      "cell_type": "markdown",
      "source": [
        "Write a Python program to find the product of all elements in a list using a for loop."
      ],
      "metadata": {
        "id": "zCKlIKZ-34CJ"
      }
    },
    {
      "cell_type": "code",
      "source": [
        "# initialize the product variable to 1\n",
        "product = 1\n",
        "list = [2, 3, 4, 5]\n",
        "# loop through each element in the list\n",
        "for i in list:\n",
        "    # multiply the product by the current element\n",
        "    product *= i\n",
        "\n",
        "# print the final product\n",
        "print(\"The product of all elements in the list is\", product)"
      ],
      "metadata": {
        "colab": {
          "base_uri": "https://localhost:8080/"
        },
        "id": "JdXvzDf538y2",
        "outputId": "3ac8f6eb-dde2-46f6-d27e-0d98d19bb7b5"
      },
      "execution_count": null,
      "outputs": [
        {
          "output_type": "stream",
          "name": "stdout",
          "text": [
            "The product of all elements in the list is 120\n"
          ]
        }
      ]
    },
    {
      "cell_type": "markdown",
      "source": [
        "Create a Python program that prints all even numbers from 1 to 20 using a for loop."
      ],
      "metadata": {
        "id": "28WcfCfi5ALK"
      }
    },
    {
      "cell_type": "code",
      "source": [
        "# loop from 1 to 20 (inclusive)\n",
        "for num in range(1, 21):\n",
        "    # check if the number is even\n",
        "    if num % 2 == 0:\n",
        "        # print the number\n",
        "        print(num)"
      ],
      "metadata": {
        "colab": {
          "base_uri": "https://localhost:8080/"
        },
        "id": "pXmW7r2e5DxX",
        "outputId": "ef92011e-2c58-4516-85dc-aaf94e082e76"
      },
      "execution_count": null,
      "outputs": [
        {
          "output_type": "stream",
          "name": "stdout",
          "text": [
            "2\n",
            "4\n",
            "6\n",
            "8\n",
            "10\n",
            "12\n",
            "14\n",
            "16\n",
            "18\n",
            "20\n"
          ]
        }
      ]
    },
    {
      "cell_type": "markdown",
      "source": [
        "Write a Python program that calculates the factorial of a number using a for loop.\n"
      ],
      "metadata": {
        "id": "75GGGnoU5WgB"
      }
    },
    {
      "cell_type": "code",
      "source": [
        "# ask the user to enter a non-negative integer\n",
        "num = int(input(\"Enter a non-negative integer: \"))\n",
        "\n",
        "# check if the number is valid\n",
        "if num < 0:\n",
        "    print(\"Invalid input. The number must be non-negative.\")\n",
        "else:\n",
        "    # initialize the factorial variable to 1\n",
        "    factorial = 1\n",
        "\n",
        "    # loop from 1 to the number (inclusive)\n",
        "    for i in range(1, num + 1):\n",
        "        # multiply the factorial by the current number\n",
        "        factorial *= i\n",
        "\n",
        "    # print the final factorial\n",
        "    print(\"The factorial of\", num, \"is\", factorial)"
      ],
      "metadata": {
        "colab": {
          "base_uri": "https://localhost:8080/"
        },
        "id": "66EEo2cN5Xh6",
        "outputId": "211bdebc-4bb0-4198-d95d-4d044de72411"
      },
      "execution_count": null,
      "outputs": [
        {
          "output_type": "stream",
          "name": "stdout",
          "text": [
            "Enter a non-negative integer: 34\n",
            "The factorial of 34 is 295232799039604140847618609643520000000\n"
          ]
        }
      ]
    },
    {
      "cell_type": "markdown",
      "source": [
        "How can you iterate through the characters of a string using a for loop in Python?\n"
      ],
      "metadata": {
        "id": "LOY5m1da6AVk"
      }
    },
    {
      "cell_type": "code",
      "source": [
        "string = \"PWSkills please talk to Krish Sir for not changing tutor\"\n",
        "for char in string:\n",
        "    print(char)"
      ],
      "metadata": {
        "colab": {
          "base_uri": "https://localhost:8080/"
        },
        "id": "5D7dJao16A9T",
        "outputId": "9b53d093-e3a2-473f-d20d-9a146520b647"
      },
      "execution_count": null,
      "outputs": [
        {
          "output_type": "stream",
          "name": "stdout",
          "text": [
            "P\n",
            "W\n",
            "S\n",
            "k\n",
            "i\n",
            "l\n",
            "l\n",
            "s\n",
            " \n",
            "p\n",
            "l\n",
            "e\n",
            "a\n",
            "s\n",
            "e\n",
            " \n",
            "t\n",
            "a\n",
            "l\n",
            "k\n",
            " \n",
            "t\n",
            "o\n",
            " \n",
            "K\n",
            "r\n",
            "i\n",
            "s\n",
            "h\n",
            " \n",
            "S\n",
            "i\n",
            "r\n",
            " \n",
            "f\n",
            "o\n",
            "r\n",
            " \n",
            "n\n",
            "o\n",
            "t\n",
            " \n",
            "c\n",
            "h\n",
            "a\n",
            "n\n",
            "g\n",
            "i\n",
            "n\n",
            "g\n",
            " \n",
            "t\n",
            "u\n",
            "t\n",
            "o\n",
            "r\n"
          ]
        }
      ]
    },
    {
      "cell_type": "markdown",
      "source": [
        "Write a Python program to find the largest number in a list using a for loop.\n"
      ],
      "metadata": {
        "id": "JVuip44_9MDs"
      }
    },
    {
      "cell_type": "code",
      "source": [
        "list = [0,12,24,34,23,25,45,56]\n",
        "# initialize the largest variable to the first element of the list\n",
        "largest = list[0]\n",
        "\n",
        "# loop through each element in the list\n",
        "for item in list:\n",
        "    # compare the current element with the largest\n",
        "    if item > largest:\n",
        "        # update the largest with the current element\n",
        "        largest = item\n",
        "\n",
        "# print the final largest\n",
        "print(\"The largest number in the list is\", largest)"
      ],
      "metadata": {
        "colab": {
          "base_uri": "https://localhost:8080/"
        },
        "id": "utCA4HlU9Q7j",
        "outputId": "72c483a7-4c4c-4944-dec0-801cfd967009"
      },
      "execution_count": null,
      "outputs": [
        {
          "output_type": "stream",
          "name": "stdout",
          "text": [
            "The largest number in the list is 56\n"
          ]
        }
      ]
    },
    {
      "cell_type": "markdown",
      "source": [
        "Create a Python program that prints the Fibonacci sequence up to a specified limit using a for loop.\n"
      ],
      "metadata": {
        "id": "sfawen-O-CJz"
      }
    },
    {
      "cell_type": "code",
      "source": [
        "# ask the user to enter a positive integer as the limit\n",
        "limit = int(input(\"Enter a positive integer as the limit: \"))\n",
        "\n",
        "# check if the limit is valid\n",
        "if limit < 0:\n",
        "    print(\"Invalid input. The limit must be positive.\")\n",
        "else:\n",
        "    # initialize the first two terms of the sequence\n",
        "    a = 0\n",
        "    b = 1\n",
        "\n",
        "    # print the first term\n",
        "    print(a)\n",
        "\n",
        "    # loop until the next term is less than or equal to the limit\n",
        "    while a + b <= limit:\n",
        "        # calculate the next term\n",
        "        c = a + b\n",
        "\n",
        "        # print the next term\n",
        "        print(c)\n",
        "\n",
        "        # update the previous two terms\n",
        "        a = b\n",
        "        b = c"
      ],
      "metadata": {
        "colab": {
          "base_uri": "https://localhost:8080/"
        },
        "id": "B4pevvYJ-C_b",
        "outputId": "ee252949-1c67-4bf9-fa03-0af62c150c91"
      },
      "execution_count": null,
      "outputs": [
        {
          "output_type": "stream",
          "name": "stdout",
          "text": [
            "Enter a positive integer as the limit: 45\n",
            "0\n",
            "1\n",
            "2\n",
            "3\n",
            "5\n",
            "8\n",
            "13\n",
            "21\n",
            "34\n"
          ]
        }
      ]
    },
    {
      "cell_type": "code",
      "source": [],
      "metadata": {
        "id": "P-fULmbo--u7"
      },
      "execution_count": null,
      "outputs": []
    },
    {
      "cell_type": "markdown",
      "source": [
        "Write a Python program to count the number of vowels in a given string using a for loop.\n"
      ],
      "metadata": {
        "id": "Bd4PmiWT_MY_"
      }
    },
    {
      "cell_type": "code",
      "source": [
        "# ask the user to enter a string\n",
        "string = input(\"Enter a string: \")\n",
        "\n",
        "# define the vowels as a string\n",
        "vowels = \"aeiou\"\n",
        "\n",
        "# initialize the count variable to 0\n",
        "count = 0\n",
        "\n",
        "# loop through each character in the string\n",
        "for char in string:\n",
        "    # convert the character to lowercase\n",
        "    char = char.lower()\n",
        "\n",
        "    # check if the character is a vowel\n",
        "    if char in vowels:\n",
        "        # increment the count by 1\n",
        "        count += 1\n",
        "\n",
        "# print the final count\n",
        "print(\"The number of vowels in the string is\", count)"
      ],
      "metadata": {
        "id": "p4pmAQIx_NRy",
        "colab": {
          "base_uri": "https://localhost:8080/"
        },
        "outputId": "d3126056-1da9-46c6-ace6-2ceacf1ec39d"
      },
      "execution_count": null,
      "outputs": [
        {
          "output_type": "stream",
          "name": "stdout",
          "text": [
            "Enter a string: pwskills student name om yadav\n",
            "The number of vowels in the string is 8\n"
          ]
        }
      ]
    },
    {
      "cell_type": "markdown",
      "source": [
        "12. Create a Python program that generates a multiplication table for a given number using a for loop.\n"
      ],
      "metadata": {
        "id": "MFnfo_y8xjHj"
      }
    },
    {
      "cell_type": "code",
      "source": [
        "# ask the user to enter a positive integer as the number\n",
        "number = int(input(\"Enter a positive integer as the number: \"))\n",
        "\n",
        "# check if the number is valid\n",
        "if number < 0:\n",
        "    print(\"Invalid input. The number must be positive.\")\n",
        "else:\n",
        "    # loop from 1 to 10 (inclusive)\n",
        "    for i in range(1, 11):\n",
        "        # calculate the product of the number and the current multiplier\n",
        "        product = number * i\n",
        "\n",
        "        # print the multiplication statement\n",
        "        print(number, \"x\", i, \"=\", product)"
      ],
      "metadata": {
        "colab": {
          "base_uri": "https://localhost:8080/"
        },
        "id": "XSs9oas9xkHg",
        "outputId": "581d42c5-e9e3-4399-c76c-1ab72b5373bc"
      },
      "execution_count": null,
      "outputs": [
        {
          "output_type": "stream",
          "name": "stdout",
          "text": [
            "Enter a positive integer as the number: 2\n",
            "2 x 1 = 2\n",
            "2 x 2 = 4\n",
            "2 x 3 = 6\n",
            "2 x 4 = 8\n",
            "2 x 5 = 10\n",
            "2 x 6 = 12\n",
            "2 x 7 = 14\n",
            "2 x 8 = 16\n",
            "2 x 9 = 18\n",
            "2 x 10 = 20\n"
          ]
        }
      ]
    },
    {
      "cell_type": "markdown",
      "source": [
        "13 Write a Python program to reverse a list using a for loop.\n"
      ],
      "metadata": {
        "id": "FyKozWv_yBGO"
      }
    },
    {
      "cell_type": "code",
      "source": [
        "list = [1, 2, 3, 4, 5]\n",
        "# initialize an empty list to store the reversed elements\n",
        "reversed_list = []\n",
        "\n",
        "# loop through each element in the original list from the end to the beginning\n",
        "for i in range(len(list) - 1, -1, -1):\n",
        "    # append the current element to the reversed list\n",
        "    reversed_list.append(list[i])\n",
        "\n",
        "# print the reversed list\n",
        "print(\"The reversed list is\", reversed_list)"
      ],
      "metadata": {
        "colab": {
          "base_uri": "https://localhost:8080/"
        },
        "id": "DqL7W0P9yB6f",
        "outputId": "cef78a0a-00ef-4079-9310-19cacbeedf6c"
      },
      "execution_count": null,
      "outputs": [
        {
          "output_type": "stream",
          "name": "stdout",
          "text": [
            "The reversed list is [5, 4, 3, 2, 1]\n"
          ]
        }
      ]
    },
    {
      "cell_type": "markdown",
      "source": [
        "14 Write a Python program to find the common elements between two lists using a for loop.\n"
      ],
      "metadata": {
        "id": "asoQSi7V3L_l"
      }
    },
    {
      "cell_type": "code",
      "source": [
        "list1 = [1, 2, 3, 4, 5]\n",
        "list2 = [3, 4, 5, 6, 7]\n",
        "\n",
        "# initialize an empty list to store the common elements\n",
        "common_list = []\n",
        "\n",
        "# loop through each element in the first list\n",
        "for item in list1:\n",
        "    # check if the element is also in the second list\n",
        "    if item in list2:\n",
        "        # append the element to the common list\n",
        "        common_list.append(item)\n",
        "\n",
        "# print the common list\n",
        "print(\"The common elements between the two lists are\", common_list)"
      ],
      "metadata": {
        "colab": {
          "base_uri": "https://localhost:8080/"
        },
        "id": "vPdg45CD3NI7",
        "outputId": "4b34d97b-cd4b-41db-8f0a-4f7a545e89fc"
      },
      "execution_count": null,
      "outputs": [
        {
          "output_type": "stream",
          "name": "stdout",
          "text": [
            "The common elements between the two lists are [3, 4, 5]\n"
          ]
        }
      ]
    },
    {
      "cell_type": "markdown",
      "source": [
        "15. Explain how to use a for loop to iterate through the keys and values of a dictionary in Python."
      ],
      "metadata": {
        "id": "8iZ2A8Au3tIK"
      }
    },
    {
      "cell_type": "code",
      "source": [
        "person = {\"name\": \"John\", \"age\": 30, \"city\": \"New York\"}\n",
        "\n",
        "# loop through the values of the person dictionary\n",
        "for value in person.values():\n",
        "    # print the value\n",
        "    print(value)"
      ],
      "metadata": {
        "colab": {
          "base_uri": "https://localhost:8080/"
        },
        "id": "WIgyCnVF3bAW",
        "outputId": "21320c86-b3c3-4d8a-e8e3-43b700c943a2"
      },
      "execution_count": null,
      "outputs": [
        {
          "output_type": "stream",
          "name": "stdout",
          "text": [
            "John\n",
            "30\n",
            "New York\n"
          ]
        }
      ]
    },
    {
      "cell_type": "code",
      "source": [],
      "metadata": {
        "id": "Df2z9y-i4Lma"
      },
      "execution_count": null,
      "outputs": []
    },
    {
      "cell_type": "markdown",
      "source": [
        "Write a Python program to find the GCD (Greatest Common Divisor) of two numbers using a for loop.\n"
      ],
      "metadata": {
        "id": "CvGFQCld4hKZ"
      }
    },
    {
      "cell_type": "code",
      "source": [
        "# ask the user to enter two positive integers as the numbers\n",
        "num1 = int(input(\"Enter the first positive integer: \"))\n",
        "num2 = int(input(\"Enter the second positive integer: \"))\n",
        "\n",
        "# check if the numbers are valid\n",
        "if num1 < 0 or num2 < 0:\n",
        "    print(\"Invalid input. The numbers must be positive.\")\n",
        "else:\n",
        "    # initialize the gcd variable to 1\n",
        "    gcd = 1\n",
        "\n",
        "    # loop from 1 to the minimum of the numbers (inclusive)\n",
        "    for i in range(1, min(num1, num2) + 1):\n",
        "        # check if both numbers are divisible by i\n",
        "        if num1 % i == 0 and num2 % i == 0:\n",
        "            # update the gcd with i\n",
        "            gcd = i\n",
        "\n",
        "    # print the final gcd\n",
        "    print(\"The GCD of\", num1, \"and\", num2, \"is\", gcd)"
      ],
      "metadata": {
        "colab": {
          "base_uri": "https://localhost:8080/"
        },
        "id": "_DS2AMdi4iR7",
        "outputId": "16475df6-89e7-4829-cb8f-d2b0a8f3303b"
      },
      "execution_count": null,
      "outputs": [
        {
          "output_type": "stream",
          "name": "stdout",
          "text": [
            "Enter the first positive integer: 24\n",
            "Enter the second positive integer: 46\n",
            "The GCD of 24 and 46 is 2\n"
          ]
        }
      ]
    },
    {
      "cell_type": "markdown",
      "source": [
        "17 Create a Python program that checks if a string is a palindrome using a for loop.\n"
      ],
      "metadata": {
        "id": "3bXZromM5sDh"
      }
    },
    {
      "cell_type": "code",
      "source": [
        "# ask the user to enter a string\n",
        "string = input(\"Enter a string: \")\n",
        "\n",
        "# convert the string to lowercase and remove any spaces\n",
        "string = string.lower().replace(\" \", \"\")\n",
        "\n",
        "# initialize a flag variable to True\n",
        "flag = True\n",
        "\n",
        "# loop through half of the string\n",
        "for i in range(len(string) // 2):\n",
        "    # compare the corresponding characters from both ends\n",
        "    if string[i] != string[-1 - i]:\n",
        "        # if they are not equal, set the flag to False and break the loop\n",
        "        flag = False\n",
        "        break\n",
        "\n",
        "# print the result based on the flag value\n",
        "if flag:\n",
        "    print(\"The string is a palindrome.\")\n",
        "else:\n",
        "    print(\"The string is not a palindrome.\")"
      ],
      "metadata": {
        "colab": {
          "base_uri": "https://localhost:8080/"
        },
        "id": "Zj3336gy5uwY",
        "outputId": "d91a1c58-d522-4a34-f541-88b6c4eaaa0b"
      },
      "execution_count": null,
      "outputs": [
        {
          "output_type": "stream",
          "name": "stdout",
          "text": [
            "Enter a string: race car\n",
            "The string is a palindrome.\n"
          ]
        }
      ]
    },
    {
      "cell_type": "markdown",
      "source": [
        "Write a Python program to remove duplicates from a list using a for loop.\n"
      ],
      "metadata": {
        "id": "eMBjEAU16fTv"
      }
    },
    {
      "cell_type": "code",
      "source": [
        "list = [1, 2, 3, 2, 4, 5, 1, 6]\n",
        "# initialize an empty list to store the unique elements\n",
        "unique_list = []\n",
        "\n",
        "# loop through each element in the original list\n",
        "for i in list:\n",
        "    # check if the element is not already in the unique list\n",
        "    if i not in unique_list:\n",
        "        # append the element to the unique list\n",
        "        unique_list.append(i)\n",
        "\n",
        "# print the unique list\n",
        "print(\"The list without duplicates is\", unique_list)"
      ],
      "metadata": {
        "colab": {
          "base_uri": "https://localhost:8080/"
        },
        "id": "o5cDWG_I6HVA",
        "outputId": "bff7ef71-887a-46c5-8c4c-3af64f878299"
      },
      "execution_count": null,
      "outputs": [
        {
          "output_type": "stream",
          "name": "stdout",
          "text": [
            "The list without duplicates is [1, 2, 3, 4, 5, 6]\n"
          ]
        }
      ]
    },
    {
      "cell_type": "markdown",
      "source": [
        "19. Create a Python program that counts the number of words in a sentence using a for loop.\n"
      ],
      "metadata": {
        "id": "kKSW48Cq7m8M"
      }
    },
    {
      "cell_type": "code",
      "source": [
        "# ask the user to enter a sentence\n",
        "sentence = input(\"Enter a sentence: \")\n",
        "\n",
        "# initialize the count variable to 0\n",
        "count = 0\n",
        "\n",
        "# split the sentence into words using the split() method\n",
        "words = sentence.split()\n",
        "\n",
        "# loop through each word in the list of words\n",
        "for word in words:\n",
        "    # increment the count by 1\n",
        "    count += 1\n",
        "\n",
        "# print the final count\n",
        "print(\"The number of words in the sentence is\", count)"
      ],
      "metadata": {
        "colab": {
          "base_uri": "https://localhost:8080/"
        },
        "id": "frCgBsUR7no6",
        "outputId": "f83550f7-6ff1-46c6-a858-5441c0c32600"
      },
      "execution_count": null,
      "outputs": [
        {
          "output_type": "stream",
          "name": "stdout",
          "text": [
            "Enter a sentence: this is Pwskills\n",
            "The number of words in the sentence is 3\n"
          ]
        }
      ]
    },
    {
      "cell_type": "code",
      "source": [],
      "metadata": {
        "id": "72qwJtBK7z_V"
      },
      "execution_count": null,
      "outputs": []
    },
    {
      "cell_type": "markdown",
      "source": [
        "20. Write a Python program to find the sum of all odd numbers from 1 to 50 using a for loop."
      ],
      "metadata": {
        "id": "SvCoDo7-8dVP"
      }
    },
    {
      "cell_type": "code",
      "source": [
        "# initialize the sum variable to 0\n",
        "sum = 0\n",
        "\n",
        "# loop from 1 to 50 (inclusive)\n",
        "for num in range(1, 51):\n",
        "    # check if the number is odd\n",
        "    if num % 2 == 1:\n",
        "        # add the number to the sum\n",
        "        sum += num\n",
        "\n",
        "# print the final sum\n",
        "print(\"The sum of all odd numbers from 1 to 50 is\", sum)"
      ],
      "metadata": {
        "colab": {
          "base_uri": "https://localhost:8080/"
        },
        "id": "wVdpcdzQ8eGZ",
        "outputId": "620ee291-d336-421d-d024-847d90660fc6"
      },
      "execution_count": null,
      "outputs": [
        {
          "output_type": "stream",
          "name": "stdout",
          "text": [
            "The sum of all odd numbers from 1 to 50 is 625\n"
          ]
        }
      ]
    },
    {
      "cell_type": "code",
      "source": [],
      "metadata": {
        "id": "QjbFWvQz8mN0"
      },
      "execution_count": null,
      "outputs": []
    },
    {
      "cell_type": "markdown",
      "source": [
        "21 Write a Python program that checks if a given year is a leap year using a for loop."
      ],
      "metadata": {
        "id": "QwqB54cb9U6p"
      }
    },
    {
      "cell_type": "code",
      "source": [
        "# ask the user to enter a positive integer as the year\n",
        "year = int(input(\"Enter a positive integer as the year: \"))\n",
        "\n",
        "# check if the year is valid\n",
        "if year < 0:\n",
        "    print(\"Invalid input. The year must be positive.\")\n",
        "else:\n",
        "    # initialize a flag variable to False\n",
        "    flag = False\n",
        "\n",
        "    # loop from 1 to the year (inclusive)\n",
        "    for i in range(1, year + 1):\n",
        "        # check if the current year is divisible by 4, except if it is also divisible by 100, in which case it must be divisible by 400 to be a leap year\n",
        "        if i % 4 == 0 and (i % 100 != 0 or i % 400 == 0):\n",
        "            # set the flag to True\n",
        "            flag = True\n",
        "            # break the loop\n",
        "            break\n",
        "\n",
        "    # print the result based on the flag value\n",
        "    if flag:\n",
        "        print(\"The year\", year, \"is a leap year.\")\n",
        "    else:\n",
        "        print(\"The year\", year, \"is not a leap year.\")"
      ],
      "metadata": {
        "colab": {
          "base_uri": "https://localhost:8080/"
        },
        "id": "1Ez1vhat9XmM",
        "outputId": "f1c10585-36cb-4328-f41c-ca0a2326f36f"
      },
      "execution_count": null,
      "outputs": [
        {
          "output_type": "stream",
          "name": "stdout",
          "text": [
            "Enter a positive integer as the year: 2024\n",
            "The year 2024 is a leap year.\n"
          ]
        }
      ]
    },
    {
      "cell_type": "code",
      "source": [],
      "metadata": {
        "id": "nPTgJdpA_JGI"
      },
      "execution_count": null,
      "outputs": []
    },
    {
      "cell_type": "markdown",
      "source": [
        "22 Create a Python program that calculates the square root of a number using a for loop.\n"
      ],
      "metadata": {
        "id": "XIHkOsM3_Scc"
      }
    },
    {
      "cell_type": "code",
      "source": [
        "# ask the user to enter a positive number\n",
        "number = float(input(\"Enter a positive number: \"))\n",
        "\n",
        "# check if the number is valid\n",
        "if number < 0:\n",
        "    print(\"Invalid input. The number must be positive.\")\n",
        "else:\n",
        "    # initialize the square root variable to 1\n",
        "    square_root = 1\n",
        "\n",
        "    # initialize the error variable to a small value\n",
        "    error = 0.000001\n",
        "\n",
        "    # loop until the difference between the square of the square root and the number is less than the error\n",
        "    while abs(square_root ** 2 - number) > error:\n",
        "        # update the square root using the average of the square root and the number divided by the square root\n",
        "        square_root = (square_root + number / square_root) / 2\n",
        "\n",
        "    # print the final square root\n",
        "    print(\"The square root of\", number, \"is\", square_root)"
      ],
      "metadata": {
        "colab": {
          "base_uri": "https://localhost:8080/"
        },
        "id": "JPiSF16O_T-h",
        "outputId": "e045eea8-1a79-467a-a002-72037e2266ed"
      },
      "execution_count": null,
      "outputs": [
        {
          "output_type": "stream",
          "name": "stdout",
          "text": [
            "Enter a positive number: 24\n",
            "The square root of 24.0 is 4.898979485596715\n"
          ]
        }
      ]
    },
    {
      "cell_type": "markdown",
      "source": [
        "Write a Python program to find the LCM (Least Common Multiple) of two numbers using a for loop.\n"
      ],
      "metadata": {
        "id": "yOtBT6JJFfVY"
      }
    },
    {
      "cell_type": "code",
      "source": [
        "# ask the user to enter two positive integers as the numbers\n",
        "num1 = int(input(\"Enter the first positive integer: \"))\n",
        "num2 = int(input(\"Enter the second positive integer: \"))\n",
        "\n",
        "# check if the numbers are valid\n",
        "if num1 < 0 or num2 < 0:\n",
        "    print(\"Invalid input. The numbers must be positive.\")\n",
        "else:\n",
        "    # initialize the lcm variable to the maximum of the numbers\n",
        "    lcm = max(num1, num2)\n",
        "\n",
        "    # loop until the lcm is divisible by both numbers\n",
        "    while True:\n",
        "        if lcm % num1 == 0 and lcm % num2 == 0:\n",
        "            # print the lcm and break the loop\n",
        "            print(\"The LCM of\", num1, \"and\", num2, \"is\", lcm)\n",
        "            break\n",
        "        # increment the lcm by 1\n",
        "        lcm += 1"
      ],
      "metadata": {
        "colab": {
          "base_uri": "https://localhost:8080/"
        },
        "id": "nalB9tsTFp-H",
        "outputId": "984ccb71-7658-4260-84eb-df4cc9c5bf63"
      },
      "execution_count": null,
      "outputs": [
        {
          "output_type": "stream",
          "name": "stdout",
          "text": [
            "Enter the first positive integer: 24\n",
            "Enter the second positive integer: 36\n",
            "The LCM of 24 and 36 is 72\n"
          ]
        }
      ]
    },
    {
      "cell_type": "code",
      "source": [],
      "metadata": {
        "id": "RpUnJy34FvYV"
      },
      "execution_count": null,
      "outputs": []
    },
    {
      "cell_type": "markdown",
      "source": [
        "If else :\n"
      ],
      "metadata": {
        "id": "JTQNWRyjF0l5"
      }
    },
    {
      "cell_type": "markdown",
      "source": [
        "Write a Python program to check if a number is positive, negative, or zero using an if-else statement.\n"
      ],
      "metadata": {
        "id": "XLTePfd1F5Az"
      }
    },
    {
      "cell_type": "code",
      "source": [
        "# ask the user to enter a number\n",
        "number = float(input(\"Enter a number: \"))\n",
        "\n",
        "# check if the number is positive\n",
        "if number > 0:\n",
        "    # print the result\n",
        "    print(\"The number is positive.\")\n",
        "# check if the number is negative\n",
        "elif number < 0:\n",
        "    # print the result\n",
        "    print(\"The number is negative.\")\n",
        "# check if the number is zero\n",
        "else:\n",
        "    # print the result\n",
        "    print(\"The number is zero.\")\n"
      ],
      "metadata": {
        "colab": {
          "base_uri": "https://localhost:8080/"
        },
        "id": "ZS5lv4-UF2dQ",
        "outputId": "36a18d6e-d2bb-4cf4-9cad-6111436938f6"
      },
      "execution_count": null,
      "outputs": [
        {
          "output_type": "stream",
          "name": "stdout",
          "text": [
            "Enter a number: 12\n",
            "The number is positive.\n"
          ]
        }
      ]
    },
    {
      "cell_type": "code",
      "source": [],
      "metadata": {
        "id": "7FiNLTiLGEAP"
      },
      "execution_count": null,
      "outputs": []
    },
    {
      "cell_type": "markdown",
      "source": [
        "Create a Python program that checks if a given number is even or odd using an if-else statement.\n"
      ],
      "metadata": {
        "id": "2goC_QOoGaVp"
      }
    },
    {
      "cell_type": "code",
      "source": [
        "# ask the user to enter a number\n",
        "number = int(input(\"Enter a number: \"))\n",
        "\n",
        "# check if the number is even\n",
        "if number % 2 == 0:\n",
        "    # print the result\n",
        "    print(\"The number is even.\")\n",
        "# check if the number is odd\n",
        "else:\n",
        "    # print the result\n",
        "    print(\"The number is odd.\")"
      ],
      "metadata": {
        "colab": {
          "base_uri": "https://localhost:8080/"
        },
        "id": "yz_QsXaVGa63",
        "outputId": "7fc93629-cb17-4e67-ca0d-11504b61d0ad"
      },
      "execution_count": null,
      "outputs": [
        {
          "output_type": "stream",
          "name": "stdout",
          "text": [
            "Enter a number: 46\n",
            "The number is even.\n"
          ]
        }
      ]
    },
    {
      "cell_type": "code",
      "source": [],
      "metadata": {
        "id": "DEcP0j0dGpup"
      },
      "execution_count": null,
      "outputs": []
    },
    {
      "cell_type": "markdown",
      "source": [
        "3 How can you use nested if-else statements in Python, and provide an example?\n"
      ],
      "metadata": {
        "id": "hkmO7FLCGxhQ"
      }
    },
    {
      "cell_type": "code",
      "source": [
        "# ask the user to enter their age and gender\n",
        "age = int(input(\"Enter your age: \"))\n",
        "gender = input(\"Enter your gender (M/F): \")\n",
        "\n",
        "# check if the age is valid\n",
        "if age > 0:\n",
        "    # check if the gender is valid\n",
        "    if gender == \"M\" or gender == \"F\":\n",
        "        # check if the age is less than 18\n",
        "        if age < 18:\n",
        "            # check if the gender is male\n",
        "            if gender == \"M\":\n",
        "                # print the message for a male minor\n",
        "                print(\"You are a young boy.\")\n",
        "            else:\n",
        "                # print the message for a female minor\n",
        "                print(\"You are a young girl.\")\n",
        "        else:\n",
        "            # check if the gender is male\n",
        "            if gender == \"M\":\n",
        "                # print the message for a male adult\n",
        "                print(\"You are a man.\")\n",
        "            else:\n",
        "                # print the message for a female adult\n",
        "                print(\"You are a woman.\")\n",
        "    else:\n",
        "        # print the message for an invalid gender\n",
        "        print(\"Invalid gender. Please enter M or F.\")\n",
        "else:\n",
        "    # print the message for an invalid age\n",
        "    print(\"Invalid age. Please enter a positive number.\")"
      ],
      "metadata": {
        "colab": {
          "base_uri": "https://localhost:8080/"
        },
        "id": "Vqqg0VBDGygl",
        "outputId": "7a52c7e6-3933-416f-dfa9-14a3eb2d87dc"
      },
      "execution_count": null,
      "outputs": [
        {
          "output_type": "stream",
          "name": "stdout",
          "text": [
            "Enter your age: 34\n",
            "Enter your gender (M/F): m\n",
            "Invalid gender. Please enter M or F.\n"
          ]
        }
      ]
    },
    {
      "cell_type": "code",
      "source": [],
      "metadata": {
        "id": "mM2c1zH3HFU7"
      },
      "execution_count": null,
      "outputs": []
    },
    {
      "cell_type": "markdown",
      "source": [
        "4 Write a Python program to determine the largest of three numbers using if-else.\n"
      ],
      "metadata": {
        "id": "A3mt5n2qHQvy"
      }
    },
    {
      "cell_type": "code",
      "source": [
        "# ask the user to enter three numbers\n",
        "num1 = float(input(\"Enter the first number: \"))\n",
        "num2 = float(input(\"Enter the second number: \"))\n",
        "num3 = float(input(\"Enter the third number: \"))\n",
        "\n",
        "# compare the three numbers using if-else statements\n",
        "if num1 >= num2 and num1 >= num3:\n",
        "    # assign num1 to the largest variable\n",
        "    largest = num1\n",
        "elif num2 >= num1 and num2 >= num3:\n",
        "    # assign num2 to the largest variable\n",
        "    largest = num2\n",
        "else:\n",
        "    # assign num3 to the largest variable\n",
        "    largest = num3\n",
        "\n",
        "# print the largest number\n",
        "print(\"The largest number is\", largest)"
      ],
      "metadata": {
        "colab": {
          "base_uri": "https://localhost:8080/"
        },
        "id": "8omgd-CGHRsm",
        "outputId": "9ba758b2-c1fd-4ce8-fea0-9cd4c971c6e9"
      },
      "execution_count": null,
      "outputs": [
        {
          "output_type": "stream",
          "name": "stdout",
          "text": [
            "Enter the first number: 12\n",
            "Enter the second number: 23\n",
            "Enter the third number: 34\n",
            "The largest number is 34.0\n"
          ]
        }
      ]
    },
    {
      "cell_type": "code",
      "source": [],
      "metadata": {
        "id": "RCI5-bsCHfOH"
      },
      "execution_count": null,
      "outputs": []
    },
    {
      "cell_type": "markdown",
      "source": [
        "5 Write a Python program that calculates the absolute value of a number using if-else.\n"
      ],
      "metadata": {
        "id": "B_i-BK4DHp7J"
      }
    },
    {
      "cell_type": "code",
      "source": [
        "# ask the user to enter a number\n",
        "number = float(input(\"Enter a number: \"))\n",
        "\n",
        "# check if the number is positive or zero\n",
        "if number >= 0:\n",
        "    # print the number as the absolute value\n",
        "    print(\"The absolute value of\", number, \"is\", number)\n",
        "# check if the number is negative\n",
        "else:\n",
        "    # print the negative of the number as the absolute value\n",
        "    print(\"The absolute value of\", number, \"is\", -number)"
      ],
      "metadata": {
        "colab": {
          "base_uri": "https://localhost:8080/"
        },
        "id": "vGglwWZlHrA9",
        "outputId": "57d87a04-ff89-4c84-d142-4a62f4eabea8"
      },
      "execution_count": null,
      "outputs": [
        {
          "output_type": "stream",
          "name": "stdout",
          "text": [
            "Enter a number: 67\n",
            "The absolute value of 67.0 is 67.0\n"
          ]
        }
      ]
    },
    {
      "cell_type": "code",
      "source": [],
      "metadata": {
        "id": "Ijk0szA1H7Gh"
      },
      "execution_count": null,
      "outputs": []
    },
    {
      "cell_type": "markdown",
      "source": [
        "6 Create a Python program that checks if a given character is a vowel or consonant using if-else.\n"
      ],
      "metadata": {
        "id": "p7GSPVeFIHGY"
      }
    },
    {
      "cell_type": "code",
      "source": [
        "# ask the user to enter a character\n",
        "char = input(\"Enter a character: \")\n",
        "\n",
        "# convert the character to lowercase\n",
        "char = char.lower()\n",
        "\n",
        "# check if the character is a vowel\n",
        "if char in \"aeiou\":\n",
        "    # print the result\n",
        "    print(\"The character is a vowel.\")\n",
        "# check if the character is a consonant\n",
        "else:\n",
        "    # print the result\n",
        "    print(\"The character is a consonant.\")"
      ],
      "metadata": {
        "colab": {
          "base_uri": "https://localhost:8080/"
        },
        "id": "7WCwhghzIIng",
        "outputId": "a87cb80c-d7b7-4a82-8ca4-725427505cd2"
      },
      "execution_count": null,
      "outputs": [
        {
          "output_type": "stream",
          "name": "stdout",
          "text": [
            "Enter a character: om yadav in pwskills\n",
            "The character is a consonant.\n"
          ]
        }
      ]
    },
    {
      "cell_type": "markdown",
      "source": [
        "7 Write a Python program to determine if a user is eligible to vote based on their age using if-else.\n"
      ],
      "metadata": {
        "id": "VtLURZ2TIdNq"
      }
    },
    {
      "cell_type": "code",
      "source": [
        "# ask the user to enter their age\n",
        "age = int(input(\"Enter your age: \"))\n",
        "\n",
        "# check if the age is 18 or above\n",
        "if age >= 18:\n",
        "    # print the result\n",
        "    print(\"You are eligible to vote.\")\n",
        "# check if the age is below 18\n",
        "else:\n",
        "    # print the result\n",
        "    print(\"You are not eligible to vote yet.\")"
      ],
      "metadata": {
        "colab": {
          "base_uri": "https://localhost:8080/"
        },
        "id": "Fu3iBA1hIe8o",
        "outputId": "8933faed-23cf-46d5-a8db-8e1212973be3"
      },
      "execution_count": null,
      "outputs": [
        {
          "output_type": "stream",
          "name": "stdout",
          "text": [
            "Enter your age: 23\n",
            "You are eligible to vote.\n"
          ]
        }
      ]
    },
    {
      "cell_type": "markdown",
      "source": [
        "8 Create a Python program that calculates the discount amount based on the purchase amount using if-else.\n"
      ],
      "metadata": {
        "id": "y-luXi7LIq8g"
      }
    },
    {
      "cell_type": "code",
      "source": [
        "# ask the user to enter the purchase amount\n",
        "amount = float(input(\"Enter the purchase amount: \"))\n",
        "\n",
        "# check if the amount is valid\n",
        "if amount < 0:\n",
        "    print(\"Invalid input. The amount must be positive.\")\n",
        "else:\n",
        "    # initialize the discount variable to 0\n",
        "    discount = 0\n",
        "\n",
        "    # check if the amount is more than 1000\n",
        "    if amount > 1000:\n",
        "        # apply a 10% discount\n",
        "        discount = amount * 0.1\n",
        "    # check if the amount is more than 2000\n",
        "    elif amount > 2000:\n",
        "        # apply a 20% discount\n",
        "        discount = amount * 0.2\n",
        "\n",
        "    # print the discount amount\n",
        "    print(\"The discount amount is\", discount)"
      ],
      "metadata": {
        "colab": {
          "base_uri": "https://localhost:8080/"
        },
        "id": "to-xKG6bIoXp",
        "outputId": "6d939d24-d3d0-4bd7-8884-7831b6db4510"
      },
      "execution_count": null,
      "outputs": [
        {
          "output_type": "stream",
          "name": "stdout",
          "text": [
            "Enter the purchase amount: 3456\n",
            "The discount amount is 345.6\n"
          ]
        }
      ]
    },
    {
      "cell_type": "markdown",
      "source": [
        "9. Write a Python program to check if a number is within a specified range using if-else."
      ],
      "metadata": {
        "id": "p9Yfn9mTiAno"
      }
    },
    {
      "cell_type": "code",
      "source": [
        "# Define a function to check if a number is within a range\n",
        "def is_in_range(num, low, high):\n",
        "  # Use if-else statements to compare the number with the range boundaries\n",
        "  if num >= low and num <= high:\n",
        "    # Return True if the number is within the range\n",
        "    return True\n",
        "  else:\n",
        "    # Return False if the number is not within the range\n",
        "    return False\n",
        "\n",
        "# Test the function with some examples\n",
        "print(is_in_range(5, 1, 10)) # True\n",
        "print(is_in_range(15, 1, 10)) # False\n",
        "print(is_in_range(10, 1, 10)) # True"
      ],
      "metadata": {
        "id": "-sQmOrfCL17E",
        "colab": {
          "base_uri": "https://localhost:8080/"
        },
        "outputId": "82fdfd46-8026-4b64-afa7-e85a3ebed1ca"
      },
      "execution_count": null,
      "outputs": [
        {
          "output_type": "stream",
          "name": "stdout",
          "text": [
            "True\n",
            "False\n",
            "True\n"
          ]
        }
      ]
    },
    {
      "cell_type": "markdown",
      "source": [
        "1o Create a Python program that determines the grade of a student based on their score using if-else.\n"
      ],
      "metadata": {
        "id": "RdoYKrqSicjs"
      }
    },
    {
      "cell_type": "code",
      "source": [
        "# Define a function to calculate the grade of a student based on their score\n",
        "def get_grade(score):\n",
        "  # Use if-else statements to assign the grade according to the score\n",
        "  if score >= 90:\n",
        "    grade = 'A'\n",
        "  elif score >= 80:\n",
        "    grade = 'B'\n",
        "  elif score >= 70:\n",
        "    grade = 'C'\n",
        "  elif score >= 60:\n",
        "    grade = 'D'\n",
        "  else:\n",
        "    grade = 'F'\n",
        "  # Return the grade as a string\n",
        "  return grade\n",
        "\n",
        "# Test the function with some examples\n",
        "print(get_grade(95)) # A\n",
        "print(get_grade(85)) # B\n",
        "print(get_grade(75)) # C\n",
        "print(get_grade(65)) # D\n",
        "print(get_grade(55)) # F"
      ],
      "metadata": {
        "colab": {
          "base_uri": "https://localhost:8080/"
        },
        "id": "crMDghM7iOrP",
        "outputId": "71471334-1f69-4c59-a169-5cd80f354452"
      },
      "execution_count": null,
      "outputs": [
        {
          "output_type": "stream",
          "name": "stdout",
          "text": [
            "A\n",
            "B\n",
            "C\n",
            "D\n",
            "F\n"
          ]
        }
      ]
    },
    {
      "cell_type": "markdown",
      "source": [
        "11 Write a Python program to check if a string is empty or not using if-else.\n"
      ],
      "metadata": {
        "id": "u6K45ciyizFB"
      }
    },
    {
      "cell_type": "code",
      "source": [
        "# Define a function to check if a string is empty or not\n",
        "def is_empty(string):\n",
        "  # Use if-else statements to compare the string with an empty string\n",
        "  if string == \"\":\n",
        "    # Return True if the string is empty\n",
        "    return True\n",
        "  else:\n",
        "    # Return False if the string is not empty\n",
        "    return False\n",
        "\n",
        "# Test the function with some examples\n",
        "print(is_empty(\"Hello\")) # False\n",
        "print(is_empty(\"\")) # True\n",
        "print(is_empty(\" \")) # False"
      ],
      "metadata": {
        "colab": {
          "base_uri": "https://localhost:8080/"
        },
        "id": "ldZNiSonimtE",
        "outputId": "f87c8d1b-f1b4-4901-e09a-04611dd5e324"
      },
      "execution_count": null,
      "outputs": [
        {
          "output_type": "stream",
          "name": "stdout",
          "text": [
            "False\n",
            "True\n",
            "False\n"
          ]
        }
      ]
    },
    {
      "cell_type": "markdown",
      "source": [
        "12 Create a Python program that identifies the type of a triangle (e.g., equilateral, isosceles, or scalene) based on input values using if-else.\n"
      ],
      "metadata": {
        "id": "zAVUH6U_jETN"
      }
    },
    {
      "cell_type": "code",
      "source": [
        "# Define a function to identify the type of a triangle based on input values\n",
        "def get_triangle_type(a, b, c):\n",
        "  # Use if-else statements to check the conditions for each type of triangle\n",
        "  if a == b == c:\n",
        "    # Return 'Equilateral' if all sides are equal\n",
        "    return 'Equilateral'\n",
        "  elif a == b or b == c or c == a:\n",
        "    # Return 'Isosceles' if two sides are equal\n",
        "    return 'Isosceles'\n",
        "  else:\n",
        "    # Return 'Scalene' if no sides are equal\n",
        "    return 'Scalene'\n",
        "\n",
        "# Test the function with some examples\n",
        "print(get_triangle_type(3, 3, 3)) # Equilateral\n",
        "print(get_triangle_type(3, 4, 4)) # Isosceles\n",
        "print(get_triangle_type(3, 4, 5)) # Scalene"
      ],
      "metadata": {
        "colab": {
          "base_uri": "https://localhost:8080/"
        },
        "id": "PYakucObi5oH",
        "outputId": "d43b48a1-0c45-4c03-b834-d8259f7cbe61"
      },
      "execution_count": null,
      "outputs": [
        {
          "output_type": "stream",
          "name": "stdout",
          "text": [
            "Equilateral\n",
            "Isosceles\n",
            "Scalene\n"
          ]
        }
      ]
    },
    {
      "cell_type": "markdown",
      "source": [
        "13 Write a Python program to determine the day of the week based on a user-provided number using if-else.\n"
      ],
      "metadata": {
        "id": "OJS0QvR0mtYm"
      }
    },
    {
      "cell_type": "code",
      "source": [
        "# Define a function to determine the day of the week based on a number\n",
        "def get_day_of_week(num):\n",
        "  # Use if-else statements to assign the day of the week according to the number\n",
        "  if num == 1:\n",
        "    day = 'Monday'\n",
        "  elif num == 2:\n",
        "    day = 'Tuesday'\n",
        "  elif num == 3:\n",
        "    day = 'Wednesday'\n",
        "  elif num == 4:\n",
        "    day = 'Thursday'\n",
        "  elif num == 5:\n",
        "    day = 'Friday'\n",
        "  elif num == 6:\n",
        "    day = 'Saturday'\n",
        "  elif num == 7:\n",
        "    day = 'Sunday'\n",
        "  else:\n",
        "    day = 'Invalid'\n",
        "  # Return the day of the week as a string\n",
        "  return day\n",
        "\n",
        "# Test the function with some examples\n",
        "print(get_day_of_week(1)) # Monday\n",
        "print(get_day_of_week(4)) # Thursday\n",
        "print(get_day_of_week(7)) # Sunday\n",
        "print(get_day_of_week(8)) # Invalid"
      ],
      "metadata": {
        "colab": {
          "base_uri": "https://localhost:8080/"
        },
        "id": "xPeC7yVdlYNB",
        "outputId": "c4eea3a8-1b3d-4383-b69d-cd654458c45c"
      },
      "execution_count": null,
      "outputs": [
        {
          "output_type": "stream",
          "name": "stdout",
          "text": [
            "Monday\n",
            "Thursday\n",
            "Sunday\n",
            "Invalid\n"
          ]
        }
      ]
    },
    {
      "cell_type": "markdown",
      "source": [
        "14 Create a Python program that checks if a given year is a leap year using both if-else and a function.\n"
      ],
      "metadata": {
        "id": "dbsuFCSeqBDf"
      }
    },
    {
      "cell_type": "code",
      "source": [
        "# Define a function to check if a given year is a leap year\n",
        "def is_leap_year(year):\n",
        "  # Use if-else statements to apply the leap year rules\n",
        "  # A leap year is divisible by 4, except if it is also divisible by 100, unless it is also divisible by 400\n",
        "  if year % 4 == 0:\n",
        "    if year % 100 == 0:\n",
        "      if year % 400 == 0:\n",
        "        return True\n",
        "      else:\n",
        "        return False\n",
        "    else:\n",
        "      return True\n",
        "  else:\n",
        "    return False\n",
        "\n",
        "# Test the function with some examples\n",
        "print(is_leap_year(2020)) # True\n",
        "print(is_leap_year(2021)) # False\n",
        "print(is_leap_year(2000)) # True\n",
        "print(is_leap_year(1900)) # False"
      ],
      "metadata": {
        "colab": {
          "base_uri": "https://localhost:8080/"
        },
        "id": "EHluKHIEnFyt",
        "outputId": "f320d72a-01ce-4977-afd3-920621de180b"
      },
      "execution_count": null,
      "outputs": [
        {
          "output_type": "stream",
          "name": "stdout",
          "text": [
            "True\n",
            "False\n",
            "True\n",
            "False\n"
          ]
        }
      ]
    },
    {
      "cell_type": "markdown",
      "source": [
        "15 How do you use the \"assert\" statement in Python to add debugging checks within if-else blocks?\n"
      ],
      "metadata": {
        "id": "y8jM2S0lNFYk"
      }
    },
    {
      "cell_type": "code",
      "source": [
        "def factorial(n):\n",
        "    # check if n is a positive integer\n",
        "    assert isinstance(n, int) and n >= 0, \"n must be a positive integer\"\n",
        "    # calculate the factorial using recursion\n",
        "    if n == 0 or n == 1:\n",
        "        return 1\n",
        "    else:\n",
        "        return n * factorial(n-1)"
      ],
      "metadata": {
        "id": "eIPryUcBNI1A"
      },
      "execution_count": 1,
      "outputs": []
    },
    {
      "cell_type": "code",
      "source": [
        "factorial(8)"
      ],
      "metadata": {
        "colab": {
          "base_uri": "https://localhost:8080/"
        },
        "id": "-j-Y8oJ7PCA5",
        "outputId": "17033950-b232-4b62-fd9b-ef7e4d168d75"
      },
      "execution_count": 3,
      "outputs": [
        {
          "output_type": "execute_result",
          "data": {
            "text/plain": [
              "40320"
            ]
          },
          "metadata": {},
          "execution_count": 3
        }
      ]
    },
    {
      "cell_type": "markdown",
      "source": [
        "16 Create a Python program that determines the eligibility of a person for a senior citizen discount based on age using if-else.\n"
      ],
      "metadata": {
        "id": "wj7H70VuPqAH"
      }
    },
    {
      "cell_type": "code",
      "source": [
        "# ask the user to enter their age\n",
        "age = int(input(\"Enter your age: \"))\n",
        "\n",
        "# define the minimum age for senior citizen discount\n",
        "senior_age = 60\n",
        "\n",
        "# use if-else to check the eligibility\n",
        "if age >= senior_age:\n",
        "    # if the age is greater than or equal to the senior age, print eligible\n",
        "    print(\"You are eligible for a senior citizen discount.\")\n",
        "else:\n",
        "    # if the age is less than the senior age, print not eligible\n",
        "    print(\"You are not eligible for a senior citizen discount.\")"
      ],
      "metadata": {
        "colab": {
          "base_uri": "https://localhost:8080/"
        },
        "id": "hW9WstiuPrUW",
        "outputId": "d56c4e9b-ab7b-4e27-e8f4-4d56b458e870"
      },
      "execution_count": 5,
      "outputs": [
        {
          "output_type": "stream",
          "name": "stdout",
          "text": [
            "Enter your age: 62\n",
            "You are eligible for a senior citizen discount.\n"
          ]
        }
      ]
    },
    {
      "cell_type": "markdown",
      "source": [
        "17 Write a Python program to categorize a given character as uppercase, lowercase, or neither using if-else.\n"
      ],
      "metadata": {
        "id": "UQVixD13QezC"
      }
    },
    {
      "cell_type": "code",
      "source": [
        "# ask the user to enter a character\n",
        "char = input(\"Enter a character: \")\n",
        "\n",
        "# use if-else to check the category of the character\n",
        "if char.isupper():\n",
        "    # if the character is uppercase, print uppercase\n",
        "    print(\"The character is uppercase.\")\n",
        "elif char.islower():\n",
        "    # if the character is lowercase, print lowercase\n",
        "    print(\"The character is lowercase.\")\n",
        "else:\n",
        "    # if the character is neither, print neither\n",
        "    print(\"The character is neither uppercase nor lowercase.\")"
      ],
      "metadata": {
        "colab": {
          "base_uri": "https://localhost:8080/"
        },
        "id": "YN8y4M21QgEt",
        "outputId": "59ab3da7-9054-40fa-92fa-fd49486e7ff7"
      },
      "execution_count": 6,
      "outputs": [
        {
          "output_type": "stream",
          "name": "stdout",
          "text": [
            "Enter a character: pwskills\n",
            "The character is lowercase.\n"
          ]
        }
      ]
    },
    {
      "cell_type": "markdown",
      "source": [
        "18 Write a Python program to determine the roots of a quadratic equation using if-else."
      ],
      "metadata": {
        "id": "pFksrA-gQvux"
      }
    },
    {
      "cell_type": "code",
      "source": [
        "# import the math module to use the square root function\n",
        "import math\n",
        "\n",
        "# ask the user to enter the coefficients of the quadratic equation\n",
        "a = float(input(\"Enter the coefficient of x^2: \"))\n",
        "b = float(input(\"Enter the coefficient of x: \"))\n",
        "c = float(input(\"Enter the constant term: \"))\n",
        "\n",
        "# calculate the discriminant\n",
        "d = b**2 - 4*a*c\n",
        "\n",
        "# use if-else to check the nature of the roots\n",
        "if d > 0:\n",
        "    # if the discriminant is positive, there are two distinct real roots\n",
        "    # calculate the roots using the quadratic formula\n",
        "    r1 = (-b + math.sqrt(d)) / (2*a)\n",
        "    r2 = (-b - math.sqrt(d)) / (2*a)\n",
        "    # print the roots\n",
        "    print(\"The roots are\", r1, \"and\", r2)\n",
        "elif d == 0:\n",
        "    # if the discriminant is zero, there is one repeated real root\n",
        "    # calculate the root using the quadratic formula\n",
        "    r = -b / (2*a)\n",
        "    # print the root\n",
        "    print(\"The root is\", r)\n",
        "else:\n",
        "    # if the discriminant is negative, there are two complex roots\n",
        "    # calculate the real and imaginary parts of the roots using the quadratic formula\n",
        "    real = -b / (2*a)\n",
        "    imag = math.sqrt(-d) / (2*a)\n",
        "    # print the roots\n",
        "    print(\"The roots are\", real, \"+\", imag, \"i and\", real, \"-\", imag, \"i\")"
      ],
      "metadata": {
        "colab": {
          "base_uri": "https://localhost:8080/"
        },
        "id": "lLzNxEsLQmgv",
        "outputId": "359e5627-0b63-44c6-9cde-1d9997e3e5c3"
      },
      "execution_count": 7,
      "outputs": [
        {
          "output_type": "stream",
          "name": "stdout",
          "text": [
            "Enter the coefficient of x^2: 3\n",
            "Enter the coefficient of x: 6\n",
            "Enter the constant term: 3\n",
            "The root is -1.0\n"
          ]
        }
      ]
    },
    {
      "cell_type": "markdown",
      "source": [
        "19 Create a Python program that checks if a given year is a century year or not using if-else."
      ],
      "metadata": {
        "id": "xbYo2XWTRUrK"
      }
    },
    {
      "cell_type": "code",
      "source": [
        "# ask the user to enter a year\n",
        "year = int(input(\"Enter a year: \"))\n",
        "\n",
        "# use if-else to check if the year is a century year\n",
        "if year % 100 == 0:\n",
        "    # if the year is divisible by 100, it is a century year\n",
        "    print(\"The year\", year, \"is a century year.\")\n",
        "else:\n",
        "    # if the year is not divisible by 100, it is not a century year\n",
        "    print(\"The year\", year, \"is not a century year.\")"
      ],
      "metadata": {
        "colab": {
          "base_uri": "https://localhost:8080/"
        },
        "id": "ZF-N1j0hQ8jw",
        "outputId": "5ea6eda3-5511-4699-bdce-208ab15d43a9"
      },
      "execution_count": 12,
      "outputs": [
        {
          "output_type": "stream",
          "name": "stdout",
          "text": [
            "Enter a year: 2024\n",
            "The year 2024 is not a century year.\n"
          ]
        }
      ]
    },
    {
      "cell_type": "markdown",
      "source": [
        "20 Write a Python program to determine if a given number is a perfect square using if-else.\n"
      ],
      "metadata": {
        "id": "_3KtwY5lR6L6"
      }
    },
    {
      "cell_type": "code",
      "source": [
        "# import the math module to use the square root function\n",
        "import math\n",
        "\n",
        "# ask the user to enter a number\n",
        "num = int(input(\"Enter a number: \"))\n",
        "\n",
        "# calculate the square root of the number\n",
        "sqrt = math.sqrt(num)\n",
        "\n",
        "# use if-else to check if the square root is an integer\n",
        "if sqrt.is_integer():\n",
        "    # if the square root is an integer, the number is a perfect square\n",
        "    print(\"The number\", num, \"is a perfect square.\")\n",
        "else:\n",
        "    # if the square root is not an integer, the number is not a perfect square\n",
        "    print(\"The number\", num, \"is not a perfect square.\")"
      ],
      "metadata": {
        "colab": {
          "base_uri": "https://localhost:8080/"
        },
        "id": "G1gLffbzReMD",
        "outputId": "a3d526b5-4851-4771-bd35-06937f96f1de"
      },
      "execution_count": 18,
      "outputs": [
        {
          "output_type": "stream",
          "name": "stdout",
          "text": [
            "Enter a number: 16\n",
            "The number 16 is a perfect square.\n"
          ]
        }
      ]
    },
    {
      "cell_type": "markdown",
      "source": [
        "21 Explain the purpose of the \"continue\" and \"break\" statements within if-else loops.\n"
      ],
      "metadata": {
        "id": "tuT2aggHSxGG"
      }
    },
    {
      "cell_type": "code",
      "source": [
        "numbers = [1, 2, 3, 4, 5, 6, 7, 8, 9, 10]\n",
        "for num in numbers:\n",
        "    # check if the number is even\n",
        "    if num % 2 == 0:\n",
        "        # skip the current iteration\n",
        "        continue\n",
        "    # print the odd number\n",
        "    print(num)\n"
      ],
      "metadata": {
        "colab": {
          "base_uri": "https://localhost:8080/"
        },
        "id": "5GcSQWagSG5t",
        "outputId": "de0ca216-08eb-4caf-9b09-e0a56ac275a6"
      },
      "execution_count": 19,
      "outputs": [
        {
          "output_type": "stream",
          "name": "stdout",
          "text": [
            "1\n",
            "3\n",
            "5\n",
            "7\n",
            "9\n"
          ]
        }
      ]
    },
    {
      "cell_type": "code",
      "source": [
        "#Break\n",
        "names = [1,2,3,4,5,6,7,8]\n",
        "target = 4\n",
        "for name in names:\n",
        "    # check if the name matches the target\n",
        "    if name == target:\n",
        "        # print the name and break the loop\n",
        "        print(\"Found\", name)\n",
        "        break\n",
        "    # print the name and continue the loop\n",
        "    print(\"Searching\", name)\n"
      ],
      "metadata": {
        "colab": {
          "base_uri": "https://localhost:8080/"
        },
        "id": "7cCBBiZsTEmF",
        "outputId": "6e7fb927-ad45-48b6-8eff-63073a0114e0"
      },
      "execution_count": 22,
      "outputs": [
        {
          "output_type": "stream",
          "name": "stdout",
          "text": [
            "Searching 1\n",
            "Searching 2\n",
            "Searching 3\n",
            "Found 4\n"
          ]
        }
      ]
    },
    {
      "cell_type": "markdown",
      "source": [
        "22 Create a Python program that calculates the BMI (Body Mass Index) of a person based on their weight and height using if-else."
      ],
      "metadata": {
        "id": "Ar8wux4ATgzk"
      }
    },
    {
      "cell_type": "code",
      "source": [
        "# ask the user to enter their weight in kilograms\n",
        "weight = float(input(\"Enter your weight in kilograms: \"))\n",
        "\n",
        "# ask the user to enter their height in meters\n",
        "height = float(input(\"Enter your height in meters: \"))\n",
        "\n",
        "# calculate the BMI using the formula BMI = weight / height^2\n",
        "bmi = weight / (height ** 2)\n",
        "\n",
        "# use if-else to check the BMI category\n",
        "if bmi < 18.5:\n",
        "    # if the BMI is less than 18.5, the category is underweight\n",
        "    print(\"Your BMI is\", bmi, \"and you are underweight.\")\n",
        "elif bmi >= 18.5 and bmi < 25:\n",
        "    # if the BMI is between 18.5 and 25, the category is normal\n",
        "    print(\"Your BMI is\", bmi, \"and you are normal.\")\n",
        "elif bmi >= 25 and bmi < 30:\n",
        "    # if the BMI is between 25 and 30, the category is overweight\n",
        "    print(\"Your BMI is\", bmi, \"and you are overweight.\")\n",
        "else:\n",
        "    # if the BMI is greater than or equal to 30, the category is obese\n",
        "    print(\"Your BMI is\", bmi, \"and you are obese.\")"
      ],
      "metadata": {
        "colab": {
          "base_uri": "https://localhost:8080/"
        },
        "id": "yjNgvBm_THrB",
        "outputId": "e122a2be-613c-40a9-9a40-034cd75fae39"
      },
      "execution_count": 24,
      "outputs": [
        {
          "output_type": "stream",
          "name": "stdout",
          "text": [
            "Enter your weight in kilograms: 78\n",
            "Enter your height in meters: 1.79\n",
            "Your BMI is 24.343809494085704 and you are normal.\n"
          ]
        }
      ]
    },
    {
      "cell_type": "markdown",
      "source": [
        "23 How can you use the \"filter()\" function with if-else statements to filter elements from a list?\n"
      ],
      "metadata": {
        "id": "tJl-5tK_UO1X"
      }
    },
    {
      "cell_type": "code",
      "source": [
        "# define a custom function that returns True if a number is positive\n",
        "def is_positive(num):\n",
        "    # use if-else to check the sign of the number\n",
        "    if num > 0:\n",
        "        return True\n",
        "    else:\n",
        "        return False\n",
        "\n",
        "# create a list of numbers\n",
        "numbers = [-5, -2, 0, 1, 3, 4, -7]\n",
        "\n",
        "# use the filter() function to filter out the negative numbers\n",
        "filtered = filter(is_positive, numbers)\n",
        "\n",
        "# print the filtered numbers\n",
        "print(list(filtered)) # [1, 3, 4]"
      ],
      "metadata": {
        "colab": {
          "base_uri": "https://localhost:8080/"
        },
        "id": "UbRk1g1STu8m",
        "outputId": "d39a1cc7-8d06-4755-97dd-9d45ba0ead58"
      },
      "execution_count": 25,
      "outputs": [
        {
          "output_type": "stream",
          "name": "stdout",
          "text": [
            "[1, 3, 4]\n"
          ]
        }
      ]
    },
    {
      "cell_type": "markdown",
      "source": [
        "24 Write a Python program to determine if a given number is prime or not using if-else."
      ],
      "metadata": {
        "id": "6VbXtExgVo7z"
      }
    },
    {
      "cell_type": "code",
      "source": [
        "# ask the user to enter a number\n",
        "num = int(input(\"Enter a number: \"))\n",
        "\n",
        "# use if-else to check if the number is prime or not\n",
        "if num > 1:\n",
        "    # if the number is greater than 1, loop from 2 to the square root of the number\n",
        "    for i in range(2, int(num**0.5) + 1):\n",
        "        # check if the number is divisible by any number from 2 to the square root of the number\n",
        "        if num % i == 0:\n",
        "            # if the number is divisible, it is not prime\n",
        "            print(\"The number\", num, \"is not prime.\")\n",
        "            # break the loop\n",
        "            break\n",
        "    else:\n",
        "        # if the loop ends without finding any divisor, it is prime\n",
        "        print(\"The number\", num, \"is prime.\")\n",
        "else:\n",
        "    # if the number is less than or equal to 1, it is not prime\n",
        "    print(\"The number\", num, \"is not prime.\")"
      ],
      "metadata": {
        "colab": {
          "base_uri": "https://localhost:8080/"
        },
        "id": "RfLOIWf8U2dV",
        "outputId": "72bea500-f820-4ec3-bcf7-5d49f36be7ef"
      },
      "execution_count": 28,
      "outputs": [
        {
          "output_type": "stream",
          "name": "stdout",
          "text": [
            "Enter a number: 2\n",
            "The number 2 is prime.\n"
          ]
        }
      ]
    },
    {
      "cell_type": "markdown",
      "source": [
        "MAP"
      ],
      "metadata": {
        "id": "f6rvkS4CWLmE"
      }
    },
    {
      "cell_type": "markdown",
      "source": [
        "Explain the purpose of the `map()` function in Python and provide an example of how it can be used to apply a function to each element of an iterable.\n"
      ],
      "metadata": {
        "id": "UJto6zRpWO7q"
      }
    },
    {
      "cell_type": "code",
      "source": [
        "# create a list of numbers\n",
        "numbers = [1, 2, 3, 4, 5]\n",
        "\n",
        "# use the map() function with a lambda expression to square each number\n",
        "squares = map(lambda x: x**2, numbers)\n",
        "\n",
        "# convert the map object to a list and print it\n",
        "print(list(squares)) # [1, 4, 9, 16, 25]"
      ],
      "metadata": {
        "colab": {
          "base_uri": "https://localhost:8080/"
        },
        "id": "2LPkohpOV8yI",
        "outputId": "31f41d18-57bf-41b8-8111-4299b5777029"
      },
      "execution_count": 29,
      "outputs": [
        {
          "output_type": "stream",
          "name": "stdout",
          "text": [
            "[1, 4, 9, 16, 25]\n"
          ]
        }
      ]
    },
    {
      "cell_type": "markdown",
      "source": [
        "2 Write a Python program that uses the `map()` function to square each element of a list of numbers."
      ],
      "metadata": {
        "id": "QgYa7dozW8-R"
      }
    },
    {
      "cell_type": "code",
      "source": [
        "# create a list of numbers\n",
        "numbers = [1, 2, 3, 4, 5]\n",
        "\n",
        "# use the map() function with a lambda expression to square each number\n",
        "squares = map(lambda x: x**2, numbers)\n",
        "\n",
        "# convert the map object to a list and print it\n",
        "print(list(squares)) # [1, 4, 9, 16, 25]"
      ],
      "metadata": {
        "colab": {
          "base_uri": "https://localhost:8080/"
        },
        "id": "215kLjxoWhGH",
        "outputId": "3d7760a0-dfd2-4237-bf5c-696f0815b15b"
      },
      "execution_count": 30,
      "outputs": [
        {
          "output_type": "stream",
          "name": "stdout",
          "text": [
            "[1, 4, 9, 16, 25]\n"
          ]
        }
      ]
    },
    {
      "cell_type": "markdown",
      "source": [
        "3 How does the `map()` function differ from a list comprehension in Python, and when would you choose one over the other?\n"
      ],
      "metadata": {
        "id": "qxHDL22NXkCC"
      }
    },
    {
      "cell_type": "code",
      "source": [
        "numbers = [1, 2, 3, 4, 5]\n",
        "for i in map(lambda x: x**2, numbers):\n",
        "    print(i)\n"
      ],
      "metadata": {
        "colab": {
          "base_uri": "https://localhost:8080/"
        },
        "id": "A5OdWQ_FXHBf",
        "outputId": "0e92f06e-c7f1-44c9-fd56-2f9a03322801"
      },
      "execution_count": 32,
      "outputs": [
        {
          "output_type": "stream",
          "name": "stdout",
          "text": [
            "1\n",
            "4\n",
            "9\n",
            "16\n",
            "25\n"
          ]
        }
      ]
    },
    {
      "cell_type": "markdown",
      "source": [
        "4 Create a Python program that uses the `map()` function to convert a list of names to uppercase.\n"
      ],
      "metadata": {
        "id": "q1gI5twsYBXE"
      }
    },
    {
      "cell_type": "code",
      "source": [
        "# create a list of names\n",
        "names = [\"shubham\", \"maan\", \"krish sir\", \"shudhanshu\", \"pwskills\"]\n",
        "\n",
        "# use the map() function with a lambda expression to convert each name to uppercase\n",
        "upper = map(lambda x: x.upper(), names)\n",
        "\n",
        "# convert the map object to a list and print it\n",
        "print(list(upper)) # [\"shubham\", \"maan\", \"krish sir\", \"shudhanshu\", \"pwskills\"]"
      ],
      "metadata": {
        "colab": {
          "base_uri": "https://localhost:8080/"
        },
        "id": "birTPt9LX3Zo",
        "outputId": "46e10fe4-cc1c-4482-987b-57bc156d65b3"
      },
      "execution_count": 35,
      "outputs": [
        {
          "output_type": "stream",
          "name": "stdout",
          "text": [
            "['SHUBHAM', 'MAAN', 'KRISH SIR', 'SHUDHANSHU', 'PWSKILLS']\n"
          ]
        }
      ]
    },
    {
      "cell_type": "markdown",
      "source": [
        "5 Write a Python program that uses the `map()` function to calculate the length of each word in a list of strings.\n"
      ],
      "metadata": {
        "id": "lWOhMLhmYi6R"
      }
    },
    {
      "cell_type": "code",
      "source": [
        "# create a list of strings\n",
        "words = [\"hello\", \"pwskills\", \"please\", \"ask\", \"shudhanshu & krish sir\", \"to take our class\"]\n",
        "\n",
        "# use the map() function with a lambda expression to calculate the length of each word\n",
        "lengths = map(lambda x: len(x), words)\n",
        "\n",
        "# convert the map object to a list and print it\n",
        "print(list(lengths)) # [5, 5, 6, 11, 3]"
      ],
      "metadata": {
        "colab": {
          "base_uri": "https://localhost:8080/"
        },
        "id": "Bx14IqrbYN67",
        "outputId": "62b9f4c4-1a16-46ff-f390-8a426e285403"
      },
      "execution_count": 37,
      "outputs": [
        {
          "output_type": "stream",
          "name": "stdout",
          "text": [
            "[5, 8, 6, 3, 22, 17]\n"
          ]
        }
      ]
    },
    {
      "cell_type": "markdown",
      "source": [
        "How can you use the `map()` function to apply a custom function to elements of multiple lists simultaneously in Python?\n"
      ],
      "metadata": {
        "id": "nz74ylihZMf1"
      }
    },
    {
      "cell_type": "code",
      "source": [
        "# define a custom function that adds three numbers\n",
        "def add_three(a, b, c):\n",
        "    return a + b + c\n",
        "\n",
        "# create three lists of numbers\n",
        "list1 = [1, 2, 3, 4]\n",
        "list2 = [5, 6, 7, 8]\n",
        "list3 = [9, 10, 11, 12]\n",
        "\n",
        "# use the map() function to apply the add_three function to the lists\n",
        "result = map(add_three, list1, list2, list3)\n",
        "\n",
        "# convert the result to a list and print it\n",
        "print(list(result)) # [15, 18, 21, 24]"
      ],
      "metadata": {
        "colab": {
          "base_uri": "https://localhost:8080/"
        },
        "id": "ZMNi3IYfYt7R",
        "outputId": "690764cd-fd25-457f-be6b-0ad47a7371c6"
      },
      "execution_count": 38,
      "outputs": [
        {
          "output_type": "stream",
          "name": "stdout",
          "text": [
            "[15, 18, 21, 24]\n"
          ]
        }
      ]
    },
    {
      "cell_type": "markdown",
      "source": [
        "7 Create a Python program that uses `map()` to convert a list of temperatures from Celsius to Fahrenheit.\n"
      ],
      "metadata": {
        "id": "nObqKfGhZfti"
      }
    },
    {
      "cell_type": "code",
      "source": [
        "# create a list of temperatures in Celsius\n",
        "celsius = [0, 10, 20, 30, 40]\n",
        "\n",
        "# define a function that converts Celsius to Fahrenheit using the formula F = C * 9/5 + 32\n",
        "def c_to_f(c):\n",
        "    return c * 9/5 + 32\n",
        "\n",
        "# use the map() function to apply the c_to_f function to the list of Celsius temperatures\n",
        "fahrenheit = map(c_to_f, celsius)\n",
        "\n",
        "# convert the map object to a list and print it\n",
        "print(list(fahrenheit)) # [32.0, 50.0, 68.0, 86.0, 104.0]"
      ],
      "metadata": {
        "colab": {
          "base_uri": "https://localhost:8080/"
        },
        "id": "vVhzlw-YZbkl",
        "outputId": "40b92b9e-1f29-456c-de4a-6f5e4d9a3b36"
      },
      "execution_count": 39,
      "outputs": [
        {
          "output_type": "stream",
          "name": "stdout",
          "text": [
            "[32.0, 50.0, 68.0, 86.0, 104.0]\n"
          ]
        }
      ]
    },
    {
      "cell_type": "markdown",
      "source": [
        "8 Write a Python program that uses the `map()` function to round each element of a list of floating-point numbers to the nearest integer.\n"
      ],
      "metadata": {
        "id": "Gs7xWpLFZ1kM"
      }
    },
    {
      "cell_type": "code",
      "source": [
        "# create a list of floating-point numbers\n",
        "numbers = [1.2, 3.5, 4.7, 6.1, 8.9]\n",
        "\n",
        "# use the map() function with the built-in round() function to round each number to the nearest integer\n",
        "rounded = map(round, numbers)\n",
        "\n",
        "# convert the map object to a list and print it\n",
        "print(list(rounded))"
      ],
      "metadata": {
        "colab": {
          "base_uri": "https://localhost:8080/"
        },
        "id": "DuhPxaJwZuE8",
        "outputId": "f599cce5-48bf-42b0-81b8-8bec0a6904f8"
      },
      "execution_count": 41,
      "outputs": [
        {
          "output_type": "stream",
          "name": "stdout",
          "text": [
            "[1, 4, 5, 6, 9]\n"
          ]
        }
      ]
    },
    {
      "cell_type": "markdown",
      "source": [
        "Reduce :-\n"
      ],
      "metadata": {
        "id": "PIKhPbKNaPP_"
      }
    },
    {
      "cell_type": "markdown",
      "source": [
        "1 Explain the purpose of the `filter()` function in Python and provide an example of how it can be used to filter elements from an iterable."
      ],
      "metadata": {
        "id": "KzBP9uLiaUAw"
      }
    },
    {
      "cell_type": "code",
      "source": [
        "# create a list of names\n",
        "names = [\"Abhijeet\", \"Mama\", \"Charlie\", \"Mohit\", \"Om\", \"Abhishek\", \"Ananya\"]\n",
        "\n",
        "# use the filter() function with a lambda expression to check if the name starts with 'A'\n",
        "filtered = filter(lambda x: x.startswith('A'), names)\n",
        "\n",
        "# convert the filter object to a list and print it\n",
        "print(list(filtered))"
      ],
      "metadata": {
        "colab": {
          "base_uri": "https://localhost:8080/"
        },
        "id": "OF7Jf-b8Z-Zh",
        "outputId": "dc12d5ea-9a4c-47bf-dcb4-42e8899e2f97"
      },
      "execution_count": 43,
      "outputs": [
        {
          "output_type": "stream",
          "name": "stdout",
          "text": [
            "['Abhijeet', 'Abhishek', 'Ananya']\n"
          ]
        }
      ]
    },
    {
      "cell_type": "markdown",
      "source": [
        "2 Write a Python program that uses the `filter()` function to select even numbers from a list of integers.\n"
      ],
      "metadata": {
        "id": "PS3-z86Aekbn"
      }
    },
    {
      "cell_type": "code",
      "source": [
        "# create a list of integers\n",
        "numbers = [1, 2, 3, 4, 5, 6, 7, 8, 9, 10]\n",
        "\n",
        "# use the filter() function with a lambda expression to check if the number is even\n",
        "even = filter(lambda x: x % 2 == 0, numbers)\n",
        "\n",
        "# convert the filter object to a list and print it\n",
        "print(list(even)) # [2, 4, 6, 8, 10]"
      ],
      "metadata": {
        "colab": {
          "base_uri": "https://localhost:8080/"
        },
        "id": "AROqw-dDc2-Q",
        "outputId": "3018a303-4f09-4437-82d9-74ee22503779"
      },
      "execution_count": 44,
      "outputs": [
        {
          "output_type": "stream",
          "name": "stdout",
          "text": [
            "[2, 4, 6, 8, 10]\n"
          ]
        }
      ]
    },
    {
      "cell_type": "markdown",
      "source": [
        "3 Create a Python program that uses the `filter()` function to select names that start with a specific letter from a list of strings.\n"
      ],
      "metadata": {
        "id": "vm_v1DqYe7BC"
      }
    },
    {
      "cell_type": "code",
      "source": [
        "# create a list of strings\n",
        "names = [\"Alice\", \"Bob\", \"Charlie\", \"David\", \"Eve\", \"Anna\", \"Adam\"]\n",
        "\n",
        "# ask the user to enter a letter\n",
        "letter = input(\"Enter a letter: \")\n",
        "\n",
        "# use the filter() function with a lambda expression to check if the name starts with the letter\n",
        "filtered = filter(lambda x: x.startswith(letter), names)\n",
        "\n",
        "# convert the filter object to a list and print it\n",
        "print(list(filtered))"
      ],
      "metadata": {
        "colab": {
          "base_uri": "https://localhost:8080/"
        },
        "id": "OrvvVBhRe1ty",
        "outputId": "394340b4-0a44-4f6d-c564-a38592890c0b"
      },
      "execution_count": 45,
      "outputs": [
        {
          "output_type": "stream",
          "name": "stdout",
          "text": [
            "Enter a letter: D\n",
            "['David']\n"
          ]
        }
      ]
    },
    {
      "cell_type": "markdown",
      "source": [
        "4 Write a Python program that uses the `filter()` function to select prime numbers from a list of integers.\n"
      ],
      "metadata": {
        "id": "h_oYKHwrfc3M"
      }
    },
    {
      "cell_type": "code",
      "source": [
        "# create a list of integers\n",
        "numbers = [1, 2, 3, 4, 5, 6, 7, 8, 9, 10]\n",
        "\n",
        "# define a function that checks if a number is prime or not\n",
        "def is_prime(n):\n",
        "    # if the number is less than or equal to 1, it is not prime\n",
        "    if n <= 1:\n",
        "        return False\n",
        "    # loop from 2 to the square root of the number\n",
        "    for i in range(2, int(n**0.5) + 1):\n",
        "        # if the number is divisible by any number in the range, it is not prime\n",
        "        if n % i == 0:\n",
        "            return False\n",
        "    # if the loop ends without finding any divisor, it is prime\n",
        "    return True\n",
        "\n",
        "# use the filter() function to apply the is_prime function to the list of numbers\n",
        "primes = filter(is_prime, numbers)\n",
        "\n",
        "# convert the filter object to a list and print it\n",
        "print(list(primes)) # [2, 3, 5, 7]"
      ],
      "metadata": {
        "colab": {
          "base_uri": "https://localhost:8080/"
        },
        "id": "ieXYCcKGfEfe",
        "outputId": "98a01887-0ec0-401c-f622-489b779a3831"
      },
      "execution_count": 46,
      "outputs": [
        {
          "output_type": "stream",
          "name": "stdout",
          "text": [
            "[2, 3, 5, 7]\n"
          ]
        }
      ]
    }
  ]
}