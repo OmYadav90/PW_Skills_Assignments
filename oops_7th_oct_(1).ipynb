{
  "cells": [
    {
      "cell_type": "code",
      "execution_count": 1,
      "id": "8b6a7b1a-3ff5-4b22-be3e-d3b2d7aa7e3a",
      "metadata": {
        "id": "8b6a7b1a-3ff5-4b22-be3e-d3b2d7aa7e3a"
      },
      "outputs": [],
      "source": [
        "class a :\n",
        "\n",
        "    def test(self):\n",
        "        print(\"this test method is a part of class a\")\n",
        "\n",
        "    def test1(self):\n",
        "        print(\"this is test1 from class a \")"
      ]
    },
    {
      "cell_type": "code",
      "execution_count": 2,
      "id": "8e4d306f-fdb4-47a0-a93d-597f5b21d30b",
      "metadata": {
        "id": "8e4d306f-fdb4-47a0-a93d-597f5b21d30b"
      },
      "outputs": [],
      "source": [
        "obj_a = a()"
      ]
    },
    {
      "cell_type": "code",
      "execution_count": 3,
      "id": "81ef5597-cf96-4ed9-a4f6-21e2e93aca70",
      "metadata": {
        "colab": {
          "base_uri": "https://localhost:8080/"
        },
        "id": "81ef5597-cf96-4ed9-a4f6-21e2e93aca70",
        "outputId": "65a1e513-0342-4265-ee82-9f31bdbb4d3e"
      },
      "outputs": [
        {
          "output_type": "stream",
          "name": "stdout",
          "text": [
            "this test method is a part of class a\n"
          ]
        }
      ],
      "source": [
        "obj_a.test()"
      ]
    },
    {
      "cell_type": "code",
      "execution_count": 4,
      "id": "11ee63d6-433d-48dc-ada0-5dd6771310ba",
      "metadata": {
        "id": "11ee63d6-433d-48dc-ada0-5dd6771310ba"
      },
      "outputs": [],
      "source": [
        "class b(a) :\n",
        "    def test1b(self):\n",
        "        print(\"this is a part of class b \")"
      ]
    },
    {
      "cell_type": "code",
      "execution_count": 5,
      "id": "badaedfe-57d1-43c6-9193-e5afb0f31dbc",
      "metadata": {
        "id": "badaedfe-57d1-43c6-9193-e5afb0f31dbc"
      },
      "outputs": [],
      "source": [
        "obj_b = b()"
      ]
    },
    {
      "cell_type": "code",
      "execution_count": 6,
      "id": "3ce19f61-ba8e-4050-9d4d-614adfd964c5",
      "metadata": {
        "colab": {
          "base_uri": "https://localhost:8080/"
        },
        "id": "3ce19f61-ba8e-4050-9d4d-614adfd964c5",
        "outputId": "1b88a13f-6f76-45d8-9aab-4bf126ee1396"
      },
      "outputs": [
        {
          "output_type": "stream",
          "name": "stdout",
          "text": [
            "this test method is a part of class a\n"
          ]
        }
      ],
      "source": [
        "obj_b.test()"
      ]
    },
    {
      "cell_type": "code",
      "execution_count": 7,
      "id": "5e473fae-e094-4407-99df-16a04ab4c80a",
      "metadata": {
        "colab": {
          "base_uri": "https://localhost:8080/"
        },
        "id": "5e473fae-e094-4407-99df-16a04ab4c80a",
        "outputId": "b8ac6aaa-ba42-498e-8cec-129955beaab9"
      },
      "outputs": [
        {
          "output_type": "stream",
          "name": "stdout",
          "text": [
            "this is test1 from class a \n"
          ]
        }
      ],
      "source": [
        "obj_b.test1()"
      ]
    },
    {
      "cell_type": "code",
      "execution_count": 9,
      "id": "02a8f055-535f-4bc2-adc1-575445f82570",
      "metadata": {
        "colab": {
          "base_uri": "https://localhost:8080/"
        },
        "id": "02a8f055-535f-4bc2-adc1-575445f82570",
        "outputId": "48894336-749b-4ebd-d00d-7a3f954c9bba"
      },
      "outputs": [
        {
          "output_type": "execute_result",
          "data": {
            "text/plain": [
              "<__main__.b at 0x7b7e92e74bb0>"
            ]
          },
          "metadata": {},
          "execution_count": 9
        }
      ],
      "source": [
        "obj_b"
      ]
    },
    {
      "cell_type": "code",
      "execution_count": 10,
      "id": "59361cd3-c0c4-4ddd-abac-cbe3275ade5f",
      "metadata": {
        "id": "59361cd3-c0c4-4ddd-abac-cbe3275ade5f"
      },
      "outputs": [],
      "source": [
        "class lecture:\n",
        "\n",
        "    def topic(self):\n",
        "        print(\"todays class we are discussing about inheritance condept in oops\")\n",
        "\n",
        "    def timing(self):\n",
        "        print(\"timing for todays class is 9 AM IST\")\n",
        "\n",
        "    def end_time(self):\n",
        "        print(\"today i will try to end class bit early\")"
      ]
    },
    {
      "cell_type": "code",
      "execution_count": 11,
      "id": "6e3dd2de-883e-4e9e-98a0-4a7089af1627",
      "metadata": {
        "id": "6e3dd2de-883e-4e9e-98a0-4a7089af1627"
      },
      "outputs": [],
      "source": [
        "class student(lecture):\n",
        "\n",
        "    def student_details(self):\n",
        "        print(\"this class will give you a student details\")"
      ]
    },
    {
      "cell_type": "code",
      "execution_count": 12,
      "id": "c2ad2a89-0f29-4410-86c4-e33f47b4186d",
      "metadata": {
        "id": "c2ad2a89-0f29-4410-86c4-e33f47b4186d"
      },
      "outputs": [],
      "source": [
        "naval = student()"
      ]
    },
    {
      "cell_type": "code",
      "execution_count": 13,
      "id": "38c86e7f-5560-464a-b597-c88a74819f1a",
      "metadata": {
        "colab": {
          "base_uri": "https://localhost:8080/"
        },
        "id": "38c86e7f-5560-464a-b597-c88a74819f1a",
        "outputId": "c447d912-2a52-4b86-d322-d48aa0a183e4"
      },
      "outputs": [
        {
          "output_type": "stream",
          "name": "stdout",
          "text": [
            "todays class we are discussing about inheritance condept in oops\n"
          ]
        }
      ],
      "source": [
        "naval.topic()"
      ]
    },
    {
      "cell_type": "code",
      "execution_count": 14,
      "id": "02efc8a4-f995-4f85-87d2-620ccc0f61fa",
      "metadata": {
        "colab": {
          "base_uri": "https://localhost:8080/"
        },
        "id": "02efc8a4-f995-4f85-87d2-620ccc0f61fa",
        "outputId": "7cb5cb64-4f1f-469c-8c86-2924ff1c7aee"
      },
      "outputs": [
        {
          "output_type": "stream",
          "name": "stdout",
          "text": [
            "timing for todays class is 9 AM IST\n"
          ]
        }
      ],
      "source": [
        "satish = student()\n",
        "satish.timing()"
      ]
    },
    {
      "cell_type": "code",
      "execution_count": 15,
      "id": "03932972-a58b-46e5-a3f8-ffc43c84ce53",
      "metadata": {
        "id": "03932972-a58b-46e5-a3f8-ffc43c84ce53"
      },
      "outputs": [],
      "source": [
        "class teacher(student):\n",
        "    def details(self):\n",
        "        print(\"this will give you a details about teacher\")"
      ]
    },
    {
      "cell_type": "code",
      "execution_count": 16,
      "id": "fff36c1b-f1e9-467e-b29f-c304aa9feec9",
      "metadata": {
        "colab": {
          "base_uri": "https://localhost:8080/"
        },
        "id": "fff36c1b-f1e9-467e-b29f-c304aa9feec9",
        "outputId": "d34d5efa-fe91-4b2a-ebb4-ea1948bf57f8"
      },
      "outputs": [
        {
          "output_type": "stream",
          "name": "stdout",
          "text": [
            "timing for todays class is 9 AM IST\n"
          ]
        }
      ],
      "source": [
        "sudh = teacher()\n",
        "sudh.timing()"
      ]
    },
    {
      "cell_type": "code",
      "execution_count": 17,
      "id": "a5e8c94b-de62-4ef5-8eba-81259d83dd3d",
      "metadata": {
        "id": "a5e8c94b-de62-4ef5-8eba-81259d83dd3d"
      },
      "outputs": [],
      "source": [
        "class lecture:\n",
        "    def topic(self):\n",
        "        print(\"todays class we are discussing about inheritance condept in oops\")\n",
        "\n",
        "    def timing(self):\n",
        "        print(\"timing for todays class is 9 AM IST\")\n",
        "\n",
        "    def end_time(self):\n",
        "        print(\"today i will try to end class bit early\")"
      ]
    },
    {
      "cell_type": "code",
      "execution_count": 18,
      "id": "2007141c-1b71-4cd4-9bed-a3cd8d851baa",
      "metadata": {
        "id": "2007141c-1b71-4cd4-9bed-a3cd8d851baa"
      },
      "outputs": [],
      "source": [
        "class student:\n",
        "\n",
        "    def student_details(self):\n",
        "        print(\"this class will give you a student details\")\n",
        "\n",
        "    def timing(self):\n",
        "        print(\"this is a timing fun from student class\")\n",
        ""
      ]
    },
    {
      "cell_type": "code",
      "execution_count": 19,
      "id": "272860d3-1fac-475b-8c09-0490069224bc",
      "metadata": {
        "id": "272860d3-1fac-475b-8c09-0490069224bc"
      },
      "outputs": [],
      "source": [
        "class teacher(lecture,student):\n",
        "    def details(self):\n",
        "        print(\"this will give you a details about teacher\")"
      ]
    },
    {
      "cell_type": "code",
      "execution_count": 20,
      "id": "f4a9ae16-f0e3-4a4a-a003-38773611cd2a",
      "metadata": {
        "id": "f4a9ae16-f0e3-4a4a-a003-38773611cd2a"
      },
      "outputs": [],
      "source": [
        "krish = teacher()"
      ]
    },
    {
      "cell_type": "code",
      "execution_count": 21,
      "id": "6dc85f37-219e-4c72-927c-9aebb550fea9",
      "metadata": {
        "colab": {
          "base_uri": "https://localhost:8080/"
        },
        "id": "6dc85f37-219e-4c72-927c-9aebb550fea9",
        "outputId": "6d34b89a-38f4-4c62-e163-9633bdbdc27b"
      },
      "outputs": [
        {
          "output_type": "stream",
          "name": "stdout",
          "text": [
            "timing for todays class is 9 AM IST\n"
          ]
        }
      ],
      "source": [
        "krish.timing()"
      ]
    },
    {
      "cell_type": "code",
      "execution_count": 22,
      "id": "8bcbac88-9172-4a31-a191-9c4b9a1c6eac",
      "metadata": {
        "colab": {
          "base_uri": "https://localhost:8080/"
        },
        "id": "8bcbac88-9172-4a31-a191-9c4b9a1c6eac",
        "outputId": "f5a1ba6c-05ab-46f2-92f8-c9c29a8b591c"
      },
      "outputs": [
        {
          "output_type": "stream",
          "name": "stdout",
          "text": [
            "this class will give you a student details\n"
          ]
        }
      ],
      "source": [
        "krish.student_details()"
      ]
    },
    {
      "cell_type": "markdown",
      "id": "86b47d4f-860e-4702-83a0-0145887ab41a",
      "metadata": {
        "id": "86b47d4f-860e-4702-83a0-0145887ab41a"
      },
      "source": [
        "Problem 1: Bank Account Create a class representing a bank account with attributes like account number, account holder name, and balance. Implement methods to deposit and withdraw money from the account.\n",
        "\n",
        "Problem 2: Employee Management Create a class representing an employee with attributes like employee ID, name, and salary. Implement methods to calculate the yearly bonus and display employee details.\n",
        "\n",
        "Problem 3: Vehicle Rental Create a class representing a vehicle rental system. Implement methods to rent a vehicle, return a vehicle, and display available vehicles.\n",
        "\n",
        "Problem 4: Library Catalog Create classes representing a library and a book. Implement methods to add books to the library, borrow books, and display available books.\n",
        "\n",
        "Problem 5: Product Inventory Create classes representing a product and an inventory system. Implement methods to add products to the inventory, update product quantity, and display available products.\n",
        "\n",
        "Problem 6: Shape Calculation Create a class representing a shape with attributes like length, width, and height. Implement methods to calculate the area and perimeter of the shape.\n",
        "\n",
        "Problem 7: Student Management Create a class representing a student with attributes like student ID, name, and grades. Implement methods to calculate the average grade and display student details.\n",
        "\n",
        "Problem 8: Email Management Create a class representing an email with attributes like sender, recipient, and subject. Implement methods to send an email and display email details.\n",
        "\n",
        "Problem 9: Social Media Profile Create a class representing a social media profile with attributes like username and posts. Implement methods to add posts, display posts, and search for posts by keyword.\n",
        "\n",
        "Problem 10: ToDo List Create a class representing a ToDo list with attributes like tasks and due dates. Implement methods to add tasks, mark tasks as completed, and display pending tasks."
      ]
    },
    {
      "cell_type": "code",
      "execution_count": null,
      "id": "fef1683a-faa4-4d27-a0a6-7a742e512e9b",
      "metadata": {
        "id": "fef1683a-faa4-4d27-a0a6-7a742e512e9b"
      },
      "outputs": [],
      "source": []
    },
    {
      "cell_type": "code",
      "source": [],
      "metadata": {
        "id": "i-i5x8nCNqX_"
      },
      "id": "i-i5x8nCNqX_",
      "execution_count": null,
      "outputs": []
    },
    {
      "cell_type": "code",
      "source": [],
      "metadata": {
        "id": "703BGXI6Nqj7"
      },
      "id": "703BGXI6Nqj7",
      "execution_count": null,
      "outputs": []
    },
    {
      "cell_type": "code",
      "source": [
        "# Sol 1\n",
        "# Define a class named BankAccount\n",
        "class BankAccount:\n",
        "    # Define the constructor method that takes the account number, account holder name, and balance as parameters\n",
        "    def __init__(self, account_number, account_holder_name, balance):\n",
        "        # Assign the parameters to the instance attributes\n",
        "        self.account_number = account_number\n",
        "        self.account_holder_name = account_holder_name\n",
        "        self.balance = balance\n",
        "\n",
        "    # Define a method named deposit that takes the amount to be deposited as a parameter\n",
        "    def deposit(self, amount):\n",
        "        # Check if the amount is positive\n",
        "        if amount > 0:\n",
        "            # Add the amount to the balance\n",
        "            self.balance += amount\n",
        "            # Print a success message\n",
        "            print(f\"Successfully deposited {amount} to the account {self.account_number}. The new balance is {self.balance}.\")\n",
        "        # Otherwise, print an error message\n",
        "        else:\n",
        "            print(\"Invalid amount. Please enter a positive value.\")\n",
        "\n",
        "    # Define a method named withdraw that takes the amount to be withdrawn as a parameter\n",
        "    def withdraw(self, amount):\n",
        "        # Check if the amount is positive\n",
        "        if amount > 0:\n",
        "            # Check if the amount is less than or equal to the balance\n",
        "            if amount <= self.balance:\n",
        "                # Subtract the amount from the balance\n",
        "                self.balance -= amount\n",
        "                # Print a success message\n",
        "                print(f\"Successfully withdrew {amount} from the account {self.account_number}. The new balance is {self.balance}.\")\n",
        "            # Otherwise, print an error message\n",
        "            else:\n",
        "                print(\"Insufficient funds. Please enter a smaller amount.\")\n",
        "        # Otherwise, print an error message\n",
        "        else:\n",
        "            print(\"Invalid amount. Please enter a positive value.\")\n",
        "\n",
        "# Test the class with some examples\n",
        "# Create an instance of the BankAccount class with account number 123456, account holder name Alice, and balance 1000\n",
        "account1 = BankAccount(123456, \"Alice\", 1000)\n",
        "# Deposit 500 to the account\n",
        "account1.deposit(500) # Output: Successfully deposited 500 to the account 123456. The new balance is 1500.\n",
        "# Withdraw 200 from the account\n",
        "account1.withdraw(200) # Output: Successfully withdrew 200 from the account 123456. The new balance is 1300.\n",
        "# Withdraw 1500 from the account\n",
        "account1.withdraw(1500) # Output: Insufficient funds. Please enter a smaller amount.\n",
        "# Deposit -100 to the account\n",
        "account1.deposit(-100) # Output: Invalid amount. Please enter a positive value.\n",
        "# Withdraw -100 from the account\n",
        "account1.withdraw(-100) # Output: Invalid amount. Please enter a positive value.\n"
      ],
      "metadata": {
        "colab": {
          "base_uri": "https://localhost:8080/"
        },
        "id": "D_W9o-05Nqod",
        "outputId": "e6168d43-d8f9-4bf5-9469-48b53b29fa0f"
      },
      "id": "D_W9o-05Nqod",
      "execution_count": 23,
      "outputs": [
        {
          "output_type": "stream",
          "name": "stdout",
          "text": [
            "Successfully deposited 500 to the account 123456. The new balance is 1500.\n",
            "Successfully withdrew 200 from the account 123456. The new balance is 1300.\n",
            "Insufficient funds. Please enter a smaller amount.\n",
            "Invalid amount. Please enter a positive value.\n",
            "Invalid amount. Please enter a positive value.\n"
          ]
        }
      ]
    },
    {
      "cell_type": "markdown",
      "source": [
        "2 Employee Management Create a class representing an employee with attributes like employee ID, name, and salary. Implement methods to calculate the yearly bonus and display employee details."
      ],
      "metadata": {
        "id": "DyjRHsbDOHCI"
      },
      "id": "DyjRHsbDOHCI"
    },
    {
      "cell_type": "code",
      "source": [
        "# Define a class named Employee\n",
        "class Employee:\n",
        "    # Define the constructor method that takes the employee ID, name, and salary as parameters\n",
        "    def __init__(self, employee_id, name, salary):\n",
        "        # Assign the parameters to the instance attributes\n",
        "        self.employee_id = employee_id\n",
        "        self.name = name\n",
        "        self.salary = salary\n",
        "\n",
        "    # Define a method named calculate_bonus that takes the bonus percentage as a parameter\n",
        "    def calculate_bonus(self, bonus_percentage):\n",
        "        # Calculate the bonus amount by multiplying the salary and the bonus percentage\n",
        "        bonus_amount = self.salary * bonus_percentage / 100\n",
        "        # Return the bonus amount\n",
        "        return bonus_amount\n",
        "\n",
        "    # Define a method named display_details that takes no parameters\n",
        "    def display_details(self):\n",
        "        # Print the employee ID, name, and salary\n",
        "        print(f\"Employee ID: {self.employee_id}\")\n",
        "        print(f\"Name: {self.name}\")\n",
        "        print(f\"Salary: {self.salary}\")\n",
        "\n",
        "# Test the class with some examples\n",
        "# Create an instance of the Employee class with employee ID 101, name Alice, and salary 50000\n",
        "employee1 = Employee(101, \"Alice\", 50000)\n",
        "# Calculate the bonus for employee1 with a bonus percentage of 10\n",
        "bonus1 = employee1.calculate_bonus(10)\n",
        "# Print the bonus amount\n",
        "print(f\"Bonus: {bonus1}\") # Output: Bonus: 5000.0\n",
        "# Display the details of employee1\n",
        "employee1.display_details() # Output: Employee ID: 101\n",
        "                            #         Name: Alice\n",
        "                            #         Salary: 50000\n"
      ],
      "metadata": {
        "colab": {
          "base_uri": "https://localhost:8080/"
        },
        "id": "U04q6XkHOIPy",
        "outputId": "858e7fa8-8c07-44dc-9a71-693865975543"
      },
      "id": "U04q6XkHOIPy",
      "execution_count": 24,
      "outputs": [
        {
          "output_type": "stream",
          "name": "stdout",
          "text": [
            "Bonus: 5000.0\n",
            "Employee ID: 101\n",
            "Name: Alice\n",
            "Salary: 50000\n"
          ]
        }
      ]
    },
    {
      "cell_type": "markdown",
      "source": [
        "Problem 3: Vehicle Rental Create a class representing a vehicle rental system. Implement methods to rent a vehicle, return a vehicle, and display available vehicles."
      ],
      "metadata": {
        "id": "N-hIrbNJOj31"
      },
      "id": "N-hIrbNJOj31"
    },
    {
      "cell_type": "code",
      "source": [
        "# Define a class named VehicleRental\n",
        "class VehicleRental:\n",
        "    # Define the constructor method that takes a list of available vehicles as a parameter\n",
        "    def __init__(self, vehicles):\n",
        "        # Assign the parameter to the instance attribute\n",
        "        self.vehicles = vehicles\n",
        "\n",
        "    # Define a method named rent_vehicle that takes the vehicle type and the rental period as parameters\n",
        "    def rent_vehicle(self, vehicle_type, rental_period):\n",
        "        # Initialize an empty list to store the available vehicles of the requested type\n",
        "        available_vehicles = []\n",
        "        # Loop through each vehicle in the vehicles list\n",
        "        for vehicle in self.vehicles:\n",
        "            # Check if the vehicle type matches the requested type and the vehicle is not rented\n",
        "            if vehicle[\"type\"] == vehicle_type and not vehicle[\"rented\"]:\n",
        "                # Append the vehicle to the available_vehicles list\n",
        "                available_vehicles.append(vehicle)\n",
        "        # Check if the available_vehicles list is not empty\n",
        "        if available_vehicles:\n",
        "            # Choose the first vehicle in the available_vehicles list\n",
        "            chosen_vehicle = available_vehicles[0]\n",
        "            # Mark the vehicle as rented\n",
        "            chosen_vehicle[\"rented\"] = True\n",
        "            # Calculate the rental cost by multiplying the rental rate and the rental period\n",
        "            rental_cost = chosen_vehicle[\"rental_rate\"] * rental_period\n",
        "            # Print a success message with the vehicle details and the rental cost\n",
        "            print(f\"Successfully rented a {vehicle_type} with plate number {chosen_vehicle['plate_number']} for {rental_period} days. The rental cost is {rental_cost}.\")\n",
        "        # Otherwise, print an error message\n",
        "        else:\n",
        "            print(f\"Sorry, there are no {vehicle_type}s available for rent.\")\n",
        "\n",
        "    # Define a method named return_vehicle that takes the plate number as a parameter\n",
        "    def return_vehicle(self, plate_number):\n",
        "        # Initialize a variable to store the vehicle to be returned\n",
        "        returned_vehicle = None\n",
        "        # Loop through each vehicle in the vehicles list\n",
        "        for vehicle in self.vehicles:\n",
        "            # Check if the vehicle plate number matches the requested plate number\n",
        "            if vehicle[\"plate_number\"] == plate_number:\n",
        "                # Assign the vehicle to the returned_vehicle variable\n",
        "                returned_vehicle = vehicle\n",
        "                # Break the loop\n",
        "                break\n",
        "        # Check if the returned_vehicle variable is not None\n",
        "        if returned_vehicle:\n",
        "            # Mark the vehicle as not rented\n",
        "            returned_vehicle[\"rented\"] = False\n",
        "            # Print a success message with the vehicle details\n",
        "            print(f\"Successfully returned a {returned_vehicle['type']} with plate number {returned_vehicle['plate_number']}.\")\n",
        "        # Otherwise, print an error message\n",
        "        else:\n",
        "            print(f\"Sorry, there is no vehicle with plate number {plate_number} in our system.\")\n",
        "\n",
        "    # Define a method named display_vehicles that takes no parameters\n",
        "    def display_vehicles(self):\n",
        "        # Print a message with the number of vehicles in the system\n",
        "        print(f\"We have {len(self.vehicles)} vehicles in our system:\")\n",
        "        # Loop through each vehicle in the vehicles list\n",
        "        for vehicle in self.vehicles:\n",
        "            # Print the vehicle details\n",
        "            print(f\"Type: {vehicle['type']}, Plate Number: {vehicle['plate_number']}, Rental Rate: {vehicle['rental_rate']}, Rented: {vehicle['rented']}\")\n",
        "\n",
        "# Test the class with some examples\n",
        "# Create a list of vehicles with their type, plate number, rental rate, and rented status\n",
        "vehicles = [\n",
        "    {\"type\": \"car\", \"plate_number\": \"ABC-123\", \"rental_rate\": 50, \"rented\": False},\n",
        "    {\"type\": \"car\", \"plate_number\": \"DEF-456\", \"rental_rate\": 60, \"rented\": False},\n",
        "    {\"type\": \"bike\", \"plate_number\": \"GHI-789\", \"rental_rate\": 20, \"rented\": False},\n",
        "    {\"type\": \"bike\", \"plate_number\": \"JKL-012\", \"rental_rate\": 25, \"rented\": False},\n",
        "    {\"type\": \"truck\", \"plate_number\": \"MNO-345\", \"rental_rate\": 80, \"rented\": False},\n",
        "    {\"type\": \"truck\", \"plate_number\": \"PQR-678\", \"rental_rate\": 90, \"rented\": False}\n",
        "]\n",
        "\n",
        "# Create an instance of the VehicleRental class with the vehicles list\n",
        "rental_system = VehicleRental(vehicles)\n",
        "# Display the available vehicles\n",
        "rental_system.display_vehicles() # Output: We have 6 vehicles in our system:\n",
        "                                 #         Type: car, Plate Number: ABC-123, Rental Rate: 50, Rented: False\n",
        "                                 #         Type: car, Plate Number: DEF-456, Rental Rate: 60, Rented: False\n",
        "                                 #         Type: bike, Plate Number: GHI-789, Rental Rate: 20, Rented: False\n",
        "                                 #         Type: bike, Plate Number: JKL-012, Rental Rate: 25, Rented: False\n",
        "                                 #         Type: truck, Plate Number: MNO-345, Rental Rate: 80, Rented: False\n",
        "                                 #         Type: truck, Plate Number: PQR-678, Rental Rate: 90, Rented: False\n",
        "# Rent a car for 3 days\n",
        "rental_system.rent_vehicle(\"car\", 3) # Output: Successfully rented a car with plate number ABC-123 for 3 days. The rental cost is 150.\n",
        "# Rent a bike for 2 days\n",
        "rental_system.rent_vehicle(\"bike\", 2) # Output: Successfully rented a bike with plate number GHI-789 for 2 days. The rental cost is 40.\n",
        "# Rent a truck for 4 days\n",
        "rental_system.rent_vehicle(\"truck\", 4) # Output: Successfully rented a truck with plate number MNO-345 for 4 days. The rental cost is 320.\n",
        "# Rent a car for 5 days\n",
        "rental_system.rent_vehicle(\"car\", 5) # Output: Successfully rented a car with plate number DEF-456 for 5 days. The rental cost is 300.\n",
        "# Rent a bike for 1 day\n",
        "rental_system.rent_vehicle(\"bike\", 1) # Output: Successfully rented a bike with plate number JKL-012 for 1 day. The rental cost is 25.\n",
        "# Rent a truck for 6 days\n",
        "rental_system.rent_vehicle(\"truck\", 6) # Output: Successfully rented a truck with plate number PQR-678 for 6 days. The rental cost is 540.\n",
        "# Rent a car for 7 days\n",
        "rental_system.rent_vehicle(\"car\", 7) # Output: Sorry, there are no cars available for rent.\n",
        "# Return the car with plate number ABC-123\n",
        "rental_system.return_vehicle(\"ABC-123\") # Output: Successfully returned a car with plate number ABC-123.\n",
        "# Return the bike with plate number GHI-789\n",
        "rental_system.return_vehicle(\"GHI-789\") # Output: Successfully returned a bike with plate number GHI-789.\n",
        "# Return the truck with plate number MNO-345\n",
        "rental_system.return_vehicle(\"MNO-345\") # Output: Successfully returned a truck with plate number MNO-345.\n",
        "# Return the car with plate number DEF-456\n",
        "rental_system.return_vehicle(\"DEF-456\") # Output: Successfully returned a car with plate number DEF-456.\n",
        "# Return the bike with plate number JKL-012\n",
        "rental_system.return_vehicle(\"JKL-012\") # Output: Successfully returned a bike with plate number JKL-012.\n",
        "# Return the truck with plate number PQR-678\n",
        "rental_system.return_vehicle(\"PQR-678\") # Output: Successfully returned a truck with plate number PQR-678.\n",
        "# Return the car with plate number XYZ-999\n",
        "rental_system.return_vehicle(\"XYZ-999\") # Output: Sorry, there is no vehicle with plate number XYZ-999 in our system.\n"
      ],
      "metadata": {
        "colab": {
          "base_uri": "https://localhost:8080/"
        },
        "id": "AaLQeKbnOTaC",
        "outputId": "bea6655f-489a-4d39-e1c5-70d4e4815f7c"
      },
      "id": "AaLQeKbnOTaC",
      "execution_count": 25,
      "outputs": [
        {
          "output_type": "stream",
          "name": "stdout",
          "text": [
            "We have 6 vehicles in our system:\n",
            "Type: car, Plate Number: ABC-123, Rental Rate: 50, Rented: False\n",
            "Type: car, Plate Number: DEF-456, Rental Rate: 60, Rented: False\n",
            "Type: bike, Plate Number: GHI-789, Rental Rate: 20, Rented: False\n",
            "Type: bike, Plate Number: JKL-012, Rental Rate: 25, Rented: False\n",
            "Type: truck, Plate Number: MNO-345, Rental Rate: 80, Rented: False\n",
            "Type: truck, Plate Number: PQR-678, Rental Rate: 90, Rented: False\n",
            "Successfully rented a car with plate number ABC-123 for 3 days. The rental cost is 150.\n",
            "Successfully rented a bike with plate number GHI-789 for 2 days. The rental cost is 40.\n",
            "Successfully rented a truck with plate number MNO-345 for 4 days. The rental cost is 320.\n",
            "Successfully rented a car with plate number DEF-456 for 5 days. The rental cost is 300.\n",
            "Successfully rented a bike with plate number JKL-012 for 1 days. The rental cost is 25.\n",
            "Successfully rented a truck with plate number PQR-678 for 6 days. The rental cost is 540.\n",
            "Sorry, there are no cars available for rent.\n",
            "Successfully returned a car with plate number ABC-123.\n",
            "Successfully returned a bike with plate number GHI-789.\n",
            "Successfully returned a truck with plate number MNO-345.\n",
            "Successfully returned a car with plate number DEF-456.\n",
            "Successfully returned a bike with plate number JKL-012.\n",
            "Successfully returned a truck with plate number PQR-678.\n",
            "Sorry, there is no vehicle with plate number XYZ-999 in our system.\n"
          ]
        }
      ]
    },
    {
      "cell_type": "markdown",
      "source": [
        "Problem 4: Library Catalog Create classes representing a library and a book. Implement methods to add books to the library, borrow books, and display available books.\n"
      ],
      "metadata": {
        "id": "Z-lKzru2RYYU"
      },
      "id": "Z-lKzru2RYYU"
    },
    {
      "cell_type": "code",
      "source": [
        "# Define a class for books\n",
        "class Book:\n",
        "    # Initialize the book with title, author, and availability\n",
        "    def __init__(self, title, author):\n",
        "        self.title = title\n",
        "        self.author = author\n",
        "        self.available = True\n",
        "\n",
        "    # Return a string representation of the book\n",
        "    def __str__(self):\n",
        "        return f\"{self.title} by {self.author}\"\n",
        "\n",
        "# Define a class for library\n",
        "class Library:\n",
        "    # Initialize the library with a list of books\n",
        "    def __init__(self, books):\n",
        "        self.books = books\n",
        "\n",
        "    # Add a book to the library\n",
        "    def add_book(self, book):\n",
        "        self.books.append(book)\n",
        "\n",
        "    # Borrow a book from the library\n",
        "    def borrow_book(self, book):\n",
        "        # Check if the book is in the library\n",
        "        if book in self.books:\n",
        "            # Check if the book is available\n",
        "            if book.available:\n",
        "                # Mark the book as unavailable\n",
        "                book.available = False\n",
        "                # Return a success message\n",
        "                return f\"You have borrowed {book}.\"\n",
        "            else:\n",
        "                # Return a failure message\n",
        "                return f\"Sorry, {book} is already borrowed.\"\n",
        "        else:\n",
        "            # Return a failure message\n",
        "            return f\"Sorry, {book} is not in the library.\"\n",
        "\n",
        "    # Display the available books in the library\n",
        "    def display_books(self):\n",
        "        # Create an empty list to store the available books\n",
        "        available_books = []\n",
        "        # Loop through the books in the library\n",
        "        for book in self.books:\n",
        "            # Check if the book is available\n",
        "            if book.available:\n",
        "                # Add the book to the list\n",
        "                available_books.append(book)\n",
        "        # Check if the list is not empty\n",
        "        if available_books:\n",
        "            # Print a message with the number of available books\n",
        "            print(f\"There are {len(available_books)} books available in the library:\")\n",
        "            # Loop through the available books and print them\n",
        "            for book in available_books:\n",
        "                print(book)\n",
        "        else:\n",
        "            # Print a message that there are no books available\n",
        "            print(\"There are no books available in the library.\")\n",
        "\n",
        "# Create some books\n",
        "book1 = Book(\"The Catcher in the Rye\", \"J.D. Salinger\")\n",
        "book2 = Book(\"To Kill a Mockingbird\", \"Harper Lee\")\n",
        "book3 = Book(\"The Hitchhiker's Guide to the Galaxy\", \"Douglas Adams\")\n",
        "\n",
        "# Create a library with the books\n",
        "library = Library([book1, book2, book3])\n",
        "\n",
        "# Display the available books in the library\n",
        "library.display_books()\n",
        "\n",
        "# Borrow a book from the library\n",
        "print(library.borrow_book(book1))\n",
        "\n",
        "# Display the available books in the library\n",
        "library.display_books()\n",
        "\n",
        "# Borrow a book from the library\n",
        "print(library.borrow_book(book2))\n",
        "\n",
        "# Display the available books in the library\n",
        "library.display_books()\n",
        "\n",
        "# Borrow a book from the library\n",
        "print(library.borrow_book(book3))\n",
        "\n",
        "# Display the available books in the library\n",
        "library.display_books()\n",
        "\n",
        "# Borrow a book from the library\n",
        "print(library.borrow_book(book1))\n"
      ],
      "metadata": {
        "colab": {
          "base_uri": "https://localhost:8080/"
        },
        "id": "XfzQW4qKRR7b",
        "outputId": "bb1e4375-3675-4664-b322-93b08ea619bc"
      },
      "id": "XfzQW4qKRR7b",
      "execution_count": 26,
      "outputs": [
        {
          "output_type": "stream",
          "name": "stdout",
          "text": [
            "There are 3 books available in the library:\n",
            "The Catcher in the Rye by J.D. Salinger\n",
            "To Kill a Mockingbird by Harper Lee\n",
            "The Hitchhiker's Guide to the Galaxy by Douglas Adams\n",
            "You have borrowed The Catcher in the Rye by J.D. Salinger.\n",
            "There are 2 books available in the library:\n",
            "To Kill a Mockingbird by Harper Lee\n",
            "The Hitchhiker's Guide to the Galaxy by Douglas Adams\n",
            "You have borrowed To Kill a Mockingbird by Harper Lee.\n",
            "There are 1 books available in the library:\n",
            "The Hitchhiker's Guide to the Galaxy by Douglas Adams\n",
            "You have borrowed The Hitchhiker's Guide to the Galaxy by Douglas Adams.\n",
            "There are no books available in the library.\n",
            "Sorry, The Catcher in the Rye by J.D. Salinger is already borrowed.\n"
          ]
        }
      ]
    },
    {
      "cell_type": "markdown",
      "source": [
        "Problem 5: Product Inventory Create classes representing a product and an inventory system. Implement methods to add products to the inventory, update product quantity, and display available products.\n"
      ],
      "metadata": {
        "id": "GER5HgFwSoIx"
      },
      "id": "GER5HgFwSoIx"
    },
    {
      "cell_type": "code",
      "source": [
        "# Define a class for products\n",
        "class Product:\n",
        "    # Initialize the product with name, price, and quantity\n",
        "    def __init__(self, name, price, quantity):\n",
        "        self.name = name\n",
        "        self.price = price\n",
        "        self.quantity = quantity\n",
        "\n",
        "    # Return a string representation of the product\n",
        "    def __str__(self):\n",
        "        return f\"{self.name} - ${self.price} - {self.quantity} in stock\"\n",
        "\n",
        "# Define a class for inventory\n",
        "class Inventory:\n",
        "    # Initialize the inventory with a list of products\n",
        "    def __init__(self, products):\n",
        "        self.products = products\n",
        "\n",
        "    # Add a product to the inventory\n",
        "    def add_product(self, product):\n",
        "        self.products.append(product)\n",
        "\n",
        "    # Update the quantity of a product in the inventory\n",
        "    def update_product(self, product, new_quantity):\n",
        "        # Check if the product is in the inventory\n",
        "        if product in self.products:\n",
        "            # Update the quantity of the product\n",
        "            product.quantity = new_quantity\n",
        "            # Return a success message\n",
        "            return f\"The quantity of {product.name} has been updated to {product.quantity}.\"\n",
        "        else:\n",
        "            # Return a failure message\n",
        "            return f\"Sorry, {product.name} is not in the inventory.\"\n",
        "\n",
        "    # Display the available products in the inventory\n",
        "    def display_products(self):\n",
        "        # Create an empty list to store the available products\n",
        "        available_products = []\n",
        "        # Loop through the products in the inventory\n",
        "        for product in self.products:\n",
        "            # Check if the product has positive quantity\n",
        "            if product.quantity > 0:\n",
        "                # Add the product to the list\n",
        "                available_products.append(product)\n",
        "        # Check if the list is not empty\n",
        "        if available_products:\n",
        "            # Print a message with the number of available products\n",
        "            print(f\"There are {len(available_products)} products available in the inventory:\")\n",
        "            # Loop through the available products and print them\n",
        "            for product in available_products:\n",
        "                print(product)\n",
        "        else:\n",
        "            # Print a message that there are no products available\n",
        "            print(\"There are no products available in the inventory.\")\n",
        "\n",
        "# Create some products\n",
        "product1 = Product(\"Laptop\", 1000, 5)\n",
        "product2 = Product(\"Mouse\", 20, 10)\n",
        "product3 = Product(\"Keyboard\", 50, 8)\n",
        "\n",
        "# Create an inventory with the products\n",
        "inventory = Inventory([product1, product2, product3])\n",
        "\n",
        "# Display the available products in the inventory\n",
        "inventory.display_products()\n",
        "\n",
        "# Add a product to the inventory\n",
        "inventory.add_product(Product(\"Monitor\", 200, 3))\n",
        "\n",
        "# Display the available products in the inventory\n",
        "inventory.display_products()\n",
        "\n",
        "# Update the quantity of a product in the inventory\n",
        "print(inventory.update_product(product1, 3))\n",
        "\n",
        "# Display the available products in the inventory\n",
        "inventory.display_products()\n",
        "\n",
        "# Update the quantity of a product in the inventory\n",
        "print(inventory.update_product(product2, 0))\n",
        "\n",
        "# Display the available products in the inventory\n",
        "inventory.display_products()\n"
      ],
      "metadata": {
        "colab": {
          "base_uri": "https://localhost:8080/"
        },
        "id": "MQH64I_JSr7E",
        "outputId": "1317c3c0-efe2-4479-83bf-bde37db6d369"
      },
      "id": "MQH64I_JSr7E",
      "execution_count": 27,
      "outputs": [
        {
          "output_type": "stream",
          "name": "stdout",
          "text": [
            "There are 3 products available in the inventory:\n",
            "Laptop - $1000 - 5 in stock\n",
            "Mouse - $20 - 10 in stock\n",
            "Keyboard - $50 - 8 in stock\n",
            "There are 4 products available in the inventory:\n",
            "Laptop - $1000 - 5 in stock\n",
            "Mouse - $20 - 10 in stock\n",
            "Keyboard - $50 - 8 in stock\n",
            "Monitor - $200 - 3 in stock\n",
            "The quantity of Laptop has been updated to 3.\n",
            "There are 4 products available in the inventory:\n",
            "Laptop - $1000 - 3 in stock\n",
            "Mouse - $20 - 10 in stock\n",
            "Keyboard - $50 - 8 in stock\n",
            "Monitor - $200 - 3 in stock\n",
            "The quantity of Mouse has been updated to 0.\n",
            "There are 3 products available in the inventory:\n",
            "Laptop - $1000 - 3 in stock\n",
            "Keyboard - $50 - 8 in stock\n",
            "Monitor - $200 - 3 in stock\n"
          ]
        }
      ]
    },
    {
      "cell_type": "markdown",
      "source": [
        "Problem 6: Shape Calculation Create a class representing a shape with attributes like length, width, and height. Implement methods to calculate the area and perimeter of the shape.\n"
      ],
      "metadata": {
        "id": "J5Y1SCANTpLP"
      },
      "id": "J5Y1SCANTpLP"
    },
    {
      "cell_type": "code",
      "source": [
        "# Define a class for shapes\n",
        "class Shape:\n",
        "    # Initialize the shape with length, width, and height\n",
        "    def __init__(self, length, width, height):\n",
        "        self.length = length\n",
        "        self.width = width\n",
        "        self.height = height\n",
        "\n",
        "    # Calculate the area of the shape\n",
        "    def area(self):\n",
        "        # Check if the shape is a rectangle or a square\n",
        "        if self.height == 0:\n",
        "            # Return the product of length and width\n",
        "            return self.length * self.width\n",
        "        # Check if the shape is a triangle\n",
        "        elif self.width == 0:\n",
        "            # Return half of the product of length and height\n",
        "            return 0.5 * self.length * self.height\n",
        "        # Otherwise, the shape is a cuboid\n",
        "        else:\n",
        "            # Return the sum of the areas of the six faces\n",
        "            return 2 * (self.length * self.width + self.length * self.height + self.width * self.height)\n",
        "\n",
        "    # Calculate the perimeter of the shape\n",
        "    def perimeter(self):\n",
        "        # Check if the shape is a rectangle or a square\n",
        "        if self.height == 0:\n",
        "            # Return twice the sum of length and width\n",
        "            return 2 * (self.length + self.width)\n",
        "        # Check if the shape is a triangle\n",
        "        elif self.width == 0:\n",
        "            # Return the sum of the length and the two sides\n",
        "            return self.length + 2 * ((self.length ** 2 + self.height ** 2) ** 0.5)\n",
        "        # Otherwise, the shape is a cuboid\n",
        "        else:\n",
        "            # Return the sum of the lengths of the twelve edges\n",
        "            return 4 * (self.length + self.width + self.height)\n",
        "\n",
        "# Create some shapes\n",
        "shape1 = Shape(10, 0, 8) # A triangle with base 10 and height 8\n",
        "shape2 = Shape(5, 5, 0) # A square with side 5\n",
        "shape3 = Shape(4, 3, 2) # A cuboid with length 4, width 3, and height 2\n",
        "\n",
        "# Print the area and perimeter of each shape\n",
        "print(f\"The area of shape1 is {shape1.area()} and the perimeter is {shape1.perimeter()}.\")\n",
        "print(f\"The area of shape2 is {shape2.area()} and the perimeter is {shape2.perimeter()}.\")\n",
        "print(f\"The area of shape3 is {shape3.area()} and the perimeter is {shape3.perimeter()}.\")\n"
      ],
      "metadata": {
        "colab": {
          "base_uri": "https://localhost:8080/"
        },
        "id": "x6k8XlNNTj7o",
        "outputId": "41a7142c-d75f-403b-9db4-c9b76bef8138"
      },
      "id": "x6k8XlNNTj7o",
      "execution_count": 29,
      "outputs": [
        {
          "output_type": "stream",
          "name": "stdout",
          "text": [
            "The area of shape1 is 40.0 and the perimeter is 35.612496949731394.\n",
            "The area of shape2 is 25 and the perimeter is 20.\n",
            "The area of shape3 is 52 and the perimeter is 36.\n"
          ]
        }
      ]
    },
    {
      "cell_type": "markdown",
      "source": [
        "Problem 7: Student Management Create a class representing a student with attributes like student ID, name, and grades. Implement methods to calculate the average grade and display student details.\n"
      ],
      "metadata": {
        "id": "yz4jxoZHVjxT"
      },
      "id": "yz4jxoZHVjxT"
    },
    {
      "cell_type": "code",
      "source": [
        "# Define a class for students\n",
        "class Student:\n",
        "    # Initialize the student with student ID, name, and grades\n",
        "    def __init__(self, student_id, name, grades):\n",
        "        self.student_id = student_id\n",
        "        self.name = name\n",
        "        self.grades = grades\n",
        "\n",
        "    # Calculate the average grade of the student\n",
        "    def average_grade(self):\n",
        "        # Check if the grades list is not empty\n",
        "        if self.grades:\n",
        "            # Return the sum of the grades divided by the number of grades\n",
        "            return sum(self.grades) / len(self.grades)\n",
        "        else:\n",
        "            # Return zero\n",
        "            return 0\n",
        "\n",
        "    # Display the student details\n",
        "    def display_details(self):\n",
        "        # Print the student ID, name, and average grade\n",
        "        print(f\"Student ID: {self.student_id}\")\n",
        "        print(f\"Name: {self.name}\")\n",
        "        print(f\"Average Grade: {self.average_grade()}\")\n",
        "\n",
        "# Create some students\n",
        "student1 = Student(101, \"Alice\", [90, 85, 95])\n",
        "student2 = Student(102, \"Bob\", [80, 75, 70])\n",
        "student3 = Student(103, \"Charlie\", [])\n",
        "\n",
        "# Display the details of each student\n",
        "student1.display_details()\n",
        "student2.display_details()\n",
        "student3.display_details()\n"
      ],
      "metadata": {
        "colab": {
          "base_uri": "https://localhost:8080/"
        },
        "id": "HPZVAwlBT42Y",
        "outputId": "029db6ee-ba67-4a8a-953b-0ca00b9f6402"
      },
      "id": "HPZVAwlBT42Y",
      "execution_count": 30,
      "outputs": [
        {
          "output_type": "stream",
          "name": "stdout",
          "text": [
            "Student ID: 101\n",
            "Name: Alice\n",
            "Average Grade: 90.0\n",
            "Student ID: 102\n",
            "Name: Bob\n",
            "Average Grade: 75.0\n",
            "Student ID: 103\n",
            "Name: Charlie\n",
            "Average Grade: 0\n"
          ]
        }
      ]
    },
    {
      "cell_type": "markdown",
      "source": [
        "Problem 8: Email Management Create a class representing an email with attributes like sender, recipient, and subject. Implement methods to send an email and display email details.\n"
      ],
      "metadata": {
        "id": "KuTvtaosV2X9"
      },
      "id": "KuTvtaosV2X9"
    },
    {
      "cell_type": "code",
      "source": [
        "# Define a class for emails\n",
        "class Email:\n",
        "    # Initialize the email with sender, recipient, and subject\n",
        "    def __init__(self, sender, recipient, subject):\n",
        "        self.sender = sender\n",
        "        self.recipient = recipient\n",
        "        self.subject = subject\n",
        "        self.body = \"\"\n",
        "\n",
        "    # Add text to the email body\n",
        "    def add_text(self, text):\n",
        "        self.body += text\n",
        "\n",
        "    # Send the email\n",
        "    def send(self):\n",
        "        # Print a message that the email is sent\n",
        "        print(f\"Email sent from {self.sender} to {self.recipient} with subject '{self.subject}'.\")\n",
        "        # Print the email body\n",
        "        print(self.body)\n",
        "\n",
        "    # Display the email details\n",
        "    def display_details(self):\n",
        "        # Print the sender, recipient, and subject\n",
        "        print(f\"Sender: {self.sender}\")\n",
        "        print(f\"Recipient: {self.recipient}\")\n",
        "        print(f\"Subject: {self.subject}\")\n",
        "\n",
        "# Create an email\n",
        "email = Email(\"alice@example.com\", \"bob@example.com\", \"Hello\")\n",
        "\n",
        "# Add some text to the email body\n",
        "email.add_text(\"Hi Bob,\\n\")\n",
        "email.add_text(\"How are you?\\n\")\n",
        "email.add_text(\"Best,\\n\")\n",
        "email.add_text(\"Alice\")\n",
        "\n",
        "# Display the email details\n",
        "email.display_details()\n",
        "\n",
        "# Send the email\n",
        "email.send()\n"
      ],
      "metadata": {
        "colab": {
          "base_uri": "https://localhost:8080/"
        },
        "id": "EX9qfOYcVlq2",
        "outputId": "08641b03-0cb8-4f47-cab8-ec970fd3ccac"
      },
      "id": "EX9qfOYcVlq2",
      "execution_count": 31,
      "outputs": [
        {
          "output_type": "stream",
          "name": "stdout",
          "text": [
            "Sender: alice@example.com\n",
            "Recipient: bob@example.com\n",
            "Subject: Hello\n",
            "Email sent from alice@example.com to bob@example.com with subject 'Hello'.\n",
            "Hi Bob,\n",
            "How are you?\n",
            "Best,\n",
            "Alice\n"
          ]
        }
      ]
    },
    {
      "cell_type": "markdown",
      "source": [
        "Problem 9: Social Media Profile Create a class representing a social media profile with attributes like username and posts. Implement methods to add posts, display posts, and search for posts by keyword.\n"
      ],
      "metadata": {
        "id": "opMhjMGWWKqH"
      },
      "id": "opMhjMGWWKqH"
    },
    {
      "cell_type": "code",
      "source": [
        "# Define a class for social media profiles\n",
        "class Profile:\n",
        "    # Initialize the profile with username and posts\n",
        "    def __init__(self, username):\n",
        "        self.username = username\n",
        "        self.posts = []\n",
        "\n",
        "    # Add a post to the profile\n",
        "    def add_post(self, post):\n",
        "        self.posts.append(post)\n",
        "\n",
        "    # Display the posts of the profile\n",
        "    def display_posts(self):\n",
        "        # Check if the posts list is not empty\n",
        "        if self.posts:\n",
        "            # Print a message with the number of posts\n",
        "            print(f\"{self.username} has {len(self.posts)} posts:\")\n",
        "            # Loop through the posts and print them\n",
        "            for post in self.posts:\n",
        "                print(post)\n",
        "        else:\n",
        "            # Print a message that there are no posts\n",
        "            print(f\"{self.username} has no posts.\")\n",
        "\n",
        "    # Search for posts by keyword\n",
        "    def search_posts(self, keyword):\n",
        "        # Create an empty list to store the matching posts\n",
        "        matching_posts = []\n",
        "        # Loop through the posts\n",
        "        for post in self.posts:\n",
        "            # Check if the keyword is in the post\n",
        "            if keyword.lower() in post.lower():\n",
        "                # Add the post to the list\n",
        "                matching_posts.append(post)\n",
        "        # Check if the list is not empty\n",
        "        if matching_posts:\n",
        "            # Print a message with the number of matching posts\n",
        "            print(f\"{self.username} has {len(matching_posts)} posts containing '{keyword}':\")\n",
        "            # Loop through the matching posts and print them\n",
        "            for post in matching_posts:\n",
        "                print(post)\n",
        "        else:\n",
        "            # Print a message that there are no matching posts\n",
        "            print(f\"{self.username} has no posts containing '{keyword}'.\")\n",
        "\n",
        "# Create a profile\n",
        "profile = Profile(\"Alice\")\n",
        "\n",
        "# Add some posts to the profile\n",
        "profile.add_post(\"Hello, world!\")\n",
        "profile.add_post(\"I love Python.\")\n",
        "profile.add_post(\"Today is a beautiful day.\")\n",
        "\n",
        "# Display the posts of the profile\n",
        "profile.display_posts()\n",
        "\n",
        "# Search for posts by keyword\n",
        "profile.search_posts(\"Python\")"
      ],
      "metadata": {
        "colab": {
          "base_uri": "https://localhost:8080/"
        },
        "id": "N6-o7dlQWFsu",
        "outputId": "8e69d508-4c0f-4943-d958-f15de127453f"
      },
      "id": "N6-o7dlQWFsu",
      "execution_count": 32,
      "outputs": [
        {
          "output_type": "stream",
          "name": "stdout",
          "text": [
            "Alice has 3 posts:\n",
            "Hello, world!\n",
            "I love Python.\n",
            "Today is a beautiful day.\n",
            "Alice has 1 posts containing 'Python':\n",
            "I love Python.\n"
          ]
        }
      ]
    },
    {
      "cell_type": "markdown",
      "source": [
        "Problem 10: ToDo List Create a class representing a ToDo list with attributes like tasks and due dates. Implement methods to add tasks, mark tasks as completed, and display pending tasks.\n"
      ],
      "metadata": {
        "id": "MWj6zy4zWu-E"
      },
      "id": "MWj6zy4zWu-E"
    },
    {
      "cell_type": "code",
      "source": [
        "# Define a class for ToDo lists\n",
        "class ToDoList:\n",
        "    # Initialize the ToDo list with tasks and due dates\n",
        "    def __init__(self):\n",
        "        self.tasks = {}\n",
        "        self.due_dates = {}\n",
        "\n",
        "    # Add a task to the ToDo list\n",
        "    def add_task(self, task, due_date):\n",
        "        # Check if the task is already in the ToDo list\n",
        "        if task in self.tasks:\n",
        "            # Return a failure message\n",
        "            return f\"Sorry, {task} is already in the ToDo list.\"\n",
        "        else:\n",
        "            # Add the task and the due date to the ToDo list\n",
        "            self.tasks[task] = False # False means not completed\n",
        "            self.due_dates[task] = due_date\n",
        "            # Return a success message\n",
        "            return f\"{task} has been added to the ToDo list with due date {due_date}.\"\n",
        "\n",
        "    # Mark a task as completed in the ToDo list\n",
        "    def mark_task(self, task):\n",
        "        # Check if the task is in the ToDo list\n",
        "        if task in self.tasks:\n",
        "            # Check if the task is already completed\n",
        "            if self.tasks[task]:\n",
        "                # Return a failure message\n",
        "                return f\"Sorry, {task} is already marked as completed.\"\n",
        "            else:\n",
        "                # Mark the task as completed\n",
        "                self.tasks[task] = True # True means completed\n",
        "                # Return a success message\n",
        "                return f\"{task} has been marked as completed.\"\n",
        "        else:\n",
        "            # Return a failure message\n",
        "            return f\"Sorry, {task} is not in the ToDo list.\"\n",
        "\n",
        "    # Display the pending tasks in the ToDo list\n",
        "    def display_tasks(self):\n",
        "        # Create an empty list to store the pending tasks\n",
        "        pending_tasks = []\n",
        "        # Loop through the tasks in the ToDo list\n",
        "        for task in self.tasks:\n",
        "            # Check if the task is not completed\n",
        "            if not self.tasks[task]:\n",
        "                # Add the task and the due date to the list\n",
        "                pending_tasks.append((task, self.due_dates[task]))\n",
        "        # Check if the list is not empty\n",
        "        if pending_tasks:\n",
        "            # Print a message with the number of pending tasks\n",
        "            print(f\"There are {len(pending_tasks)} pending tasks in the ToDo list:\")\n",
        "            # Loop through the pending tasks and print them\n",
        "            for task, due_date in pending_tasks:\n",
        "                print(f\"{task} - Due on {due_date}\")\n",
        "        else:\n",
        "            # Print a message that there are no pending tasks\n",
        "            print(\"There are no pending tasks in the ToDo list.\")\n",
        "\n",
        "# Create a ToDo list\n",
        "todo_list = ToDoList()\n",
        "\n",
        "# Add some tasks to the ToDo list\n",
        "print(todo_list.add_task(\"Buy groceries\", \"2023-12-03\"))\n",
        "print(todo_list.add_task(\"Pay bills\", \"2023-12-05\"))\n",
        "print(todo_list.add_task(\"Clean the house\", \"2023-12-07\"))\n",
        "\n",
        "# Display the pending tasks in the ToDo list\n",
        "todo_list.display_tasks()\n",
        "\n",
        "# Mark a task as completed in the ToDo list\n",
        "print(todo_list.mark_task(\"Buy groceries\"))\n",
        "\n",
        "# Display the pending tasks in the ToDo list\n",
        "todo_list.display_tasks()\n"
      ],
      "metadata": {
        "colab": {
          "base_uri": "https://localhost:8080/"
        },
        "id": "sgAg4GsZWq2N",
        "outputId": "e48ad410-2c09-482b-9977-e2eb8bb9941c"
      },
      "id": "sgAg4GsZWq2N",
      "execution_count": 33,
      "outputs": [
        {
          "output_type": "stream",
          "name": "stdout",
          "text": [
            "Buy groceries has been added to the ToDo list with due date 2023-12-03.\n",
            "Pay bills has been added to the ToDo list with due date 2023-12-05.\n",
            "Clean the house has been added to the ToDo list with due date 2023-12-07.\n",
            "There are 3 pending tasks in the ToDo list:\n",
            "Buy groceries - Due on 2023-12-03\n",
            "Pay bills - Due on 2023-12-05\n",
            "Clean the house - Due on 2023-12-07\n",
            "Buy groceries has been marked as completed.\n",
            "There are 2 pending tasks in the ToDo list:\n",
            "Pay bills - Due on 2023-12-05\n",
            "Clean the house - Due on 2023-12-07\n"
          ]
        }
      ]
    },
    {
      "cell_type": "code",
      "source": [],
      "metadata": {
        "id": "MdIWJhNxXRz9"
      },
      "id": "MdIWJhNxXRz9",
      "execution_count": null,
      "outputs": []
    }
  ],
  "metadata": {
    "kernelspec": {
      "display_name": "Python 3 (ipykernel)",
      "language": "python",
      "name": "python3"
    },
    "language_info": {
      "codemirror_mode": {
        "name": "ipython",
        "version": 3
      },
      "file_extension": ".py",
      "mimetype": "text/x-python",
      "name": "python",
      "nbconvert_exporter": "python",
      "pygments_lexer": "ipython3",
      "version": "3.10.8"
    },
    "colab": {
      "provenance": []
    }
  },
  "nbformat": 4,
  "nbformat_minor": 5
}