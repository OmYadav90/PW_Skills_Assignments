{
  "nbformat": 4,
  "nbformat_minor": 0,
  "metadata": {
    "colab": {
      "provenance": []
    },
    "kernelspec": {
      "name": "python3",
      "display_name": "Python 3"
    },
    "language_info": {
      "name": "python"
    }
  },
  "cells": [
    {
      "cell_type": "markdown",
      "source": [
        "1. Given an array, check if it contains any duplicates or not.\n",
        "arr = [1, 2, 4, 2, 5, 9]\n",
        "Output = True"
      ],
      "metadata": {
        "id": "gJ0-6cswND_m"
      }
    },
    {
      "cell_type": "code",
      "source": [
        "def has_duplicates(arr):\n",
        "    return len(set(arr)) < len(arr)\n",
        "\n",
        "arr = [1, 2, 4, 2, 5, 9]\n",
        "output = has_duplicates(arr)\n",
        "\n",
        "print(output)"
      ],
      "metadata": {
        "colab": {
          "base_uri": "https://localhost:8080/"
        },
        "id": "ojd62CufNGfA",
        "outputId": "7a1e9f2d-43e9-4d2e-e765-bfef43ba4bb7"
      },
      "execution_count": 1,
      "outputs": [
        {
          "output_type": "stream",
          "name": "stdout",
          "text": [
            "True\n"
          ]
        }
      ]
    },
    {
      "cell_type": "markdown",
      "source": [
        "2. Given an array and an integer k, rotate the array to the right by k steps.\n",
        "arr = [1, 2, 3, 4, 5, 6, 7] k = 3\n",
        "Output = [5, 6, 7, 1, 2, 3, 4]"
      ],
      "metadata": {
        "id": "P-DHWSN9NTO6"
      }
    },
    {
      "cell_type": "code",
      "source": [
        "def rotate_array(arr, k):\n",
        "    n = len(arr)\n",
        "    k = k % n  # To handle cases where k is larger than the length of the array\n",
        "\n",
        "    # Rotate the array using slicing\n",
        "    rotated_arr = arr[-k:] + arr[:-k]\n",
        "\n",
        "    return rotated_arr\n",
        "\n",
        "arr = [1, 2, 3, 4, 5, 6, 7]\n",
        "k = 3\n",
        "output = rotate_array(arr, k)\n",
        "\n",
        "print(output)"
      ],
      "metadata": {
        "colab": {
          "base_uri": "https://localhost:8080/"
        },
        "id": "wmYlg1cwNUIt",
        "outputId": "57cf8f91-5c5c-4ebd-fbde-908ffd45c34c"
      },
      "execution_count": 2,
      "outputs": [
        {
          "output_type": "stream",
          "name": "stdout",
          "text": [
            "[5, 6, 7, 1, 2, 3, 4]\n"
          ]
        }
      ]
    },
    {
      "cell_type": "markdown",
      "source": [
        "3. Reverse the given array in-place, means without using any extra data structure.\n",
        "arr = [2, 4, 5, 7, 9, 12]\n",
        "Output = [12, 9, 7, 5, 4, 2]"
      ],
      "metadata": {
        "id": "89wIpUvWNeTx"
      }
    },
    {
      "cell_type": "code",
      "source": [
        "def reverse_array_in_place(arr):\n",
        "    start = 0\n",
        "    end = len(arr) - 1\n",
        "\n",
        "    while start < end:\n",
        "        # Swap elements at start and end\n",
        "        arr[start], arr[end] = arr[end], arr[start]\n",
        "        start += 1\n",
        "        end -= 1\n",
        "\n",
        "arr = [2, 4, 5, 7, 9, 12]\n",
        "reverse_array_in_place(arr)\n",
        "\n",
        "print(arr)"
      ],
      "metadata": {
        "colab": {
          "base_uri": "https://localhost:8080/"
        },
        "id": "A7XF48j7NZAn",
        "outputId": "2d641aba-9c35-4a93-ca99-c317abbdb6a1"
      },
      "execution_count": 3,
      "outputs": [
        {
          "output_type": "stream",
          "name": "stdout",
          "text": [
            "[12, 9, 7, 5, 4, 2]\n"
          ]
        }
      ]
    },
    {
      "cell_type": "markdown",
      "source": [
        "4. Given an array of integers, find the maximum element in an array\n",
        "arr = [10, 5, 20, 8, 15]\n",
        "Output = 20"
      ],
      "metadata": {
        "id": "lmGGij7yNpMb"
      }
    },
    {
      "cell_type": "code",
      "source": [
        "arr = [10, 5, 20, 8, 15]\n",
        "max_element = max(arr)\n",
        "\n",
        "print(max_element)"
      ],
      "metadata": {
        "colab": {
          "base_uri": "https://localhost:8080/"
        },
        "id": "DrQK_VcTNjXr",
        "outputId": "0402c182-272a-43cb-8b35-7287a9b7d5ea"
      },
      "execution_count": 4,
      "outputs": [
        {
          "output_type": "stream",
          "name": "stdout",
          "text": [
            "20\n"
          ]
        }
      ]
    },
    {
      "cell_type": "markdown",
      "source": [
        "5. Given a sorted array, remove the duplicate element without using any extra data structure.\n",
        "arr = [1, 1, 2, 2, 2, 3, 3, 4, 4, 4, 5, 5]\n",
        "Output = [1, 2, 3, 4, 5]"
      ],
      "metadata": {
        "id": "KRdPaxFZNy8i"
      }
    },
    {
      "cell_type": "code",
      "source": [
        "def remove_duplicates(arr):\n",
        "    if not arr:\n",
        "        return []\n",
        "\n",
        "    # Initialize the index for the non-duplicate elements\n",
        "    index = 0\n",
        "\n",
        "    # Iterate through the array\n",
        "    for i in range(1, len(arr)):\n",
        "        # If the current element is different from the previous one, update the array\n",
        "        if arr[i] != arr[index]:\n",
        "            index += 1\n",
        "            arr[index] = arr[i]\n",
        "\n",
        "    # Return the array up to the non-duplicate index\n",
        "    return arr[:index + 1]\n",
        "\n",
        "arr = [1, 1, 2, 2, 2, 3, 3, 4, 4, 4, 5, 5]\n",
        "output = remove_duplicates(arr)\n",
        "\n",
        "print(output)"
      ],
      "metadata": {
        "colab": {
          "base_uri": "https://localhost:8080/"
        },
        "id": "ySrorSjtNzqB",
        "outputId": "8db60b27-6eb2-4d04-dace-f334c6d7bd2f"
      },
      "execution_count": 5,
      "outputs": [
        {
          "output_type": "stream",
          "name": "stdout",
          "text": [
            "[1, 2, 3, 4, 5]\n"
          ]
        }
      ]
    },
    {
      "cell_type": "code",
      "source": [],
      "metadata": {
        "id": "u05f6WpgN4Wv"
      },
      "execution_count": null,
      "outputs": []
    }
  ]
}