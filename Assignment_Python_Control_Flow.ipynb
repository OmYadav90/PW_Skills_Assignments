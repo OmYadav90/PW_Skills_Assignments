{
  "nbformat": 4,
  "nbformat_minor": 0,
  "metadata": {
    "colab": {
      "provenance": []
    },
    "kernelspec": {
      "name": "python3",
      "display_name": "Python 3"
    },
    "language_info": {
      "name": "python"
    }
  },
  "cells": [
    {
      "cell_type": "code",
      "source": [],
      "metadata": {
        "id": "olBh07qs2ENH"
      },
      "execution_count": null,
      "outputs": []
    },
    {
      "cell_type": "markdown",
      "source": [
        "1. Write a Python program to check if a given number is positive or negative."
      ],
      "metadata": {
        "id": "4Xsq8FiE7AqN"
      }
    },
    {
      "cell_type": "code",
      "source": [
        "# Define a function to check the sign of a number\n",
        "def check_sign(num):\n",
        "  # If the number is zero, print \"Zero\"\n",
        "  if num == 0:\n",
        "    print(\"Zero\")\n",
        "  # If the number is positive, print \"Positive\"\n",
        "  elif num > 0:\n",
        "    print(\"Positive\")\n",
        "  # If the number is negative, print \"Negative\"\n",
        "  else:\n",
        "    print(\"Negative\")\n",
        "\n",
        "# Ask the user to enter a number\n",
        "num = float(input(\"Enter a number: \"))\n",
        "\n",
        "# Call the function with the user input\n",
        "check_sign(num)\n"
      ],
      "metadata": {
        "colab": {
          "base_uri": "https://localhost:8080/"
        },
        "id": "v-zIOV9z7BsI",
        "outputId": "5045daa9-bc3e-424b-b1f3-4dba64b04052"
      },
      "execution_count": null,
      "outputs": [
        {
          "output_type": "stream",
          "name": "stdout",
          "text": [
            "Enter a number: -8\n",
            "Negative\n"
          ]
        }
      ]
    },
    {
      "cell_type": "markdown",
      "source": [
        "2. Create a program that determines if a person is eligible to vote based on their age."
      ],
      "metadata": {
        "id": "8dYWAgj98Afj"
      }
    },
    {
      "cell_type": "code",
      "source": [
        "# Define a function to check the eligibility to vote\n",
        "def check_eligibility(age):\n",
        "  # If the age is less than 18 or equal to 18, print \"You are not eligible to vote.\"\n",
        "  if age <= 18:\n",
        "    print(\"You are not eligible to vote.\")\n",
        "  # If the age is 18 or more, print \"You are eligible to vote.\"\n",
        "  else:\n",
        "    print(\"You are eligible to vote.\")\n",
        "\n",
        "# Ask the user to enter their age\n",
        "age = int(input(\"Enter your age: \"))\n",
        "\n",
        "# Call the function with the user input\n",
        "check_eligibility(age)"
      ],
      "metadata": {
        "colab": {
          "base_uri": "https://localhost:8080/"
        },
        "id": "kiG8_mf07jSd",
        "outputId": "1eb86a8f-8849-4b56-ad63-77594fb12a64"
      },
      "execution_count": null,
      "outputs": [
        {
          "output_type": "stream",
          "name": "stdout",
          "text": [
            "Enter your age: 34\n",
            "You are eligible to vote.\n"
          ]
        }
      ]
    },
    {
      "cell_type": "markdown",
      "source": [
        "3. Develop a program to find the maximum of two numbers using if-else statements."
      ],
      "metadata": {
        "id": "WjvpF-YX8uuW"
      }
    },
    {
      "cell_type": "code",
      "source": [
        "# Define a function to find the maximum of two numbers\n",
        "def find_max(num1, num2):\n",
        "  # If the first number is greater than the second number, return the first number\n",
        "  if num1 > num2:\n",
        "    return num1\n",
        "  # If the second number is greater than or equal to the first number, return the second number\n",
        "  else:\n",
        "    return num2\n",
        "\n",
        "# Ask the user to enter two numbers\n",
        "num1 = float(input(\"Enter the first number: \"))\n",
        "num2 = float(input(\"Enter the second number: \"))\n",
        "\n",
        "# Call the function with the user input and print the result\n",
        "max_num = find_max(num1, num2)\n",
        "print(\"The maximum of\", num1, \"and\", num2, \"is\", max_num)"
      ],
      "metadata": {
        "colab": {
          "base_uri": "https://localhost:8080/"
        },
        "id": "gdXFX9vz8ctm",
        "outputId": "2bdbfe42-83f0-4f56-cbce-699607ff4984"
      },
      "execution_count": null,
      "outputs": [
        {
          "output_type": "stream",
          "name": "stdout",
          "text": [
            "Enter the first number: 23\n",
            "Enter the second number: 12\n",
            "The maximum of 23.0 and 12.0 is 23.0\n"
          ]
        }
      ]
    },
    {
      "cell_type": "code",
      "source": [],
      "metadata": {
        "id": "MC0ouVVz89z2"
      },
      "execution_count": null,
      "outputs": []
    },
    {
      "cell_type": "markdown",
      "source": [
        "4. Write a Python script to classify a given year as a leap year or not."
      ],
      "metadata": {
        "id": "oZaaso3G9LpD"
      }
    },
    {
      "cell_type": "code",
      "source": [
        "# Define a function to check if a year is a leap year\n",
        "def check_leap_year(year):\n",
        "  # A leap year is divisible by 4, except if it is also divisible by 100 and not divisible by 400\n",
        "  # If the year is divisible by 4 and not divisible by 100, or divisible by 400, it is a leap year\n",
        "  if (year % 4 == 0 and year % 100 != 0) or (year % 400 == 0):\n",
        "    return True\n",
        "  # Otherwise, it is not a leap year\n",
        "  else:\n",
        "    return False\n",
        "\n",
        "# Ask the user to enter a year\n",
        "year = int(input(\"Enter a year: \"))\n",
        "\n",
        "# Call the function with the user input and print the result\n",
        "is_leap_year = check_leap_year(year)\n",
        "if is_leap_year:\n",
        "  print(year, \"is a leap year.\")\n",
        "else:\n",
        "  print(year, \"is not a leap year.\")"
      ],
      "metadata": {
        "colab": {
          "base_uri": "https://localhost:8080/"
        },
        "id": "iKe0HMVI9ML2",
        "outputId": "dedc4df4-3b8c-49f0-b18a-195e864858bc"
      },
      "execution_count": null,
      "outputs": [
        {
          "output_type": "stream",
          "name": "stdout",
          "text": [
            "Enter a year: 2018\n",
            "2018 is not a leap year.\n"
          ]
        }
      ]
    },
    {
      "cell_type": "code",
      "source": [],
      "metadata": {
        "id": "2k4YTnG49T5U"
      },
      "execution_count": null,
      "outputs": []
    },
    {
      "cell_type": "markdown",
      "source": [
        "\\5. Create a program that checks whether a character is a vowel or a consonant."
      ],
      "metadata": {
        "id": "4IyIMb4i9uet"
      }
    },
    {
      "cell_type": "code",
      "source": [
        "def check_vowel_or_consonant(char):\n",
        "    # Convert the character to lowercase to handle both upper and lower case\n",
        "    char = char.lower()\n",
        "\n",
        "    # Check if the character is a vowel\n",
        "    if char in ('a', 'e', 'i', 'o', 'u'):\n",
        "        return f\"{char} is a vowel.\"\n",
        "    # Check if the character is a consonant\n",
        "    elif char.isalpha():\n",
        "        return f\"{char} is a consonant.\"\n",
        "    # If the character is not a letter\n",
        "    else:\n",
        "        return f\"{char} is not a valid letter.\"\n",
        "\n",
        "# Example usage:\n",
        "user_input = input(\"Enter a character: \")\n",
        "result = check_vowel_or_consonant(user_input)\n",
        "print(result)"
      ],
      "metadata": {
        "colab": {
          "base_uri": "https://localhost:8080/"
        },
        "id": "TMTPZCo_9xNI",
        "outputId": "540333a7-248f-40b0-c44d-045a0f48c9e0"
      },
      "execution_count": 1,
      "outputs": [
        {
          "output_type": "stream",
          "name": "stdout",
          "text": [
            "Enter a character: om yadav\n",
            "om yadav is not a valid letter.\n"
          ]
        }
      ]
    },
    {
      "cell_type": "code",
      "source": [],
      "metadata": {
        "id": "cEjyRpH2Bj1h"
      },
      "execution_count": null,
      "outputs": []
    },
    {
      "cell_type": "markdown",
      "source": [
        "6. Implement a program to determine whether a given number is even or odd."
      ],
      "metadata": {
        "id": "BHhBpc3FB-SF"
      }
    },
    {
      "cell_type": "code",
      "source": [
        "def check_even_or_odd(number):\n",
        "    # Check if the number is even\n",
        "    if number % 2 == 0:\n",
        "        return f\"{number} is an even number.\"\n",
        "    # If the number is not even, it must be odd\n",
        "    else:\n",
        "        return f\"{number} is an odd number.\"\n",
        "\n",
        "# Example usage:\n",
        "user_input = int(input(\"Enter a number: \"))\n",
        "result = check_even_or_odd(user_input)\n",
        "print(result)"
      ],
      "metadata": {
        "colab": {
          "base_uri": "https://localhost:8080/"
        },
        "id": "pRfCX6MfB-r_",
        "outputId": "844a32f3-34ad-49a7-c8cd-3c1b923a4b99"
      },
      "execution_count": 2,
      "outputs": [
        {
          "output_type": "stream",
          "name": "stdout",
          "text": [
            "Enter a number: 31\n",
            "31 is an odd number.\n"
          ]
        }
      ]
    },
    {
      "cell_type": "markdown",
      "source": [
        "7. Write a Python function to calculate the absolute value of a number without using the `abs()` function."
      ],
      "metadata": {
        "id": "_rCHdlvNCOcw"
      }
    },
    {
      "cell_type": "code",
      "source": [
        "def calculate_absolute_value(number):\n",
        "    # Check if the number is negative\n",
        "    if number < 0:\n",
        "        return -number\n",
        "    # If the number is non-negative, it is already absolute\n",
        "    else:\n",
        "        return number\n",
        "\n",
        "# Example usage:\n",
        "user_input = float(input(\"Enter a number: \"))\n",
        "result = calculate_absolute_value(user_input)\n",
        "print(f\"The absolute value of {user_input} is {result}.\")"
      ],
      "metadata": {
        "colab": {
          "base_uri": "https://localhost:8080/"
        },
        "id": "W-7mPToVCPDw",
        "outputId": "6e03b378-3bfc-4374-e0f8-0fe87a11f131"
      },
      "execution_count": 3,
      "outputs": [
        {
          "output_type": "stream",
          "name": "stdout",
          "text": [
            "Enter a number: 23\n",
            "The absolute value of 23.0 is 23.0.\n"
          ]
        }
      ]
    },
    {
      "cell_type": "markdown",
      "source": [
        "8. Develop a program that determines the largest of three given numbers using if-else statements."
      ],
      "metadata": {
        "id": "HwMKcb35CdmD"
      }
    },
    {
      "cell_type": "code",
      "source": [
        "def find_largest_number(num1, num2, num3):\n",
        "    # Compare the numbers using if-else statements\n",
        "    if num1 >= num2 and num1 >= num3:\n",
        "        return f\"{num1} is the largest number.\"\n",
        "    elif num2 >= num1 and num2 >= num3:\n",
        "        return f\"{num2} is the largest number.\"\n",
        "    else:\n",
        "        return f\"{num3} is the largest number.\"\n",
        "\n",
        "# Example usage:\n",
        "num1 = float(input(\"Enter the first number: \"))\n",
        "num2 = float(input(\"Enter the second number: \"))\n",
        "num3 = float(input(\"Enter the third number: \"))\n",
        "\n",
        "result = find_largest_number(num1, num2, num3)\n",
        "print(result)"
      ],
      "metadata": {
        "colab": {
          "base_uri": "https://localhost:8080/"
        },
        "id": "WIQLidZtCeGC",
        "outputId": "56a95af3-f3e1-4cb5-9d2e-783b89f039a0"
      },
      "execution_count": 4,
      "outputs": [
        {
          "output_type": "stream",
          "name": "stdout",
          "text": [
            "Enter the first number: 787\n",
            "Enter the second number: 899\n",
            "Enter the third number: 900\n",
            "900.0 is the largest number.\n"
          ]
        }
      ]
    },
    {
      "cell_type": "markdown",
      "source": [
        "9. Create a program that checks if a given string is a palindrome."
      ],
      "metadata": {
        "id": "Vip8R3aPCwr4"
      }
    },
    {
      "cell_type": "code",
      "source": [
        "def is_palindrome(input_string):\n",
        "    # Remove spaces and convert to lowercase for case-insensitive comparison\n",
        "    cleaned_string = input_string.replace(\" \", \"\").lower()\n",
        "\n",
        "    # Check if the cleaned string is equal to its reverse\n",
        "    return cleaned_string == cleaned_string[::-1]\n",
        "\n",
        "# Example usage:\n",
        "user_input = input(\"Enter a string: \")\n",
        "if is_palindrome(user_input):\n",
        "    print(f\"{user_input} is a palindrome.\")\n",
        "else:\n",
        "    print(f\"{user_input} is not a palindrome.\")"
      ],
      "metadata": {
        "colab": {
          "base_uri": "https://localhost:8080/"
        },
        "id": "SqKzN-4pCxIZ",
        "outputId": "000bd26d-2394-41a5-f21a-974750f43b2d"
      },
      "execution_count": 5,
      "outputs": [
        {
          "output_type": "stream",
          "name": "stdout",
          "text": [
            "Enter a string: pwskills\n",
            "pwskills is not a palindrome.\n"
          ]
        }
      ]
    },
    {
      "cell_type": "markdown",
      "source": [
        "10. Write a Python program to calculate the grade based on a student's score."
      ],
      "metadata": {
        "id": "Q538rfrcDVNu"
      }
    },
    {
      "cell_type": "code",
      "source": [
        "def calculate_grade(score):\n",
        "    # Define grade ranges and corresponding letters\n",
        "    grade_ranges = [(90, 'A'), (80, 'B'), (70, 'C'), (60, 'D')]\n",
        "\n",
        "    # Check the score against grade ranges\n",
        "    for cutoff, grade in grade_ranges:\n",
        "        if score >= cutoff:\n",
        "            return f\"Score {score} corresponds to grade {grade}.\"\n",
        "\n",
        "    # If the score is below the lowest range, assign an 'F' grade\n",
        "    return f\"Score {score} corresponds to grade F.\"\n",
        "\n",
        "# Example usage:\n",
        "user_score = float(input(\"Enter the student's score: \"))\n",
        "result = calculate_grade(user_score)\n",
        "print(result)"
      ],
      "metadata": {
        "colab": {
          "base_uri": "https://localhost:8080/"
        },
        "id": "dvX7xsfEC1zs",
        "outputId": "342347bc-d8a1-4d3c-b693-e948d4e5f64a"
      },
      "execution_count": 6,
      "outputs": [
        {
          "output_type": "stream",
          "name": "stdout",
          "text": [
            "Enter the student's score: 89\n",
            "Score 89.0 corresponds to grade B.\n"
          ]
        }
      ]
    },
    {
      "cell_type": "markdown",
      "source": [
        "11. Write a program to find the largest among three numbers using nested if-else statements."
      ],
      "metadata": {
        "id": "NyKahyh9Dr6f"
      }
    },
    {
      "cell_type": "code",
      "source": [
        "def find_largest_number(num1, num2, num3):\n",
        "    # Compare the numbers using nested if-else statements\n",
        "    if num1 >= num2:\n",
        "        if num1 >= num3:\n",
        "            return f\"{num1} is the largest number.\"\n",
        "        else:\n",
        "            return f\"{num3} is the largest number.\"\n",
        "    else:\n",
        "        if num2 >= num3:\n",
        "            return f\"{num2} is the largest number.\"\n",
        "        else:\n",
        "            return f\"{num3} is the largest number.\"\n",
        "\n",
        "# Example usage:\n",
        "num1 = float(input(\"Enter the first number: \"))\n",
        "num2 = float(input(\"Enter the second number: \"))\n",
        "num3 = float(input(\"Enter the third number: \"))\n",
        "\n",
        "result = find_largest_number(num1, num2, num3)\n",
        "print(result)"
      ],
      "metadata": {
        "colab": {
          "base_uri": "https://localhost:8080/"
        },
        "id": "AV0svkOQDM7x",
        "outputId": "1f9f87d4-6079-4235-9807-4c4e40688e12"
      },
      "execution_count": 7,
      "outputs": [
        {
          "output_type": "stream",
          "name": "stdout",
          "text": [
            "Enter the first number: 23\n",
            "Enter the second number: 34\n",
            "Enter the third number: 45\n",
            "45.0 is the largest number.\n"
          ]
        }
      ]
    },
    {
      "cell_type": "code",
      "source": [],
      "metadata": {
        "id": "BwuoUcywD0LC"
      },
      "execution_count": null,
      "outputs": []
    },
    {
      "cell_type": "markdown",
      "source": [
        "12. Implement a program to determine if a triangle is equilateral, isosceles, or scalene."
      ],
      "metadata": {
        "id": "TJYhLcD_Em30"
      }
    },
    {
      "cell_type": "code",
      "source": [
        "def triangle_type(side1, side2, side3):\n",
        "    # Check if it's a valid triangle\n",
        "    if side1 + side2 > side3 and side1 + side3 > side2 and side2 + side3 > side1:\n",
        "        # Check the type of triangle\n",
        "        if side1 == side2 == side3:\n",
        "            return \"Equilateral triangle: all sides are equal.\"\n",
        "        elif side1 == side2 or side1 == side3 or side2 == side3:\n",
        "            return \"Isosceles triangle: two sides are equal.\"\n",
        "        else:\n",
        "            return \"Scalene triangle: no sides are equal.\"\n",
        "    else:\n",
        "        return \"Not a valid triangle.\"\n",
        "\n",
        "# Example usage:\n",
        "side1 = float(input(\"Enter the length of side 1: \"))\n",
        "side2 = float(input(\"Enter the length of side 2: \"))\n",
        "side3 = float(input(\"Enter the length of side 3: \"))\n",
        "\n",
        "result = triangle_type(side1, side2, side3)\n",
        "print(result)"
      ],
      "metadata": {
        "colab": {
          "base_uri": "https://localhost:8080/"
        },
        "id": "r2ZMUc4VEn0e",
        "outputId": "a7fd554e-20b8-4ff5-d4cf-74bef2d03896"
      },
      "execution_count": 8,
      "outputs": [
        {
          "output_type": "stream",
          "name": "stdout",
          "text": [
            "Enter the length of side 1: 23\n",
            "Enter the length of side 2: 24\n",
            "Enter the length of side 3: 34\n",
            "Scalene triangle: no sides are equal.\n"
          ]
        }
      ]
    },
    {
      "cell_type": "code",
      "source": [],
      "metadata": {
        "id": "LLK85BsFFFoU"
      },
      "execution_count": null,
      "outputs": []
    },
    {
      "cell_type": "markdown",
      "source": [
        "13. Develop a program that checks if a year is a leap year and also if it is a century year.\n"
      ],
      "metadata": {
        "id": "QRUIjziyFkRM"
      }
    },
    {
      "cell_type": "markdown",
      "source": [],
      "metadata": {
        "id": "rD5HBPZsFk9_"
      }
    },
    {
      "cell_type": "code",
      "source": [
        "def is_leap_year(year):\n",
        "    # Check if it's a leap year\n",
        "    if (year % 4 == 0 and year % 100 != 0) or (year % 400 == 0):\n",
        "        return True\n",
        "    else:\n",
        "        return False\n",
        "\n",
        "def is_century_year(year):\n",
        "    # Check if it's a century year\n",
        "    if year % 100 == 0:\n",
        "        return True\n",
        "    else:\n",
        "        return False\n",
        "\n",
        "# Example usage:\n",
        "user_year = int(input(\"Enter a year: \"))\n",
        "\n",
        "if is_leap_year(user_year):\n",
        "    print(f\"{user_year} is a leap year.\")\n",
        "else:\n",
        "    print(f\"{user_year} is not a leap year.\")\n",
        "\n",
        "if is_century_year(user_year):\n",
        "    print(f\"{user_year} is a century year.\")\n",
        "else:\n",
        "    print(f\"{user_year} is not a century year.\")"
      ],
      "metadata": {
        "colab": {
          "base_uri": "https://localhost:8080/"
        },
        "id": "KBJCzqilF6af",
        "outputId": "cba4423e-81ca-4f78-ad11-34b71a057626"
      },
      "execution_count": 10,
      "outputs": [
        {
          "output_type": "stream",
          "name": "stdout",
          "text": [
            "Enter a year: 2023\n",
            "2023 is not a leap year.\n",
            "2023 is not a century year.\n"
          ]
        }
      ]
    },
    {
      "cell_type": "markdown",
      "source": [
        "14. Write a Python script to determine if a number is positive, negative, or zero."
      ],
      "metadata": {
        "id": "CCfhzwWNG0UF"
      }
    },
    {
      "cell_type": "code",
      "source": [
        "def check_number_sign(number):\n",
        "    if number > 0:\n",
        "        return f\"{number} is a positive number.\"\n",
        "    elif number < 0:\n",
        "        return f\"{number} is a negative number.\"\n",
        "    else:\n",
        "        return f\"{number} is zero.\"\n",
        "\n",
        "# Example usage:\n",
        "user_number = float(input(\"Enter a number: \"))\n",
        "result = check_number_sign(user_number)\n",
        "print(result)"
      ],
      "metadata": {
        "colab": {
          "base_uri": "https://localhost:8080/"
        },
        "id": "zCHCFwaYF7Wl",
        "outputId": "89752320-494e-4a65-a2d9-59b58fb0dfa2"
      },
      "execution_count": 11,
      "outputs": [
        {
          "output_type": "stream",
          "name": "stdout",
          "text": [
            "Enter a number: -25\n",
            "-25.0 is a negative number.\n"
          ]
        }
      ]
    },
    {
      "cell_type": "code",
      "source": [],
      "metadata": {
        "id": "ZP84Cj_UG2l4"
      },
      "execution_count": null,
      "outputs": []
    },
    {
      "cell_type": "markdown",
      "source": [
        "15. Create a program to check if a person is a teenager (between 13 and 19 years old)."
      ],
      "metadata": {
        "id": "haHUIjaeHnQR"
      }
    },
    {
      "cell_type": "code",
      "source": [
        "def is_teenager(age):\n",
        "    if 13 <= age <= 19:\n",
        "        return f\"The person is a teenager (age {age}).\"\n",
        "    else:\n",
        "        return f\"The person is not a teenager (age {age}).\"\n",
        "\n",
        "# Example usage:\n",
        "user_age = int(input(\"Enter the person's age: \"))\n",
        "result = is_teenager(user_age)\n",
        "print(result)"
      ],
      "metadata": {
        "colab": {
          "base_uri": "https://localhost:8080/"
        },
        "id": "uIZarv0THnqx",
        "outputId": "b893fe8a-a1a8-4059-9b7b-9de26cb164e9"
      },
      "execution_count": 12,
      "outputs": [
        {
          "output_type": "stream",
          "name": "stdout",
          "text": [
            "Enter the person's age: 21\n",
            "The person is not a teenager (age 21).\n"
          ]
        }
      ]
    },
    {
      "cell_type": "code",
      "source": [],
      "metadata": {
        "id": "oVwmM4OWHsia"
      },
      "execution_count": null,
      "outputs": []
    },
    {
      "cell_type": "markdown",
      "source": [
        "16. Develop a program that determines the type of angle based on its measure (acute, obtuse, or right)."
      ],
      "metadata": {
        "id": "oCd3lVyDH1wX"
      }
    },
    {
      "cell_type": "code",
      "source": [
        "def angle_type(angle_measure):\n",
        "    if angle_measure < 90:\n",
        "        return f\"The angle with measure {angle_measure} degrees is an acute angle.\"\n",
        "    elif angle_measure == 90:\n",
        "        return f\"The angle with measure {angle_measure} degrees is a right angle.\"\n",
        "    elif angle_measure > 90 and angle_measure < 180:\n",
        "        return f\"The angle with measure {angle_measure} degrees is an obtuse angle.\"\n",
        "    else:\n",
        "        return f\"The angle with measure {angle_measure} degrees is neither acute, obtuse, nor right.\"\n",
        "\n",
        "# Example usage:\n",
        "user_angle = float(input(\"Enter the angle measure in degrees: \"))\n",
        "result = angle_type(user_angle)\n",
        "print(result)"
      ],
      "metadata": {
        "colab": {
          "base_uri": "https://localhost:8080/"
        },
        "id": "PTexjCJmK_yL",
        "outputId": "64e719a3-3d77-45b5-f9e3-e63fa12c24ad"
      },
      "execution_count": 13,
      "outputs": [
        {
          "output_type": "stream",
          "name": "stdout",
          "text": [
            "Enter the angle measure in degrees: 45\n",
            "The angle with measure 45.0 degrees is an acute angle.\n"
          ]
        }
      ]
    },
    {
      "cell_type": "markdown",
      "source": [
        "17. Write a Python program to calculate the roots of a quadratic equation."
      ],
      "metadata": {
        "id": "-f9jr5KZL7-6"
      }
    },
    {
      "cell_type": "code",
      "source": [
        "import math\n",
        "\n",
        "def quadratic_roots(a, b, c):\n",
        "    # Calculate the discriminant\n",
        "    discriminant = b**2 - 4*a*c\n",
        "\n",
        "    # Check the nature of roots based on the discriminant\n",
        "    if discriminant > 0:\n",
        "        root1 = (-b + math.sqrt(discriminant)) / (2*a)\n",
        "        root2 = (-b - math.sqrt(discriminant)) / (2*a)\n",
        "        return f\"The roots are real and distinct: {root1} and {root2}.\"\n",
        "    elif discriminant == 0:\n",
        "        root = -b / (2*a)\n",
        "        return f\"The root is real and equal: {root}.\"\n",
        "    else:\n",
        "        real_part = -b / (2*a)\n",
        "        imaginary_part = math.sqrt(abs(discriminant)) / (2*a)\n",
        "        return f\"The roots are complex: {real_part} + {imaginary_part}i and {real_part} - {imaginary_part}i.\"\n",
        "\n",
        "# Example usage:\n",
        "a = float(input(\"Enter the coefficient a: \"))\n",
        "b = float(input(\"Enter the coefficient b: \"))\n",
        "c = float(input(\"Enter the coefficient c: \"))\n",
        "\n",
        "result = quadratic_roots(a, b, c)\n",
        "print(result)"
      ],
      "metadata": {
        "colab": {
          "base_uri": "https://localhost:8080/"
        },
        "id": "vfZBWLWnL8wo",
        "outputId": "1d6ee28c-b1a8-430f-ce86-7ed4ea86f177"
      },
      "execution_count": 14,
      "outputs": [
        {
          "output_type": "stream",
          "name": "stdout",
          "text": [
            "Enter the coefficient a: 34\n",
            "Enter the coefficient b: 56\n",
            "Enter the coefficient c: 78\n",
            "The roots are complex: -0.8235294117647058 + 1.2711872226455476i and -0.8235294117647058 - 1.2711872226455476i.\n"
          ]
        }
      ]
    },
    {
      "cell_type": "markdown",
      "source": [
        "18. Implement a program to determine the day of the week based on a user-provided number (1 for Monday, 2\n",
        "for Tuesday, etc.)."
      ],
      "metadata": {
        "id": "HYMJZZG4M_4i"
      }
    },
    {
      "cell_type": "code",
      "source": [
        "def get_day_of_week(day_number):\n",
        "    days_of_week = [\"Monday\", \"Tuesday\", \"Wednesday\", \"Thursday\", \"Friday\", \"Saturday\", \"Sunday\"]\n",
        "\n",
        "    if 1 <= day_number <= 7:\n",
        "        return f\"The day corresponding to {day_number} is {days_of_week[day_number - 1]}.\"\n",
        "    else:\n",
        "        return \"Invalid day number. Please enter a number between 1 and 7.\"\n",
        "\n",
        "# Example usage:\n",
        "user_day_number = int(input(\"Enter a number (1 for Monday, 2 for Tuesday, etc.): \"))\n",
        "result = get_day_of_week(user_day_number)\n",
        "print(result)"
      ],
      "metadata": {
        "colab": {
          "base_uri": "https://localhost:8080/"
        },
        "id": "UN0CmacANAwv",
        "outputId": "3118bcb8-78fe-4fe3-eb91-adcb74a43ee2"
      },
      "execution_count": 15,
      "outputs": [
        {
          "output_type": "stream",
          "name": "stdout",
          "text": [
            "Enter a number (1 for Monday, 2 for Tuesday, etc.): 5\n",
            "The day corresponding to 5 is Friday.\n"
          ]
        }
      ]
    },
    {
      "cell_type": "code",
      "source": [],
      "metadata": {
        "id": "Afp125pLNbz0"
      },
      "execution_count": null,
      "outputs": []
    },
    {
      "cell_type": "markdown",
      "source": [
        "19. Create a program that determines if a year is a leap year and also if it is evenly divisible by 400."
      ],
      "metadata": {
        "id": "GsV_z7tmP-p_"
      }
    },
    {
      "cell_type": "code",
      "source": [
        "def is_leap_year(year):\n",
        "    # Check if it's a leap year\n",
        "    if (year % 4 == 0 and year % 100 != 0) or (year % 400 == 0):\n",
        "        return True\n",
        "    else:\n",
        "        return False\n",
        "\n",
        "# Example usage:\n",
        "user_year = int(input(\"Enter a year: \"))\n",
        "\n",
        "if is_leap_year(user_year):\n",
        "    print(f\"{user_year} is a leap year.\")\n",
        "    if user_year % 400 == 0:\n",
        "        print(f\"{user_year} is also evenly divisible by 400.\")\n",
        "else:\n",
        "    print(f\"{user_year} is not a leap year.\")"
      ],
      "metadata": {
        "colab": {
          "base_uri": "https://localhost:8080/"
        },
        "id": "84_YfovmQEBn",
        "outputId": "bd66f6c6-5765-4790-d2b9-b8786d97ba28"
      },
      "execution_count": 17,
      "outputs": [
        {
          "output_type": "stream",
          "name": "stdout",
          "text": [
            "Enter a year: 2024\n",
            "2024 is a leap year.\n"
          ]
        }
      ]
    },
    {
      "cell_type": "markdown",
      "source": [
        "20. Develop a program that checks if a given number is prime or not using nested if-else statements.\n"
      ],
      "metadata": {
        "id": "T-JhArCQRVT8"
      }
    },
    {
      "cell_type": "code",
      "source": [
        "def is_prime(number):\n",
        "    # Check if the number is greater than 1\n",
        "    if number > 1:\n",
        "        # Check for factors\n",
        "        for i in range(2, int(number**0.5) + 1):\n",
        "            if number % i == 0:\n",
        "                return f\"{number} is not a prime number.\"\n",
        "        else:\n",
        "            return f\"{number} is a prime number.\"\n",
        "    else:\n",
        "        return f\"{number} is not a prime number.\"\n",
        "\n",
        "# Example usage:\n",
        "user_number = int(input(\"Enter a number: \"))\n",
        "result = is_prime(user_number)\n",
        "print(result)"
      ],
      "metadata": {
        "colab": {
          "base_uri": "https://localhost:8080/"
        },
        "id": "aoAkC3M8RWeG",
        "outputId": "1c9ceebc-7559-4773-aeef-11d1ba636480"
      },
      "execution_count": 18,
      "outputs": [
        {
          "output_type": "stream",
          "name": "stdout",
          "text": [
            "Enter a number: 22\n",
            "22 is not a prime number.\n"
          ]
        }
      ]
    },
    {
      "cell_type": "markdown",
      "source": [
        "21. Write a Python program to assign grades based on different ranges of scores using elif statements."
      ],
      "metadata": {
        "id": "usF-KwWtRj0g"
      }
    },
    {
      "cell_type": "code",
      "source": [
        "def assign_grade(score):\n",
        "    # Check the score against different ranges and assign grades\n",
        "    if 90 <= score <= 100:\n",
        "        return \"A\"\n",
        "    elif 80 <= score < 90:\n",
        "        return \"B\"\n",
        "    elif 70 <= score < 80:\n",
        "        return \"C\"\n",
        "    elif 60 <= score < 70:\n",
        "        return \"D\"\n",
        "    elif 0 <= score < 60:\n",
        "        return \"F\"\n",
        "    else:\n",
        "        return \"Invalid score. Please enter a score between 0 and 100.\"\n",
        "\n",
        "# Example usage:\n",
        "user_score = float(input(\"Enter the student's score: \"))\n",
        "result = assign_grade(user_score)\n",
        "print(f\"The student's grade is: {result}\")"
      ],
      "metadata": {
        "colab": {
          "base_uri": "https://localhost:8080/"
        },
        "id": "GJPngZA0Rk4P",
        "outputId": "045c4857-e2e7-426c-c46f-cc72c708707a"
      },
      "execution_count": 19,
      "outputs": [
        {
          "output_type": "stream",
          "name": "stdout",
          "text": [
            "Enter the student's score: 34\n",
            "The student's grade is: F\n"
          ]
        }
      ]
    },
    {
      "cell_type": "markdown",
      "source": [
        "22. Implement a program to determine the type of a triangle based on its angles."
      ],
      "metadata": {
        "id": "HJbcQmDDR5CN"
      }
    },
    {
      "cell_type": "code",
      "source": [
        "def triangle_type(angle1, angle2, angle3):\n",
        "    # Check if it's a valid triangle\n",
        "    if angle1 + angle2 + angle3 == 180:\n",
        "        # Check the type of triangle based on angles\n",
        "        if angle1 == 90 or angle2 == 90 or angle3 == 90:\n",
        "            return \"The triangle is a right-angled triangle.\"\n",
        "        elif angle1 > 90 or angle2 > 90 or angle3 > 90:\n",
        "            return \"The triangle is an obtuse-angled triangle.\"\n",
        "        else:\n",
        "            return \"The triangle is an acute-angled triangle.\"\n",
        "    else:\n",
        "        return \"Invalid triangle: the sum of angles should be 180 degrees.\"\n",
        "\n",
        "# Example usage:\n",
        "angle1 = float(input(\"Enter the first angle: \"))\n",
        "angle2 = float(input(\"Enter the second angle: \"))\n",
        "angle3 = float(input(\"Enter the third angle: \"))\n",
        "\n",
        "result = triangle_type(angle1, angle2, angle3)\n",
        "print(result)"
      ],
      "metadata": {
        "colab": {
          "base_uri": "https://localhost:8080/"
        },
        "id": "dOwgw8aXR5iM",
        "outputId": "9a640042-2f0c-42a8-dcd7-71d9e3d5f589"
      },
      "execution_count": 21,
      "outputs": [
        {
          "output_type": "stream",
          "name": "stdout",
          "text": [
            "Enter the first angle: 60\n",
            "Enter the second angle: 45\n",
            "Enter the third angle: 75\n",
            "The triangle is an acute-angled triangle.\n"
          ]
        }
      ]
    },
    {
      "cell_type": "markdown",
      "source": [
        "23. Develop a program to categorize a given person's BMI into underweight, normal, overweight, or obese using\n",
        "elif statements."
      ],
      "metadata": {
        "id": "sxGx8VNeSV0M"
      }
    },
    {
      "cell_type": "code",
      "source": [
        "def categorize_bmi(bmi):\n",
        "    if bmi < 18.5:\n",
        "        return \"Underweight\"\n",
        "    elif 18.5 <= bmi < 24.9:\n",
        "        return \"Normal weight\"\n",
        "    elif 25 <= bmi < 29.9:\n",
        "        return \"Overweight\"\n",
        "    else:\n",
        "        return \"Obese\"\n",
        "\n",
        "# Example usage:\n",
        "weight_kg = float(input(\"Enter your weight in kilograms: \"))\n",
        "height_m = float(input(\"Enter your height in meters: \"))\n",
        "\n",
        "# Calculate BMI (BMI = weight / height^2)\n",
        "bmi = weight_kg / (height_m ** 2)\n",
        "\n",
        "result = categorize_bmi(bmi)\n",
        "print(f\"Your BMI is {bmi:.2f}, and you are categorized as {result}.\")"
      ],
      "metadata": {
        "colab": {
          "base_uri": "https://localhost:8080/"
        },
        "id": "N8ORAjuCR7ll",
        "outputId": "0f63cfdc-7310-48b0-dc25-98eb89302184"
      },
      "execution_count": 22,
      "outputs": [
        {
          "output_type": "stream",
          "name": "stdout",
          "text": [
            "Enter your weight in kilograms: 78\n",
            "Enter your height in meters: 34\n",
            "Your BMI is 0.07, and you are categorized as Underweight.\n"
          ]
        }
      ]
    },
    {
      "cell_type": "code",
      "source": [],
      "metadata": {
        "id": "rCERN9l4ShmN"
      },
      "execution_count": null,
      "outputs": []
    },
    {
      "cell_type": "markdown",
      "source": [],
      "metadata": {
        "id": "1ymuxMCzTe4g"
      }
    },
    {
      "cell_type": "markdown",
      "source": [
        "24. Create a program that determines whether a given number is positive, negative, or zero using elif\n",
        "statements."
      ],
      "metadata": {
        "id": "93-MgistTfEy"
      }
    },
    {
      "cell_type": "code",
      "source": [
        "def check_number_sign(number):\n",
        "    if number > 0:\n",
        "        return f\"{number} is a positive number.\"\n",
        "    elif number < 0:\n",
        "        return f\"{number} is a negative number.\"\n",
        "    else:\n",
        "        return f\"{number} is zero.\"\n",
        "\n",
        "# Example usage:\n",
        "user_number = float(input(\"Enter a number: \"))\n",
        "result = check_number_sign(user_number)\n",
        "print(result)"
      ],
      "metadata": {
        "colab": {
          "base_uri": "https://localhost:8080/"
        },
        "id": "vDFVoZiHTf3y",
        "outputId": "a7f89727-ea5e-4526-e892-94550d6117dd"
      },
      "execution_count": 23,
      "outputs": [
        {
          "output_type": "stream",
          "name": "stdout",
          "text": [
            "Enter a number: 45\n",
            "45.0 is a positive number.\n"
          ]
        }
      ]
    },
    {
      "cell_type": "markdown",
      "source": [
        "25. Write a Python script to determine the type of a character (uppercase, lowercase, or special) using elif\n",
        "statements."
      ],
      "metadata": {
        "id": "U94l7Z9zUFbi"
      }
    },
    {
      "cell_type": "code",
      "source": [
        "def character_type(char):\n",
        "    if char.isupper():\n",
        "        return f\"{char} is an uppercase character.\"\n",
        "    elif char.islower():\n",
        "        return f\"{char} is a lowercase character.\"\n",
        "    else:\n",
        "        return f\"{char} is a special character.\"\n",
        "\n",
        "# Example usage:\n",
        "user_char = input(\"Enter a character: \")\n",
        "\n",
        "# Assuming the user enters a single character\n",
        "if len(user_char) == 1:\n",
        "    result = character_type(user_char)\n",
        "    print(result)\n",
        "else:\n",
        "    print(\"Please enter a single character.\")"
      ],
      "metadata": {
        "colab": {
          "base_uri": "https://localhost:8080/"
        },
        "id": "c54n0VxvUGIC",
        "outputId": "4002336f-d109-4226-c905-e9e0510a7f0c"
      },
      "execution_count": 26,
      "outputs": [
        {
          "output_type": "stream",
          "name": "stdout",
          "text": [
            "Enter a character: O\n",
            "O is an uppercase character.\n"
          ]
        }
      ]
    },
    {
      "cell_type": "markdown",
      "source": [
        "26. Implement a program to calculate the discounted price based on different purchase amounts using elif\n",
        "statements."
      ],
      "metadata": {
        "id": "txffre5iUuJ5"
      }
    },
    {
      "cell_type": "code",
      "source": [
        "def calculate_discounted_price(original_price):\n",
        "    if original_price < 50:\n",
        "        discount_percentage = 0\n",
        "    elif 50 <= original_price < 100:\n",
        "        discount_percentage = 5\n",
        "    elif 100 <= original_price < 200:\n",
        "        discount_percentage = 10\n",
        "    else:\n",
        "        discount_percentage = 15\n",
        "\n",
        "    discount_amount = (discount_percentage / 100) * original_price\n",
        "    discounted_price = original_price - discount_amount\n",
        "\n",
        "    return f\"Original Price: ${original_price:.2f}\\nDiscount Percentage: {discount_percentage}%\\nDiscounted Price: ${discounted_price:.2f}\"\n",
        "\n",
        "# Example usage:\n",
        "user_original_price = float(input(\"Enter the original price of the purchase: \"))\n",
        "result = calculate_discounted_price(user_original_price)\n",
        "print(result)"
      ],
      "metadata": {
        "colab": {
          "base_uri": "https://localhost:8080/"
        },
        "id": "oDkaJBWKUun9",
        "outputId": "96698c63-49e0-41ee-ab1d-877d93e4e0c7"
      },
      "execution_count": 27,
      "outputs": [
        {
          "output_type": "stream",
          "name": "stdout",
          "text": [
            "Enter the original price of the purchase: 356\n",
            "Original Price: $356.00\n",
            "Discount Percentage: 15%\n",
            "Discounted Price: $302.60\n"
          ]
        }
      ]
    },
    {
      "cell_type": "code",
      "source": [],
      "metadata": {
        "id": "hhua1GoaU1QT"
      },
      "execution_count": null,
      "outputs": []
    },
    {
      "cell_type": "markdown",
      "source": [
        "27. Develop a program to calculate the electricity bill based on different consumption slabs using elif\n",
        "statements."
      ],
      "metadata": {
        "id": "U9yfidMMU9w4"
      }
    },
    {
      "cell_type": "code",
      "source": [
        "def calculate_electricity_bill(units_consumed):\n",
        "    if units_consumed <= 50:\n",
        "        rate_per_unit = 2.5\n",
        "    elif 51 <= units_consumed <= 150:\n",
        "        rate_per_unit = 4.5\n",
        "    elif 151 <= units_consumed <= 300:\n",
        "        rate_per_unit = 6\n",
        "    else:\n",
        "        rate_per_unit = 7.5\n",
        "\n",
        "    total_bill = units_consumed * rate_per_unit\n",
        "    return f\"Units Consumed: {units_consumed}\\nRate per Unit: ${rate_per_unit:.2f}\\nTotal Bill: ${total_bill:.2f}\"\n",
        "\n",
        "# Example usage:\n",
        "user_units_consumed = float(input(\"Enter the units consumed: \"))\n",
        "result = calculate_electricity_bill(user_units_consumed)\n",
        "print(result)"
      ],
      "metadata": {
        "id": "js6clIIaU-Gj"
      },
      "execution_count": null,
      "outputs": []
    },
    {
      "cell_type": "markdown",
      "source": [
        "28. Create a program to determine the type of quadrilateral based on its angles and sides using elif\n",
        "statements."
      ],
      "metadata": {
        "id": "NDCDJYbrVyF0"
      }
    },
    {
      "cell_type": "code",
      "source": [
        "def classify_quadrilateral(sides, angles):\n",
        "    if all(angle == 90 for angle in angles):\n",
        "        return \"The quadrilateral is a rectangle.\"\n",
        "    elif all(angle == 90 for angle in angles) and sides[0] == sides[1] == sides[2] == sides[3]:\n",
        "        return \"The quadrilateral is a square.\"\n",
        "    elif any(angle > 90 for angle in angles):\n",
        "        return \"The quadrilateral is an obtuse-angled quadrilateral.\"\n",
        "    elif all(angle < 90 for angle in angles):\n",
        "        return \"The quadrilateral is an acute-angled quadrilateral.\"\n",
        "    else:\n",
        "        return \"The quadrilateral is a general quadrilateral.\"\n",
        "\n",
        "# Example usage:\n",
        "quadrilateral_sides = [float(input(f\"Enter the length of side {i+1}: \")) for i in range(4)]\n",
        "quadrilateral_angles = [float(input(f\"Enter the measure of angle {i+1}: \")) for i in range(4)]\n",
        "\n",
        "result = classify_quadrilateral(quadrilateral_sides, quadrilateral_angles)\n",
        "print(result)"
      ],
      "metadata": {
        "colab": {
          "base_uri": "https://localhost:8080/"
        },
        "id": "7KvcMKmZVy0w",
        "outputId": "0664c494-69b7-4be4-c4af-627f3fd659ed"
      },
      "execution_count": 28,
      "outputs": [
        {
          "output_type": "stream",
          "name": "stdout",
          "text": [
            "Enter the length of side 1: 23\n",
            "Enter the length of side 2: 45\n",
            "Enter the length of side 3: 56\n",
            "Enter the length of side 4: 67\n",
            "Enter the measure of angle 1: 45\n",
            "Enter the measure of angle 2: 34\n",
            "Enter the measure of angle 3: 23\n",
            "Enter the measure of angle 4: 56\n",
            "The quadrilateral is an acute-angled quadrilateral.\n"
          ]
        }
      ]
    },
    {
      "cell_type": "code",
      "source": [],
      "metadata": {
        "id": "HnpcQEORV2C0"
      },
      "execution_count": null,
      "outputs": []
    },
    {
      "cell_type": "markdown",
      "source": [
        "29. Write a Python script to determine the season based on a user-provided month using elif statements."
      ],
      "metadata": {
        "id": "JtQD5nX1WZTn"
      }
    },
    {
      "cell_type": "code",
      "source": [
        "def determine_season(month):\n",
        "    if month in [12, 1, 2]:\n",
        "        return \"Winter\"\n",
        "    elif month in [3, 4, 5]:\n",
        "        return \"Spring\"\n",
        "    elif month in [6, 7, 8]:\n",
        "        return \"Summer\"\n",
        "    elif month in [9, 10, 11]:\n",
        "        return \"Fall\"\n",
        "    else:\n",
        "        return \"Invalid month. Please enter a month between 1 and 12.\"\n",
        "\n",
        "# Example usage:\n",
        "user_month = int(input(\"Enter a month (1-12): \"))\n",
        "result = determine_season(user_month)\n",
        "print(f\"The season for the month {user_month} is {result}.\")"
      ],
      "metadata": {
        "colab": {
          "base_uri": "https://localhost:8080/"
        },
        "id": "l4YqMjt0WZys",
        "outputId": "b0b26b4a-1cd4-427e-f4a9-f31431c0a341"
      },
      "execution_count": 29,
      "outputs": [
        {
          "output_type": "stream",
          "name": "stdout",
          "text": [
            "Enter a month (1-12): 3\n",
            "The season for the month 3 is Spring.\n"
          ]
        }
      ]
    },
    {
      "cell_type": "code",
      "source": [],
      "metadata": {
        "id": "xIeD07OKWf7t"
      },
      "execution_count": null,
      "outputs": []
    },
    {
      "cell_type": "markdown",
      "source": [
        "30. Implement a program to determine the type of a year (leap or common) and month (30 or 31 days) using\n",
        "elif statements."
      ],
      "metadata": {
        "id": "diMn-eM1WqlQ"
      }
    },
    {
      "cell_type": "code",
      "source": [
        "def determine_year_type(year):\n",
        "    if (year % 4 == 0 and year % 100 != 0) or (year % 400 == 0):\n",
        "        return \"Leap year\"\n",
        "    else:\n",
        "        return \"Common year\"\n",
        "\n",
        "def determine_days_in_month(month, year):\n",
        "    if month in [1, 3, 5, 7, 8, 10, 12]:\n",
        "        return 31\n",
        "    elif month in [4, 6, 9, 11]:\n",
        "        return 30\n",
        "    elif month == 2:\n",
        "        if determine_year_type(year) == \"Leap year\":\n",
        "            return 29\n",
        "        else:\n",
        "            return 28\n",
        "    else:\n",
        "        return \"Invalid month. Please enter a month between 1 and 12.\"\n",
        "\n",
        "# Example usage:\n",
        "user_year = int(input(\"Enter a year: \"))\n",
        "user_month = int(input(\"Enter a month (1-12): \"))\n",
        "\n",
        "result_year = determine_year_type(user_year)\n",
        "result_days = determine_days_in_month(user_month, user_year)\n",
        "\n",
        "print(f\"The year {user_year} is a {result_year}.\")\n",
        "print(f\"The month {user_month} has {result_days} days.\")"
      ],
      "metadata": {
        "colab": {
          "base_uri": "https://localhost:8080/"
        },
        "id": "HPy1t0DeWrC4",
        "outputId": "72c424a9-35f3-49ee-b9d7-850a0033e219"
      },
      "execution_count": 30,
      "outputs": [
        {
          "output_type": "stream",
          "name": "stdout",
          "text": [
            "Enter a year: 2021\n",
            "Enter a month (1-12): 4\n",
            "The year 2021 is a Common year.\n",
            "The month 4 has 30 days.\n"
          ]
        }
      ]
    },
    {
      "cell_type": "code",
      "source": [],
      "metadata": {
        "id": "uMDx2H8cWvAT"
      },
      "execution_count": null,
      "outputs": []
    }
  ]
}